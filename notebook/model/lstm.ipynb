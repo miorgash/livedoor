{
 "cells": [
  {
   "cell_type": "code",
   "execution_count": 1,
   "id": "d9f0de66",
   "metadata": {},
   "outputs": [],
   "source": [
    "# primitive\n",
    "import sys\n",
    "import os\n",
    "import pickle\n",
    "import itertools\n",
    "from joblib import Parallel, delayed\n",
    "from pprint import pprint\n",
    "import itertools\n",
    "from collections import Counter\n",
    "from time import time\n",
    "\n",
    "# data handling\n",
    "import numpy as np\n",
    "import pandas as pd\n",
    "import matplotlib.pyplot as plt\n",
    "import seaborn as sns\n",
    "\n",
    "# text\n",
    "import MeCab\n",
    "import spacy\n",
    "import gensim\n",
    "from gensim.models import KeyedVectors\n",
    "\n",
    "# nn\n",
    "import torch\n",
    "from torch import nn\n",
    "from torch.nn.utils.rnn import pad_sequence\n",
    "from torch.utils.data import DataLoader\n",
    "from torchtext.vocab import Vocab\n",
    "\n",
    "# handmade\n",
    "src = '../../src'\n",
    "if src not in sys.path: sys.path.append(src)\n",
    "\n",
    "from const import *"
   ]
  },
  {
   "cell_type": "code",
   "execution_count": 3,
   "id": "7b5ca22d",
   "metadata": {},
   "outputs": [
    {
     "name": "stdout",
     "output_type": "stream",
     "text": [
      "['../../data',\n",
      " '../../model',\n",
      " '../../log',\n",
      " 'cuda',\n",
      " 'mecab',\n",
      " '/usr/lib/x86_64-linux-gnu/mecab/dic/mecab-ipadic-neologd',\n",
      " 'cuda']\n"
     ]
    }
   ],
   "source": [
    "paths = [\n",
    "    DIR_DATA,\n",
    "    DIR_MODEL,\n",
    "    DIR_LOG,\n",
    "    DEVICE,\n",
    "    TOKENIZER,\n",
    "    DIR_MECAB_DIC,\n",
    "    DEVICE\n",
    "]\n",
    "pprint(paths)"
   ]
  },
  {
   "cell_type": "markdown",
   "id": "93fd3178",
   "metadata": {},
   "source": [
    "Functions"
   ]
  },
  {
   "cell_type": "code",
   "execution_count": 5,
   "id": "bca571d1",
   "metadata": {},
   "outputs": [
    {
     "name": "stdout",
     "output_type": "stream",
     "text": [
      "(7366, 2)\n"
     ]
    },
    {
     "data": {
      "text/html": [
       "<div>\n",
       "<style scoped>\n",
       "    .dataframe tbody tr th:only-of-type {\n",
       "        vertical-align: middle;\n",
       "    }\n",
       "\n",
       "    .dataframe tbody tr th {\n",
       "        vertical-align: top;\n",
       "    }\n",
       "\n",
       "    .dataframe thead th {\n",
       "        text-align: right;\n",
       "    }\n",
       "</style>\n",
       "<table border=\"1\" class=\"dataframe\">\n",
       "  <thead>\n",
       "    <tr style=\"text-align: right;\">\n",
       "      <th></th>\n",
       "      <th>media</th>\n",
       "      <th>text</th>\n",
       "    </tr>\n",
       "  </thead>\n",
       "  <tbody>\n",
       "    <tr>\n",
       "      <th>0</th>\n",
       "      <td>3</td>\n",
       "      <td>前回の「プロに聞く“合コンの極意”（前編）　合コンアナリスト水谷麻衣に聞く、合コンの勝ちパタ...</td>\n",
       "    </tr>\n",
       "    <tr>\n",
       "      <th>1</th>\n",
       "      <td>3</td>\n",
       "      <td>「3年で転職は早すぎる？」「将来が見えない」「仕事が面白くない」・・・若手社会人の悩みは尽き...</td>\n",
       "    </tr>\n",
       "    <tr>\n",
       "      <th>2</th>\n",
       "      <td>3</td>\n",
       "      <td>こんにちは、「ビズリーチ年収1000万円研究所」所長の佐藤和男です。この研究所では、年収10...</td>\n",
       "    </tr>\n",
       "    <tr>\n",
       "      <th>3</th>\n",
       "      <td>3</td>\n",
       "      <td>6月7日、表参道のカフェバー「MERCER CAFE TERRACE HOUSE」でHenn...</td>\n",
       "    </tr>\n",
       "    <tr>\n",
       "      <th>4</th>\n",
       "      <td>3</td>\n",
       "      <td>「3年で転職は早すぎる？」「将来が見えない」「仕事が面白くない」・・・若手社会人の悩みは尽き...</td>\n",
       "    </tr>\n",
       "  </tbody>\n",
       "</table>\n",
       "</div>"
      ],
      "text/plain": [
       "   media                                               text\n",
       "0      3  前回の「プロに聞く“合コンの極意”（前編）　合コンアナリスト水谷麻衣に聞く、合コンの勝ちパタ...\n",
       "1      3  「3年で転職は早すぎる？」「将来が見えない」「仕事が面白くない」・・・若手社会人の悩みは尽き...\n",
       "2      3  こんにちは、「ビズリーチ年収1000万円研究所」所長の佐藤和男です。この研究所では、年収10...\n",
       "3      3  6月7日、表参道のカフェバー「MERCER CAFE TERRACE HOUSE」でHenn...\n",
       "4      3  「3年で転職は早すぎる？」「将来が見えない」「仕事が面白くない」・・・若手社会人の悩みは尽き..."
      ]
     },
     "metadata": {},
     "output_type": "display_data"
    },
    {
     "data": {
      "text/html": [
       "<style  type=\"text/css\" >\n",
       "#T_60377_row0_col0,#T_60377_row0_col1,#T_60377_row0_col4,#T_60377_row0_col8{\n",
       "            background-color:  #084488;\n",
       "            color:  #f1f1f1;\n",
       "        }#T_60377_row0_col2{\n",
       "            background-color:  #084990;\n",
       "            color:  #f1f1f1;\n",
       "        }#T_60377_row0_col3{\n",
       "            background-color:  #f7fbff;\n",
       "            color:  #000000;\n",
       "        }#T_60377_row0_col5{\n",
       "            background-color:  #0d57a1;\n",
       "            color:  #f1f1f1;\n",
       "        }#T_60377_row0_col6{\n",
       "            background-color:  #3787c0;\n",
       "            color:  #000000;\n",
       "        }#T_60377_row0_col7{\n",
       "            background-color:  #08306b;\n",
       "            color:  #f1f1f1;\n",
       "        }</style><table id=\"T_60377_\" ><thead>    <tr>        <th class=\"blank level0\" ></th>        <th class=\"col_heading level0 col0\" >0</th>        <th class=\"col_heading level0 col1\" >1</th>        <th class=\"col_heading level0 col2\" >2</th>        <th class=\"col_heading level0 col3\" >3</th>        <th class=\"col_heading level0 col4\" >4</th>        <th class=\"col_heading level0 col5\" >5</th>        <th class=\"col_heading level0 col6\" >6</th>        <th class=\"col_heading level0 col7\" >7</th>        <th class=\"col_heading level0 col8\" >8</th>    </tr></thead><tbody>\n",
       "                <tr>\n",
       "                        <th id=\"T_60377_level0_row0\" class=\"row_heading level0 row0\" >media</th>\n",
       "                        <td id=\"T_60377_row0_col0\" class=\"data row0 col0\" >870</td>\n",
       "                        <td id=\"T_60377_row0_col1\" class=\"data row0 col1\" >870</td>\n",
       "                        <td id=\"T_60377_row0_col2\" class=\"data row0 col2\" >863</td>\n",
       "                        <td id=\"T_60377_row0_col3\" class=\"data row0 col3\" >511</td>\n",
       "                        <td id=\"T_60377_row0_col4\" class=\"data row0 col4\" >870</td>\n",
       "                        <td id=\"T_60377_row0_col5\" class=\"data row0 col5\" >842</td>\n",
       "                        <td id=\"T_60377_row0_col6\" class=\"data row0 col6\" >770</td>\n",
       "                        <td id=\"T_60377_row0_col7\" class=\"data row0 col7\" >900</td>\n",
       "                        <td id=\"T_60377_row0_col8\" class=\"data row0 col8\" >870</td>\n",
       "            </tr>\n",
       "    </tbody></table>"
      ],
      "text/plain": [
       "<pandas.io.formats.style.Styler at 0x7efdaf68fe50>"
      ]
     },
     "metadata": {},
     "output_type": "display_data"
    }
   ],
   "source": [
    "f = os.path.join(DIR_DATA, 'livedoor&text=text.csv')\n",
    "dataset = pd.read_csv(f)\n",
    "\n",
    "# 概観\n",
    "print(dataset.shape)\n",
    "display(dataset.head())\n",
    "display(pd.DataFrame(dataset.media.value_counts()).sort_index().T.style.background_gradient('Blues', axis=1))"
   ]
  },
  {
   "cell_type": "markdown",
   "id": "b6acbc03",
   "metadata": {},
   "source": [
    "Dataset"
   ]
  },
  {
   "cell_type": "code",
   "execution_count": 6,
   "id": "036adfcd",
   "metadata": {
    "scrolled": false
   },
   "outputs": [
    {
     "name": "stdout",
     "output_type": "stream",
     "text": [
      "dataset length 7366\n",
      "dataset sample (4, '昨年7月から9月に掛けてドラマがオンエアされ、3月17日より公開となる映画『桜蘭高校ホスト部』。ドラマ版でおなじみの川口春奈と山本裕典はもちろん、AKB48の篠田麻里子や韓国の“野獣系アイドル”2PMのニックンなど、多彩で豪華な出演者も話題の同作。ドラマ版の主題歌「FRiDAY-MA-MAGiC」に続き、現役女子大生シンガーソングライターのmiwaの手掛ける映画主題歌「いくつになっても」が遂に完成した。初めてスカの要素を取り入れ、パンキッシュで楽しいROCKとなった主題歌「いくつになっても」に関して、miwaは「曲を作る時に撮影直後の映画の映像を見せてもらったのですが、まだ編集中にも関わらず画面から溢れるくらい楽しさが伝わってきて、自分もがんばんなきゃ！と思いながら作りました。もともと原作の大ファンだったので、世界観には自信があります（笑）。映画と同じくこの曲も聞いた人が明るく、元気になってもらえたら嬉しいです。」とコメントを寄せた。miwaは、昨年末に行われたZepp Tokyoでのワンマンライブもチケットが即日完売。2月1日に発売したシングル「片想い」もオリコン・デイリーランキング初登場7位を記録しており、明日4日放送のTBS「CDTV」ほか音楽番組の出演も続々と決まっている。テレビ版の主題歌「FRiDAY-MA-MAGiC」では、明るく激しいガールズロックサウンドが十代の女性を中心に好評価を獲得。映画同様に、スケールアップした彼女が贈る主題歌「いくつになっても」は、映画と共に日本に元気を与えてくれるだろう。2月4日からは、「いくつになっても」を使用した映画の新予告編が全国の劇場にて上映開始。miwaが担当するラジオ番組「miwaのオールナイトニッポン」（ニッポン放送、全国ネット）でも7日深夜25時からの生放送内でいち早くオンエアされる予定。CDの発売は未定だが、22日より着うた(R)での配信が決定している。■関連記事・チケット即完、現役女子大生miwaが『桜蘭高校ホスト部』主題歌を担当')\n"
     ]
    }
   ],
   "source": [
    "# torch Dataset\n",
    "from torch.utils.data.dataset import Dataset\n",
    "class LivedoorDataset(Dataset):\n",
    "    def __init__(self, dataframe):\n",
    "        '''\n",
    "        input:\n",
    "            dataframe: pandas.DataFrame of (label, text) shape.\n",
    "        output:\n",
    "            None\n",
    "        '''\n",
    "        self.label = dataframe.iloc[:, 0]\n",
    "        self.text = dataframe.iloc[:, -1]\n",
    "        \n",
    "    def __len__(self):\n",
    "        return len(self.label)\n",
    "    \n",
    "    def __getitem__(self, idx):\n",
    "        return (self.label[idx], self.text[idx])\n",
    "\n",
    "dataset = LivedoorDataset(dataset)\n",
    "print('dataset length', len(dataset))\n",
    "print('dataset sample', dataset[1000])"
   ]
  },
  {
   "cell_type": "code",
   "execution_count": 7,
   "id": "3ed4a34f",
   "metadata": {},
   "outputs": [],
   "source": [
    "# split dataset\n",
    "from torch.utils.data.dataset import random_split\n",
    "TEST_RATE = 0.20\n",
    "n = len(dataset)\n",
    "n_test = int(np.floor(n * TEST_RATE))\n",
    "n_train = int(n - n_test)\n",
    "train_dataset, test_dataset = \\\n",
    "        random_split(dataset, [n_train, n_test], generator=torch.Generator().manual_seed(12345))"
   ]
  },
  {
   "cell_type": "code",
   "execution_count": 8,
   "id": "bb81847f",
   "metadata": {},
   "outputs": [
    {
     "data": {
      "text/html": [
       "<style  type=\"text/css\" >\n",
       "#T_16fd2_row0_col0{\n",
       "            background-color:  #084a91;\n",
       "            color:  #f1f1f1;\n",
       "        }#T_16fd2_row0_col1,#T_16fd2_row0_col5{\n",
       "            background-color:  #09529d;\n",
       "            color:  #f1f1f1;\n",
       "        }#T_16fd2_row0_col2{\n",
       "            background-color:  #08509b;\n",
       "            color:  #f1f1f1;\n",
       "        }#T_16fd2_row0_col3{\n",
       "            background-color:  #f7fbff;\n",
       "            color:  #000000;\n",
       "        }#T_16fd2_row0_col4{\n",
       "            background-color:  #105ba4;\n",
       "            color:  #f1f1f1;\n",
       "        }#T_16fd2_row0_col6{\n",
       "            background-color:  #2d7dbb;\n",
       "            color:  #000000;\n",
       "        }#T_16fd2_row0_col7{\n",
       "            background-color:  #08306b;\n",
       "            color:  #f1f1f1;\n",
       "        }#T_16fd2_row0_col8{\n",
       "            background-color:  #084990;\n",
       "            color:  #f1f1f1;\n",
       "        }</style><table id=\"T_16fd2_\" ><thead>    <tr>        <th class=\"index_name level0\" >0</th>        <th class=\"col_heading level0 col0\" >0</th>        <th class=\"col_heading level0 col1\" >1</th>        <th class=\"col_heading level0 col2\" >2</th>        <th class=\"col_heading level0 col3\" >3</th>        <th class=\"col_heading level0 col4\" >4</th>        <th class=\"col_heading level0 col5\" >5</th>        <th class=\"col_heading level0 col6\" >6</th>        <th class=\"col_heading level0 col7\" >7</th>        <th class=\"col_heading level0 col8\" >8</th>    </tr></thead><tbody>\n",
       "                <tr>\n",
       "                        <th id=\"T_16fd2_level0_row0\" class=\"row_heading level0 row0\" >1</th>\n",
       "                        <td id=\"T_16fd2_row0_col0\" class=\"data row0 col0\" >698</td>\n",
       "                        <td id=\"T_16fd2_row0_col1\" class=\"data row0 col1\" >687</td>\n",
       "                        <td id=\"T_16fd2_row0_col2\" class=\"data row0 col2\" >690</td>\n",
       "                        <td id=\"T_16fd2_row0_col3\" class=\"data row0 col3\" >392</td>\n",
       "                        <td id=\"T_16fd2_row0_col4\" class=\"data row0 col4\" >675</td>\n",
       "                        <td id=\"T_16fd2_row0_col5\" class=\"data row0 col5\" >688</td>\n",
       "                        <td id=\"T_16fd2_row0_col6\" class=\"data row0 col6\" >632</td>\n",
       "                        <td id=\"T_16fd2_row0_col7\" class=\"data row0 col7\" >732</td>\n",
       "                        <td id=\"T_16fd2_row0_col8\" class=\"data row0 col8\" >699</td>\n",
       "            </tr>\n",
       "    </tbody></table>"
      ],
      "text/plain": [
       "<pandas.io.formats.style.Styler at 0x7efd177aef10>"
      ]
     },
     "metadata": {},
     "output_type": "display_data"
    },
    {
     "data": {
      "text/html": [
       "<style  type=\"text/css\" >\n",
       "#T_5829f_row0_col0{\n",
       "            background-color:  #2f7fbc;\n",
       "            color:  #000000;\n",
       "        }#T_5829f_row0_col1{\n",
       "            background-color:  #0e59a2;\n",
       "            color:  #f1f1f1;\n",
       "        }#T_5829f_row0_col2{\n",
       "            background-color:  #2c7cba;\n",
       "            color:  #000000;\n",
       "        }#T_5829f_row0_col3{\n",
       "            background-color:  #f7fbff;\n",
       "            color:  #000000;\n",
       "        }#T_5829f_row0_col4{\n",
       "            background-color:  #08306b;\n",
       "            color:  #f1f1f1;\n",
       "        }#T_5829f_row0_col5{\n",
       "            background-color:  #7cb7da;\n",
       "            color:  #000000;\n",
       "        }#T_5829f_row0_col6{\n",
       "            background-color:  #c6dbef;\n",
       "            color:  #000000;\n",
       "        }#T_5829f_row0_col7{\n",
       "            background-color:  #3c8cc3;\n",
       "            color:  #000000;\n",
       "        }#T_5829f_row0_col8{\n",
       "            background-color:  #3282be;\n",
       "            color:  #000000;\n",
       "        }</style><table id=\"T_5829f_\" ><thead>    <tr>        <th class=\"index_name level0\" >0</th>        <th class=\"col_heading level0 col0\" >0</th>        <th class=\"col_heading level0 col1\" >1</th>        <th class=\"col_heading level0 col2\" >2</th>        <th class=\"col_heading level0 col3\" >3</th>        <th class=\"col_heading level0 col4\" >4</th>        <th class=\"col_heading level0 col5\" >5</th>        <th class=\"col_heading level0 col6\" >6</th>        <th class=\"col_heading level0 col7\" >7</th>        <th class=\"col_heading level0 col8\" >8</th>    </tr></thead><tbody>\n",
       "                <tr>\n",
       "                        <th id=\"T_5829f_level0_row0\" class=\"row_heading level0 row0\" >1</th>\n",
       "                        <td id=\"T_5829f_row0_col0\" class=\"data row0 col0\" >172</td>\n",
       "                        <td id=\"T_5829f_row0_col1\" class=\"data row0 col1\" >183</td>\n",
       "                        <td id=\"T_5829f_row0_col2\" class=\"data row0 col2\" >173</td>\n",
       "                        <td id=\"T_5829f_row0_col3\" class=\"data row0 col3\" >119</td>\n",
       "                        <td id=\"T_5829f_row0_col4\" class=\"data row0 col4\" >195</td>\n",
       "                        <td id=\"T_5829f_row0_col5\" class=\"data row0 col5\" >154</td>\n",
       "                        <td id=\"T_5829f_row0_col6\" class=\"data row0 col6\" >138</td>\n",
       "                        <td id=\"T_5829f_row0_col7\" class=\"data row0 col7\" >168</td>\n",
       "                        <td id=\"T_5829f_row0_col8\" class=\"data row0 col8\" >171</td>\n",
       "            </tr>\n",
       "    </tbody></table>"
      ],
      "text/plain": [
       "<pandas.io.formats.style.Styler at 0x7efd177ae450>"
      ]
     },
     "metadata": {},
     "output_type": "display_data"
    }
   ],
   "source": [
    "def show_dataset_label_balance(dataset):\n",
    "    c = Counter([l for l, _ in dataset])\n",
    "    df = pd.DataFrame(c.most_common()).set_index(0).sort_index().T\n",
    "    display(df.style.background_gradient('Blues', axis=1))\n",
    "\n",
    "show_dataset_label_balance(train_dataset)\n",
    "show_dataset_label_balance(test_dataset)"
   ]
  },
  {
   "cell_type": "markdown",
   "id": "681178e5",
   "metadata": {},
   "source": [
    "Vocabulary"
   ]
  },
  {
   "cell_type": "code",
   "execution_count": 9,
   "id": "28e98e22",
   "metadata": {},
   "outputs": [
    {
     "name": "stdout",
     "output_type": "stream",
     "text": [
      "sudachi: ['ワンマン', 'ライブ', 'に', '行き', 'たい']\n",
      "mecab  : ['ワンマンライブ', 'に', '行き', 'たい']\n",
      "output : ['ワンマンライブ', 'に', '行き', 'たい']\n"
     ]
    }
   ],
   "source": [
    "# Construct vocabulary; using only train and valid dataset\n",
    "SAMPLE_SENT = 'ワンマンライブに行きたい'\n",
    "# tokenizers\n",
    "nlp = spacy.load('ja_ginza')\n",
    "sudachi_tokenizer = lambda text: [str(token) for token in nlp(text)] # text to list of tokens\n",
    "print('sudachi:', sudachi_tokenizer(SAMPLE_SENT))\n",
    "\n",
    "tagger = MeCab.Tagger(f'-Owakati -d {DIR_MECAB_DIC}')\n",
    "mecab_tokenizer = lambda text: tagger.parse(text).split(' ')[:-1]\n",
    "print('mecab  :', mecab_tokenizer(SAMPLE_SENT))\n",
    "\n",
    "tokenizer = sudachi_tokenizer if TOKENIZER=='sudachi' else mecab_tokenizer\n",
    "print('output :', tokenizer(SAMPLE_SENT))"
   ]
  },
  {
   "cell_type": "code",
   "execution_count": 10,
   "id": "809a86f9",
   "metadata": {},
   "outputs": [
    {
     "name": "stdout",
     "output_type": "stream",
     "text": [
      "| 1000 samples done |  1.03 s |\n",
      "| 2000 samples done |  1.04 s |\n",
      "| 3000 samples done |  1.04 s |\n",
      "| 4000 samples done |  1.05 s |\n",
      "| 5000 samples done |  0.99 s |\n",
      "../../data/vocab_mecab.pkl : file exists\n",
      "[131, 8, 603, 26, 4]\n",
      "CPU times: user 6.27 s, sys: 36.6 ms, total: 6.3 s\n",
      "Wall time: 6.3 s\n"
     ]
    }
   ],
   "source": [
    "%%time\n",
    "counter = Counter()\n",
    "# logging\n",
    "start = time()\n",
    "\n",
    "for e, (label, text) in enumerate(train_dataset):\n",
    "    counter.update(tokenizer(text))\n",
    "    \n",
    "    # logging\n",
    "    if e!=0 and e%(1000)==0:\n",
    "        current = time()\n",
    "        interval = current-start\n",
    "        print(f'| {(e):4d} samples done | {interval:5.2f} s |')\n",
    "        start = current\n",
    "        \n",
    "vocab = Vocab(counter, min_freq=1)\n",
    "PAD = vocab.stoi['<pad>']\n",
    "\n",
    "# serialize\n",
    "file_out = os.path.join(DIR_DATA, f'vocab_{TOKENIZER}.pkl') # 本当は dic で分けるべき\n",
    "if not os.path.isfile(file_out):\n",
    "    with open(file_out, 'wb') as f:\n",
    "        pickle.dump(vocab, f)\n",
    "    print(f'{file_out} : created')\n",
    "else:\n",
    "    print(f'{file_out} : file exists')\n",
    "\n",
    "# test\n",
    "print([vocab[str(token)] for token in nlp('私は人間です。')])\n",
    "\n",
    "# if TOKENIZER == 'sudachi':\n",
    "# | 1000 samples done | 284.68 s |\n",
    "# | 2000 samples done | 279.84 s |\n",
    "# | 3000 samples done | 283.89 s |\n",
    "# | 4000 samples done | 278.97 s |\n",
    "# | 5000 samples done | 280.47 s |\n",
    "# [147, 9, 546, 29, 5]\n",
    "# CPU times: user 27min 27s, sys: 9.12 s, total: 27min 36s\n",
    "# Wall time: 27min 37s"
   ]
  },
  {
   "cell_type": "code",
   "execution_count": 11,
   "id": "2a34ffd4",
   "metadata": {},
   "outputs": [],
   "source": [
    "# tokenizer, label\n",
    "text_pipeline = lambda text: [vocab.stoi[str(token)] for token in tokenizer(text)]\n",
    "label_pipeline = lambda x: int(x)"
   ]
  },
  {
   "cell_type": "code",
   "execution_count": 12,
   "id": "f5319b4f",
   "metadata": {
    "scrolled": true
   },
   "outputs": [
    {
     "name": "stdout",
     "output_type": "stream",
     "text": [
      "sudachi size: 76029\n",
      "mecab size  : 85880\n"
     ]
    }
   ],
   "source": [
    "with open(os.path.join(DIR_DATA, 'vocab_sudachi.pkl'), 'rb') as f:\n",
    "    vocab_sudachi = pickle.load(f)\n",
    "with open(os.path.join(DIR_DATA, 'vocab_mecab.pkl'), 'rb') as f:\n",
    "    vocab_mecab = pickle.load(f)\n",
    "\n",
    "\n",
    "print('sudachi size:', len(vocab_sudachi))\n",
    "print('mecab size  :', len(vocab_mecab))"
   ]
  },
  {
   "cell_type": "markdown",
   "id": "daa1fa82",
   "metadata": {},
   "source": [
    "input text overview\n",
    "- todo: eda に切り出す"
   ]
  },
  {
   "cell_type": "code",
   "execution_count": 13,
   "id": "6ff90dcf",
   "metadata": {},
   "outputs": [],
   "source": [
    "# dataloader\n",
    "train_dataloader = DataLoader(train_dataset,\n",
    "                              batch_size=64,\n",
    "                              shuffle=False,)\n",
    "\n",
    "test_dataloader = DataLoader(test_dataset,\n",
    "                              batch_size=64,\n",
    "                              shuffle=False,)\n",
    "\n",
    "all_texts = []\n",
    "for batch, (labels, texts) in enumerate(train_dataloader):\n",
    "\n",
    "    all_texts += [text_pipeline(text) for text in texts]\n",
    "#     break"
   ]
  },
  {
   "cell_type": "code",
   "execution_count": 14,
   "id": "e199269f",
   "metadata": {
    "scrolled": true
   },
   "outputs": [],
   "source": [
    "c = Counter(itertools.chain.from_iterable(all_texts))\n",
    "freq = [(vocab.itos[t], n) for t, n in c.most_common()]"
   ]
  },
  {
   "cell_type": "code",
   "execution_count": 15,
   "id": "bb4f6f3d",
   "metadata": {
    "scrolled": true
   },
   "outputs": [
    {
     "data": {
      "text/plain": [
       "[('とか', 1460),\n",
       " ('監督', 1457),\n",
       " ('られる', 1449),\n",
       " ('くれ', 1434),\n",
       " ('撮影', 1414),\n",
       " ('×', 1413),\n",
       " ('好き', 1409),\n",
       " ('Twitter', 1403),\n",
       " ('声', 1402),\n",
       " ('じゃ', 1387),\n",
       " ('一', 1371),\n",
       " ('てる', 1363),\n",
       " ('見る', 1354),\n",
       " ('による', 1340),\n",
       " ('ソフトウェア', 1337),\n",
       " ('製品', 1337),\n",
       " ('行っ', 1322),\n",
       " ('ユーザー', 1320),\n",
       " ('女子', 1317),\n",
       " ('しれ', 1315),\n",
       " ('世界', 1299),\n",
       " ('数', 1298),\n",
       " ('現在', 1294),\n",
       " ('１', 1292),\n",
       " ('相手', 1270),\n",
       " ('使っ', 1269),\n",
       " ('目', 1267),\n",
       " ('くれる', 1256),\n",
       " ('話', 1239),\n",
       " ('考え', 1235),\n",
       " ('＆', 1226),\n",
       " ('用', 1217),\n",
       " ('しかし', 1210),\n",
       " ('同じ', 1209),\n",
       " ('ほど', 1183),\n",
       " ('カメラ', 1183),\n",
       " ('他', 1176),\n",
       " ('くる', 1172),\n",
       " ('方法', 1154),\n",
       " ('男', 1154),\n",
       " ('開始', 1152),\n",
       " (':', 1151),\n",
       " ('注目', 1142),\n",
       " ('でし', 1131),\n",
       " ('使用', 1128),\n",
       " ('関連リンク', 1113),\n",
       " ('購入', 1110),\n",
       " ('シリーズ', 1106),\n",
       " ('持っ', 1103),\n",
       " ('よく', 1098)]"
      ]
     },
     "execution_count": 15,
     "metadata": {},
     "output_type": "execute_result"
    }
   ],
   "source": [
    "freq[200:250]"
   ]
  },
  {
   "cell_type": "markdown",
   "id": "4739f6ad",
   "metadata": {},
   "source": [
    "ここまで独立させて EDA したいな"
   ]
  },
  {
   "cell_type": "markdown",
   "id": "e96b3a3c",
   "metadata": {},
   "source": [
    "# Experiments"
   ]
  },
  {
   "cell_type": "markdown",
   "id": "500a3f62",
   "metadata": {},
   "source": [
    "Class, Functions"
   ]
  },
  {
   "cell_type": "code",
   "execution_count": 16,
   "id": "3e39d9e9",
   "metadata": {},
   "outputs": [],
   "source": [
    "class LSTMClassifier(nn.Module):\n",
    "    \n",
    "    def __init__(self, vocab_size, embed_dim, h_dim, class_dim):\n",
    "        super(LSTMClassifier, self).__init__()\n",
    "        # ToDo: 学習済み Embedding の導入\n",
    "        # vocab 内の語について，index 順に学習済み Embedding を取得し，格納する\n",
    "        # https://kento1109.hatenablog.com/entry/2018/03/15/153652\n",
    "        self.embedding = nn.Embedding(vocab_size, embed_dim, padding_idx=PAD)\n",
    "        self.embedding.weight.requires_grad = False # ?\n",
    "        # ToDo: 高速化（現状不便ないので優先度低）\n",
    "        # sequence_fisrt の方が効率的らしい\n",
    "        # - https://www.reddit.com/r/pytorch/comments/fpxjm4/why_batch_first_in_lstm/\n",
    "        self.lstm = nn.LSTM(embed_dim, h_dim, batch_first=True)\n",
    "        self.linear = nn.Linear(h_dim, class_dim)\n",
    "        \n",
    "    def forward(self, texts):\n",
    "        emb = self.embedding(texts)\n",
    "#         return emb\n",
    "        o, (h_n, c_n) = self.lstm(emb)\n",
    "        logit = self.linear(h_n) # logit ではない\n",
    "        return logit"
   ]
  },
  {
   "cell_type": "code",
   "execution_count": 17,
   "id": "2dfa5f28",
   "metadata": {
    "scrolled": false
   },
   "outputs": [
    {
     "name": "stdout",
     "output_type": "stream",
     "text": [
      "|       | batch  30 | correct total: 0.11391129 | loss total: 0.03433470 |\n",
      "|       | batch  60 | correct total: 0.11296107 | loss total: 0.03433871 |\n",
      "|       | batch  90 | correct total: 0.11761676 | loss total: 0.03432163 |\n"
     ]
    }
   ],
   "source": [
    "# train\n",
    "def iter_train(dataloader, model, loss_fn, optimizer):\n",
    "    current_size = 0\n",
    "    current_loss, current_correct = 0, 0\n",
    "    \n",
    "    for batch, (labels, texts) in enumerate(dataloader):\n",
    "        \n",
    "        # indexing\n",
    "        texts = [torch.tensor(text_pipeline(text)) for text in texts]\n",
    "        texts = pad_sequence(texts, batch_first=True, padding_value=PAD)\n",
    "            \n",
    "        # send to GPU\n",
    "        labels, texts = labels.to(DEVICE), texts.to(DEVICE)\n",
    "\n",
    "        # pred\n",
    "        pred = model(texts)[0]\n",
    "\n",
    "        # get loss\n",
    "        loss = loss_fn(pred, labels)\n",
    "\n",
    "        # get gradient\n",
    "        optimizer.zero_grad() # バッチごとに勾配をリセット\n",
    "        loss.backward()\n",
    "\n",
    "        # back propagate\n",
    "        # 手動；todo: optimizer.step() の動作確認，デバッグ\n",
    "        for layer_num, param in enumerate(model.parameters()):\n",
    "            if layer_num==0:\n",
    "                continue\n",
    "            LR = optimizer.state_dict()['param_groups'][0]['lr']\n",
    "            param.data -= LR * param.grad.data\n",
    "#         optimizer.step()\n",
    "        \n",
    "        current_size += len(labels)\n",
    "        current_loss += loss.item()\n",
    "        current_correct += (pred.argmax(axis=1).squeeze()==labels).type(torch.int).sum().item()\n",
    "        \n",
    "        mean_loss = current_loss/current_size\n",
    "        mean_correct = current_correct/current_size\n",
    "\n",
    "        # logging\n",
    "        if batch%30==0 and batch!=0:\n",
    "            split = 'train'\n",
    "            print(f'| {split*(1 if batch==0 else 0):5} | batch {batch:3d} '\n",
    "                  f'| correct total: {mean_correct:0.8f} | loss total: {mean_loss:0.8f} |')\n",
    "    \n",
    "    return mean_correct, mean_loss\n",
    "\n",
    "if DEVICE=='cuda':\n",
    "    # 1 epoch sample execution\n",
    "    sample_dataloader = DataLoader(train_dataset,\n",
    "                                   batch_size=64,\n",
    "                                   shuffle=False,)\n",
    "    LR = 1e-4\n",
    "    model = LSTMClassifier(len(vocab), 300, 100, 9).to(DEVICE)\n",
    "    loss_fn = nn.CrossEntropyLoss().to(DEVICE)\n",
    "    optimizer = torch.optim.SGD(model.parameters(), lr=LR)\n",
    "    iter_train(sample_dataloader, model, loss_fn, optimizer)"
   ]
  },
  {
   "cell_type": "code",
   "execution_count": 18,
   "id": "fbeca285",
   "metadata": {
    "scrolled": false
   },
   "outputs": [
    {
     "name": "stdout",
     "output_type": "stream",
     "text": [
      "| test  | accuracy: 0.1154 | loss avg: 0.03583086 |"
     ]
    }
   ],
   "source": [
    "# validate\n",
    "def iter_test(dataloader, model, loss_fn):\n",
    "    test_size = len(dataloader.dataset)\n",
    "    test_loss, correct = 0, 0\n",
    "\n",
    "    with torch.no_grad():\n",
    "        # 全ての勾配計算を無効化\n",
    "        for batch, (labels, texts) in enumerate(dataloader):\n",
    "            \n",
    "            # indexing\n",
    "            texts = [torch.tensor(text_pipeline(text)) for text in texts]\n",
    "            texts = pad_sequence(texts, batch_first=True, padding_value=PAD)\n",
    "            \n",
    "            # send to GPU\n",
    "            labels, texts = labels.to(DEVICE), texts.to(DEVICE)\n",
    "            \n",
    "            # predict\n",
    "            pred = model(texts)[0]\n",
    "\n",
    "            # get loss\n",
    "            test_loss += loss_fn(pred, labels).item()\n",
    "\n",
    "            # eval\n",
    "            pred_labels = pred.argmax(axis=1).squeeze() # この squeeze は問題ないのか？\n",
    "            correct += (pred_labels==labels).type(torch.int).sum().item()\n",
    "\n",
    "    correct /= test_size # Epoch 終了時点の Accuracy（正答数 / テストサンプルサイズ）\n",
    "    test_loss /= test_size # Epoch 終了時点の 1 サンプルあたり Loss 平均（Loss / テストサンプルサイズ）\n",
    "\n",
    "    split = 'test'\n",
    "    print(f'| {split:5} | accuracy: {correct:0.4f} | loss avg: {test_loss:6.8f} |', end='')\n",
    "    \n",
    "    return correct, test_loss\n",
    "\n",
    "if DEVICE=='cuda':\n",
    "    # sample execution\n",
    "    sample_dataloader = DataLoader(test_dataset,\n",
    "                                   batch_size=64,\n",
    "                                   shuffle=False,)\n",
    "    LR = 1e-2\n",
    "    model = LSTMClassifier(len(vocab), 300, 100, 9).to(DEVICE)\n",
    "    loss_fn = nn.CrossEntropyLoss().to(DEVICE)\n",
    "    optimizer = torch.optim.SGD(model.parameters(), lr=LR)\n",
    "    iter_test(sample_dataloader, model, loss_fn)"
   ]
  },
  {
   "cell_type": "markdown",
   "id": "34bcf8da",
   "metadata": {},
   "source": [
    "Execute"
   ]
  },
  {
   "cell_type": "code",
   "execution_count": 19,
   "id": "c856810c",
   "metadata": {
    "scrolled": true
   },
   "outputs": [
    {
     "name": "stdout",
     "output_type": "stream",
     "text": [
      "---------------------------- Epoch 0 ----------------------------\n",
      "|       | batch  30 | correct total: 0.10836694 | loss total: 0.01719580 |\n",
      "| test  | accuracy: 0.0944 | loss avg: 0.01795454 | 31.27 sec |\n",
      "done!\n",
      "../../model/lstm&batchsize=128&lr=0.00001&mo=0.9&epochs=1.pth : created\n",
      "../../log/lstm&batchsize=128&lr=0.00001&mo=0.9&epochs=1.csv : created\n"
     ]
    }
   ],
   "source": [
    "batchsizes = [128]\n",
    "lrs = [1e-5]\n",
    "mos = [0.9]\n",
    "n_epochss = [1]\n",
    "\n",
    "for (batchsize, lr, mo, n_epochs) in itertools.product(batchsizes, lrs, mos, n_epochss):\n",
    "    # dataloader\n",
    "    train_dataloader = DataLoader(train_dataset,\n",
    "                                  batch_size=batchsize,\n",
    "                                  shuffle=False,)\n",
    "\n",
    "    test_dataloader = DataLoader(test_dataset,\n",
    "                                  batch_size=batchsize,\n",
    "                                  shuffle=False,)\n",
    "\n",
    "    # modules\n",
    "    loss_fn = nn.CrossEntropyLoss().to(DEVICE)\n",
    "    optimizer = torch.optim.SGD(model.parameters(), lr=lr, momentum=mo)\n",
    "    # sample = []\n",
    "\n",
    "    # define network architecture\n",
    "    model = LSTMClassifier(len(vocab), 300, 100, 9).to(DEVICE)\n",
    "\n",
    "    # train model\n",
    "    result = []\n",
    "    start = time()\n",
    "    for epoch in range(n_epochs):\n",
    "\n",
    "        print(f'{\"-\"*28} Epoch {epoch} {\"-\"*28}')\n",
    "        train_acc, train_loss = iter_train(train_dataloader, model, loss_fn, optimizer)\n",
    "        test_acc, test_loss = iter_test(test_dataloader, model, loss_fn)\n",
    "        print(f' {time()-start:5.2f} sec |')\n",
    "        result.append((epoch, train_acc, train_loss, test_acc, test_loss))\n",
    "\n",
    "    print('done!')\n",
    "    \n",
    "    # **\n",
    "    # save\n",
    "    # *\n",
    "    filename_base = f'lstm&batchsize={batchsize:03d}&lr={lr:.5f}&mo={mo:.1f}&epochs={n_epochs:d}'\n",
    "    filename_model = os.path.join(DIR_MODEL, filename_base+'.pth')\n",
    "    filename_log = os.path.join(DIR_LOG, filename_base+'.csv')\n",
    "\n",
    "    # save model\n",
    "    if not os.path.isfile(filename_model):\n",
    "        torch.save(model, filename_model)\n",
    "        print(f'{filename_model} : created')\n",
    "    else:\n",
    "        print(f'{filename_model} : exists')\n",
    "\n",
    "    # save log\n",
    "    if not os.path.isfile(filename_log):\n",
    "        result = pd.DataFrame(result).rename(columns={0: 'epoch',\n",
    "                                                      1: 'train_acc',\n",
    "                                                      2: 'train_loss',\n",
    "                                                      3: 'test_acc',\n",
    "                                                      4: 'test_loss'})\n",
    "        result.to_csv(filename_log, index=False)\n",
    "        print(f'{filename_log} : created')\n",
    "    else:\n",
    "        print(f'{filename_log} : exists')"
   ]
  },
  {
   "cell_type": "markdown",
   "id": "d633822b",
   "metadata": {},
   "source": [
    "- バッチサイズめっちゃ下げてみた．（32->8）\n",
    "- 一回，手作業で Loss 算出してみるべき"
   ]
  },
  {
   "cell_type": "markdown",
   "id": "3083e6e6",
   "metadata": {},
   "source": [
    "- バッチサイズ下げて学習率上げたら，上下が出てきた．探索してる間は出てきた"
   ]
  },
  {
   "cell_type": "markdown",
   "id": "83971a12",
   "metadata": {},
   "source": [
    "- パラメータわからんなら optuna も手\n",
    "- 今一度，CrossEntropyLoss の仕様見てみる？"
   ]
  },
  {
   "cell_type": "code",
   "execution_count": 21,
   "id": "17b488e0",
   "metadata": {},
   "outputs": [
    {
     "data": {
      "text/plain": [
       "LSTMClassifier(\n",
       "  (embedding): Embedding(91630, 300, padding_idx=1)\n",
       "  (lstm): LSTM(300, 100, batch_first=True)\n",
       "  (linear): Linear(in_features=100, out_features=9, bias=True)\n",
       ")"
      ]
     },
     "execution_count": 21,
     "metadata": {},
     "output_type": "execute_result"
    }
   ],
   "source": [
    "# # load trained model\n",
    "# model = torch.load(filename_model)\n",
    "# model"
   ]
  },
  {
   "cell_type": "markdown",
   "id": "f79262c6",
   "metadata": {},
   "source": [
    "- 学習できてない？\n",
    "  - embedding がいまいち？\n",
    "  - 局所解？\n",
    "  - LR？\n",
    "  - なんかミスってる？"
   ]
  },
  {
   "cell_type": "markdown",
   "id": "8163c340",
   "metadata": {},
   "source": [
    "# Evaluation"
   ]
  },
  {
   "cell_type": "code",
   "execution_count": 20,
   "id": "5bedbcab",
   "metadata": {},
   "outputs": [
    {
     "name": "stdout",
     "output_type": "stream",
     "text": [
      "CPU times: user 3.19 s, sys: 483 ms, total: 3.67 s\n",
      "Wall time: 3.64 s\n"
     ]
    },
    {
     "data": {
      "text/plain": [
       "array([6, 6, 6, ..., 6, 6, 6])"
      ]
     },
     "execution_count": 20,
     "metadata": {},
     "output_type": "execute_result"
    }
   ],
   "source": [
    "%%time\n",
    "def predict_dataloader(dataloader, model):\n",
    "    test_size = len(dataloader.dataset)\n",
    "    test_loss, correct = 0, 0\n",
    "\n",
    "    all_labels = []\n",
    "    \n",
    "    with torch.no_grad():\n",
    "        # 全ての勾配計算を無効化\n",
    "        for batch, (labels, texts) in enumerate(dataloader):\n",
    "            \n",
    "            all_labels.append(list(labels.numpy()))\n",
    "            \n",
    "            # indexing\n",
    "            texts = [torch.tensor(text_pipeline(text)) for text in texts]\n",
    "            texts = pad_sequence(texts, batch_first=True, padding_value=PAD)\n",
    "            \n",
    "            # send to GPU\n",
    "            labels, texts = labels.to(DEVICE), texts.to(DEVICE)\n",
    "            \n",
    "            # predict\n",
    "            pred = model(texts)[0]\n",
    "            pred = pred.cpu().numpy()\n",
    "            if batch==0:\n",
    "                pred_all = pred\n",
    "            else:\n",
    "                pred_all = np.append(pred_all, pred, axis=0)\n",
    "    \n",
    "    return np.array(list(itertools.chain.from_iterable(all_labels))), pred_all.argmax(axis=1)\n",
    "\n",
    "all_labels, pred = predict_dataloader(test_dataloader, model)\n",
    "pred"
   ]
  },
  {
   "cell_type": "code",
   "execution_count": 21,
   "id": "98f98332",
   "metadata": {},
   "outputs": [
    {
     "data": {
      "text/plain": [
       "<AxesSubplot:xlabel='col_0', ylabel='row_0'>"
      ]
     },
     "execution_count": 21,
     "metadata": {},
     "output_type": "execute_result"
    },
    {
     "data": {
      "image/png": "[encoded data removed]",
      "text/plain": [
       "<Figure size 432x288 with 2 Axes>"
      ]
     },
     "metadata": {
      "needs_background": "light"
     },
     "output_type": "display_data"
    }
   ],
   "source": [
    "sns.heatmap(pd.crosstab(all_labels, pred))"
   ]
  },
  {
   "cell_type": "markdown",
   "id": "d6c856c8",
   "metadata": {},
   "source": [
    "# Primitive model"
   ]
  },
  {
   "cell_type": "markdown",
   "id": "dd6f5656",
   "metadata": {},
   "source": [
    "Check embedding"
   ]
  },
  {
   "cell_type": "code",
   "execution_count": 22,
   "id": "d404d6fb",
   "metadata": {},
   "outputs": [],
   "source": [
    "def get_feat_and_label(dataloader):\n",
    "    X, y = [], []\n",
    "    for batch, (labels, texts) in enumerate(dataloader):\n",
    "        texts = [torch.tensor(text_pipeline(text)) for text in texts]\n",
    "        texts = pad_sequence(texts, batch_first=True, padding_value=PAD)\n",
    "        labels, texts = labels.to(DEVICE), texts.to(DEVICE)\n",
    "        emb = model.embedding(texts).detach().cpu().numpy()\n",
    "        emb = emb.mean(axis=1)\n",
    "        X.append(emb)\n",
    "        y.append(labels.detach().cpu().numpy())\n",
    "    \n",
    "    X = np.array(list(itertools.chain.from_iterable(X)))\n",
    "    y = np.array(list(itertools.chain.from_iterable(y)))\n",
    "        \n",
    "    return X, y\n",
    "\n",
    "model = LSTMClassifier(len(vocab), 300, 100, 9).to(DEVICE)\n",
    "X_train, y_train = get_feat_and_label(train_dataloader)\n",
    "X_test, y_test = get_feat_and_label(test_dataloader)"
   ]
  },
  {
   "cell_type": "code",
   "execution_count": 23,
   "id": "2b6e955b",
   "metadata": {},
   "outputs": [
    {
     "name": "stdout",
     "output_type": "stream",
     "text": [
      "(9, 300)\n"
     ]
    },
    {
     "data": {
      "image/png": "[encoded data removed]",
      "text/plain": [
       "<Figure size 1296x311.04 with 1 Axes>"
      ]
     },
     "metadata": {},
     "output_type": "display_data"
    }
   ],
   "source": [
    "%matplotlib inline\n",
    "\n",
    "def show(embedding):\n",
    "    w = 18\n",
    "    h = embedding.shape[0] * (w / 300) * 8\n",
    "\n",
    "    fig = plt.figure(figsize=(w, h))\n",
    "    ax = fig.add_subplot(1, 1, 1)\n",
    "\n",
    "    print(embedding.shape)\n",
    "    sns.heatmap(pd.DataFrame(embedding), cbar=False, xticklabels=False, yticklabels=False, cmap='Blues')\n",
    "\n",
    "    plt.show()\n",
    "    return\n",
    "\n",
    "df = pd.DataFrame(X_train)\n",
    "show(df.groupby(y_train).mean())"
   ]
  },
  {
   "cell_type": "markdown",
   "id": "49fb6d4e",
   "metadata": {},
   "source": [
    "ベンチマーク；SVM で 82 %"
   ]
  },
  {
   "cell_type": "code",
   "execution_count": 24,
   "id": "38e83bfd",
   "metadata": {},
   "outputs": [
    {
     "data": {
      "text/plain": [
       "0.8194161575016972"
      ]
     },
     "execution_count": 24,
     "metadata": {},
     "output_type": "execute_result"
    }
   ],
   "source": [
    "from sklearn.svm import SVC\n",
    "\n",
    "model = SVC()\n",
    "model.fit(X_train, y_train)\n",
    "y_pred = model.predict(X_test)\n",
    "\n",
    "sum(y_pred == y_test) / len(y_test)"
   ]
  },
  {
   "cell_type": "code",
   "execution_count": 25,
   "id": "345b8459",
   "metadata": {
    "scrolled": true
   },
   "outputs": [
    {
     "data": {
      "image/png": "[encoded data removed]",
      "text/plain": [
       "<Figure size 288x288 with 1 Axes>"
      ]
     },
     "metadata": {
      "needs_background": "light"
     },
     "output_type": "display_data"
    }
   ],
   "source": [
    "%matplotlib inline\n",
    "\n",
    "fig = plt.figure(figsize=(4, 4))\n",
    "ax = fig.add_subplot(1, 1, 1)\n",
    "sns.heatmap(pd.crosstab(y_test, y_pred), cbar=False, annot=True, fmt='d')\n",
    "plt.show()"
   ]
  },
  {
   "cell_type": "markdown",
   "id": "2a59c3a0",
   "metadata": {},
   "source": [
    "Work"
   ]
  },
  {
   "cell_type": "code",
   "execution_count": 17,
   "id": "5d3f072f",
   "metadata": {},
   "outputs": [
    {
     "name": "stdout",
     "output_type": "stream",
     "text": [
      "CPU times: user 14min 50s, sys: 14.3 s, total: 15min 4s\n",
      "Wall time: 15min 4s\n"
     ]
    },
    {
     "data": {
      "text/plain": [
       "<gensim.models.keyedvectors.Word2VecKeyedVectors at 0x7efd32186dd0>"
      ]
     },
     "execution_count": 17,
     "metadata": {},
     "output_type": "execute_result"
    }
   ],
   "source": [
    "%%time\n",
    "# embed\n",
    "wv = KeyedVectors.load_word2vec_format('/data/chive/chive-1.2-mc5/chive-1.2-mc5.txt')\n",
    "wv"
   ]
  }
 ],
 "metadata": {
  "kernelspec": {
   "display_name": "Python 3",
   "language": "python",
   "name": "python3"
  },
  "language_info": {
   "codemirror_mode": {
    "name": "ipython",
    "version": 3
   },
   "file_extension": ".py",
   "mimetype": "text/x-python",
   "name": "python",
   "nbconvert_exporter": "python",
   "pygments_lexer": "ipython3",
   "version": "3.7.5"
  }
 },
 "nbformat": 4,
 "nbformat_minor": 5
}
