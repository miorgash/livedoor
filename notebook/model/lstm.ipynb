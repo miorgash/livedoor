{
 "cells": [
  {
   "cell_type": "code",
   "execution_count": 1,
   "metadata": {},
   "outputs": [],
   "source": [
    "import spacy\n",
    "import gensim\n",
    "import os\n",
    "import re\n",
    "import pandas as pd\n",
    "from gensim.models import KeyedVectors\n",
    "from joblib import Parallel, delayed\n",
    "import itertools\n",
    "import numpy as np\n",
    "import pickle"
   ]
  },
  {
   "cell_type": "code",
   "execution_count": 2,
   "metadata": {},
   "outputs": [
    {
     "ename": "NameError",
     "evalue": "name 'torch' is not defined",
     "output_type": "error",
     "traceback": [
      "\u001b[0;31m---------------------------------------------------------------------------\u001b[0m",
      "\u001b[0;31mNameError\u001b[0m                                 Traceback (most recent call last)",
      "\u001b[0;32m<ipython-input-2-2eaca526b1e6>\u001b[0m in \u001b[0;36m<module>\u001b[0;34m\u001b[0m\n\u001b[0;32m----> 1\u001b[0;31m \u001b[0mtorch\u001b[0m\u001b[0;34m.\u001b[0m\u001b[0mcuda\u001b[0m\u001b[0;34m.\u001b[0m\u001b[0mis_available\u001b[0m\u001b[0;34m(\u001b[0m\u001b[0;34m)\u001b[0m\u001b[0;34m\u001b[0m\u001b[0;34m\u001b[0m\u001b[0m\n\u001b[0m",
      "\u001b[0;31mNameError\u001b[0m: name 'torch' is not defined"
     ]
    }
   ],
   "source": [
    "torch.cuda.is_available()"
   ]
  },
  {
   "cell_type": "markdown",
   "metadata": {},
   "source": [
    "data"
   ]
  },
  {
   "cell_type": "code",
   "execution_count": 3,
   "metadata": {
    "scrolled": true
   },
   "outputs": [
    {
     "name": "stdout",
     "output_type": "stream",
     "text": [
      "CPU times: user 38.2 s, sys: 15.4 s, total: 53.6 s\n",
      "Wall time: 51.8 s\n"
     ]
    },
    {
     "data": {
      "text/html": [
       "<div>\n",
       "<style scoped>\n",
       "    .dataframe tbody tr th:only-of-type {\n",
       "        vertical-align: middle;\n",
       "    }\n",
       "\n",
       "    .dataframe tbody tr th {\n",
       "        vertical-align: top;\n",
       "    }\n",
       "\n",
       "    .dataframe thead th {\n",
       "        text-align: right;\n",
       "    }\n",
       "</style>\n",
       "<table border=\"1\" class=\"dataframe\">\n",
       "  <thead>\n",
       "    <tr style=\"text-align: right;\">\n",
       "      <th></th>\n",
       "      <th>media</th>\n",
       "      <th>url</th>\n",
       "      <th>timestamp</th>\n",
       "      <th>title</th>\n",
       "      <th>text</th>\n",
       "      <th>tokens</th>\n",
       "      <th>embeddings</th>\n",
       "    </tr>\n",
       "  </thead>\n",
       "  <tbody>\n",
       "    <tr>\n",
       "      <th>0</th>\n",
       "      <td>sports-watch</td>\n",
       "      <td>http://news.livedoor.com/article/detail/5985384/</td>\n",
       "      <td>2011-11-02T09:00:00+0900</td>\n",
       "      <td>石川遼、“異例の交際発表”めぐる水面下の攻防とは？</td>\n",
       "      <td>先月24日深夜、プロゴルファー・石川遼が、マネジメント会社「ケーアイ企画」を通し、一般女性と...</td>\n",
       "      <td>[先月, 24, 日, 深夜, 、, プロゴルファー, ・, 石川, 遼, が, 、, マネ...</td>\n",
       "      <td>[[-0.071045354, -0.25821245, 0.14480348, -0.22...</td>\n",
       "    </tr>\n",
       "    <tr>\n",
       "      <th>1</th>\n",
       "      <td>sports-watch</td>\n",
       "      <td>http://news.livedoor.com/article/detail/6819620/</td>\n",
       "      <td>2012-08-03T10:00:00+0900</td>\n",
       "      <td>柔道界の現状に、古賀氏「日本の場合は先生の圧力が強い」</td>\n",
       "      <td>ロンドン五輪における柔道男子は、ここまで金メダルを獲得できずにいる。2日も男子100kg級に...</td>\n",
       "      <td>[ロンドン, 五輪, に, おけ, る, 柔道, 男子, は, 、, ここ, まで, 金, ...</td>\n",
       "      <td>[[-0.09269952, 0.5426098, 0.12492261, -0.18234...</td>\n",
       "    </tr>\n",
       "    <tr>\n",
       "      <th>2</th>\n",
       "      <td>sports-watch</td>\n",
       "      <td>http://news.livedoor.com/article/detail/5571206/</td>\n",
       "      <td>2011-05-20T02:00:00+0900</td>\n",
       "      <td>【Sports Watch】女性店員の契約選手侮辱ツイートでアディダスが謝罪</td>\n",
       "      <td>ヴァンフォーレ甲府のFWで、アディダス契約選手の一人＝ハーフナー・マイクが、18日に入籍を発...</td>\n",
       "      <td>[ヴァン, フォーレ, 甲府, の, FW, で, 、, アディダス, 契約, 選手, の,...</td>\n",
       "      <td>[[-0.12361497, 0.050540913, -0.46253157, -0.16...</td>\n",
       "    </tr>\n",
       "    <tr>\n",
       "      <th>3</th>\n",
       "      <td>sports-watch</td>\n",
       "      <td>http://news.livedoor.com/article/detail/4970500/</td>\n",
       "      <td>2010-08-27T07:25:00+0900</td>\n",
       "      <td>【Sports Watch】スエマエの五輪後、前田は「人間不信になった感じ」</td>\n",
       "      <td>2008年、北京五輪の舞台で世界ランキング一位のペアから金星を挙げ、一躍その名を知らしめた女...</td>\n",
       "      <td>[2008, 年, 、, 北京, 五輪, の, 舞台, で, 世界, ランキング, 一, 位...</td>\n",
       "      <td>[[0.19916902, -0.079966575, 0.2989788, -0.0169...</td>\n",
       "    </tr>\n",
       "    <tr>\n",
       "      <th>4</th>\n",
       "      <td>sports-watch</td>\n",
       "      <td>http://news.livedoor.com/article/detail/6158040/</td>\n",
       "      <td>2011-12-30T09:00:00+0900</td>\n",
       "      <td>天皇杯で敗れたチームのファン（？）、チケットを燃やす</td>\n",
       "      <td>29日に行なわれた第91回天皇杯全日本サッカー選手権大会は、J2のFC東京と京都サンガが決勝...</td>\n",
       "      <td>[29, 日, に, 行なわ, れ, た, 第, 91, 回, 天皇, 杯, 全, 日本, ...</td>\n",
       "      <td>[[0.19836882, -0.106275775, 0.3315136, -0.2118...</td>\n",
       "    </tr>\n",
       "  </tbody>\n",
       "</table>\n",
       "</div>"
      ],
      "text/plain": [
       "          media                                               url  \\\n",
       "0  sports-watch  http://news.livedoor.com/article/detail/5985384/   \n",
       "1  sports-watch  http://news.livedoor.com/article/detail/6819620/   \n",
       "2  sports-watch  http://news.livedoor.com/article/detail/5571206/   \n",
       "3  sports-watch  http://news.livedoor.com/article/detail/4970500/   \n",
       "4  sports-watch  http://news.livedoor.com/article/detail/6158040/   \n",
       "\n",
       "                  timestamp                                   title  \\\n",
       "0  2011-11-02T09:00:00+0900               石川遼、“異例の交際発表”めぐる水面下の攻防とは？   \n",
       "1  2012-08-03T10:00:00+0900             柔道界の現状に、古賀氏「日本の場合は先生の圧力が強い」   \n",
       "2  2011-05-20T02:00:00+0900  【Sports Watch】女性店員の契約選手侮辱ツイートでアディダスが謝罪   \n",
       "3  2010-08-27T07:25:00+0900  【Sports Watch】スエマエの五輪後、前田は「人間不信になった感じ」   \n",
       "4  2011-12-30T09:00:00+0900              天皇杯で敗れたチームのファン（？）、チケットを燃やす   \n",
       "\n",
       "                                                text  \\\n",
       "0  先月24日深夜、プロゴルファー・石川遼が、マネジメント会社「ケーアイ企画」を通し、一般女性と...   \n",
       "1  ロンドン五輪における柔道男子は、ここまで金メダルを獲得できずにいる。2日も男子100kg級に...   \n",
       "2  ヴァンフォーレ甲府のFWで、アディダス契約選手の一人＝ハーフナー・マイクが、18日に入籍を発...   \n",
       "3  2008年、北京五輪の舞台で世界ランキング一位のペアから金星を挙げ、一躍その名を知らしめた女...   \n",
       "4  29日に行なわれた第91回天皇杯全日本サッカー選手権大会は、J2のFC東京と京都サンガが決勝...   \n",
       "\n",
       "                                              tokens  \\\n",
       "0  [先月, 24, 日, 深夜, 、, プロゴルファー, ・, 石川, 遼, が, 、, マネ...   \n",
       "1  [ロンドン, 五輪, に, おけ, る, 柔道, 男子, は, 、, ここ, まで, 金, ...   \n",
       "2  [ヴァン, フォーレ, 甲府, の, FW, で, 、, アディダス, 契約, 選手, の,...   \n",
       "3  [2008, 年, 、, 北京, 五輪, の, 舞台, で, 世界, ランキング, 一, 位...   \n",
       "4  [29, 日, に, 行なわ, れ, た, 第, 91, 回, 天皇, 杯, 全, 日本, ...   \n",
       "\n",
       "                                          embeddings  \n",
       "0  [[-0.071045354, -0.25821245, 0.14480348, -0.22...  \n",
       "1  [[-0.09269952, 0.5426098, 0.12492261, -0.18234...  \n",
       "2  [[-0.12361497, 0.050540913, -0.46253157, -0.16...  \n",
       "3  [[0.19916902, -0.079966575, 0.2989788, -0.0169...  \n",
       "4  [[0.19836882, -0.106275775, 0.3315136, -0.2118...  "
      ]
     },
     "execution_count": 3,
     "metadata": {},
     "output_type": "execute_result"
    }
   ],
   "source": [
    "%%time\n",
    "dataset = pd.read_parquet('data/word_embeddings.parquet.gz')\n",
    "dataset.head()"
   ]
  },
  {
   "cell_type": "markdown",
   "metadata": {},
   "source": [
    "## prepare dataset"
   ]
  },
  {
   "cell_type": "code",
   "execution_count": 4,
   "metadata": {},
   "outputs": [],
   "source": [
    "from sklearn.model_selection import train_test_split\n",
    "from sklearn.metrics import accuracy_score, f1_score, classification_report"
   ]
  },
  {
   "cell_type": "code",
   "execution_count": 5,
   "metadata": {
    "scrolled": true
   },
   "outputs": [
    {
     "data": {
      "text/html": [
       "<div>\n",
       "<style scoped>\n",
       "    .dataframe tbody tr th:only-of-type {\n",
       "        vertical-align: middle;\n",
       "    }\n",
       "\n",
       "    .dataframe tbody tr th {\n",
       "        vertical-align: top;\n",
       "    }\n",
       "\n",
       "    .dataframe thead th {\n",
       "        text-align: right;\n",
       "    }\n",
       "</style>\n",
       "<table border=\"1\" class=\"dataframe\">\n",
       "  <thead>\n",
       "    <tr style=\"text-align: right;\">\n",
       "      <th></th>\n",
       "      <th>media</th>\n",
       "      <th>url</th>\n",
       "      <th>timestamp</th>\n",
       "      <th>title</th>\n",
       "      <th>text</th>\n",
       "      <th>tokens</th>\n",
       "      <th>embeddings</th>\n",
       "    </tr>\n",
       "  </thead>\n",
       "  <tbody>\n",
       "    <tr>\n",
       "      <th>0</th>\n",
       "      <td>sports-watch</td>\n",
       "      <td>http://news.livedoor.com/article/detail/5985384/</td>\n",
       "      <td>2011-11-02T09:00:00+0900</td>\n",
       "      <td>石川遼、“異例の交際発表”めぐる水面下の攻防とは？</td>\n",
       "      <td>先月24日深夜、プロゴルファー・石川遼が、マネジメント会社「ケーアイ企画」を通し、一般女性と...</td>\n",
       "      <td>[先月, 24, 日, 深夜, 、, プロゴルファー, ・, 石川, 遼, が, 、, マネ...</td>\n",
       "      <td>[[-0.071045354, -0.25821245, 0.14480348, -0.22...</td>\n",
       "    </tr>\n",
       "    <tr>\n",
       "      <th>1</th>\n",
       "      <td>sports-watch</td>\n",
       "      <td>http://news.livedoor.com/article/detail/6819620/</td>\n",
       "      <td>2012-08-03T10:00:00+0900</td>\n",
       "      <td>柔道界の現状に、古賀氏「日本の場合は先生の圧力が強い」</td>\n",
       "      <td>ロンドン五輪における柔道男子は、ここまで金メダルを獲得できずにいる。2日も男子100kg級に...</td>\n",
       "      <td>[ロンドン, 五輪, に, おけ, る, 柔道, 男子, は, 、, ここ, まで, 金, ...</td>\n",
       "      <td>[[-0.09269952, 0.5426098, 0.12492261, -0.18234...</td>\n",
       "    </tr>\n",
       "    <tr>\n",
       "      <th>2</th>\n",
       "      <td>sports-watch</td>\n",
       "      <td>http://news.livedoor.com/article/detail/5571206/</td>\n",
       "      <td>2011-05-20T02:00:00+0900</td>\n",
       "      <td>【Sports Watch】女性店員の契約選手侮辱ツイートでアディダスが謝罪</td>\n",
       "      <td>ヴァンフォーレ甲府のFWで、アディダス契約選手の一人＝ハーフナー・マイクが、18日に入籍を発...</td>\n",
       "      <td>[ヴァン, フォーレ, 甲府, の, FW, で, 、, アディダス, 契約, 選手, の,...</td>\n",
       "      <td>[[-0.12361497, 0.050540913, -0.46253157, -0.16...</td>\n",
       "    </tr>\n",
       "    <tr>\n",
       "      <th>3</th>\n",
       "      <td>sports-watch</td>\n",
       "      <td>http://news.livedoor.com/article/detail/4970500/</td>\n",
       "      <td>2010-08-27T07:25:00+0900</td>\n",
       "      <td>【Sports Watch】スエマエの五輪後、前田は「人間不信になった感じ」</td>\n",
       "      <td>2008年、北京五輪の舞台で世界ランキング一位のペアから金星を挙げ、一躍その名を知らしめた女...</td>\n",
       "      <td>[2008, 年, 、, 北京, 五輪, の, 舞台, で, 世界, ランキング, 一, 位...</td>\n",
       "      <td>[[0.19916902, -0.079966575, 0.2989788, -0.0169...</td>\n",
       "    </tr>\n",
       "    <tr>\n",
       "      <th>4</th>\n",
       "      <td>sports-watch</td>\n",
       "      <td>http://news.livedoor.com/article/detail/6158040/</td>\n",
       "      <td>2011-12-30T09:00:00+0900</td>\n",
       "      <td>天皇杯で敗れたチームのファン（？）、チケットを燃やす</td>\n",
       "      <td>29日に行なわれた第91回天皇杯全日本サッカー選手権大会は、J2のFC東京と京都サンガが決勝...</td>\n",
       "      <td>[29, 日, に, 行なわ, れ, た, 第, 91, 回, 天皇, 杯, 全, 日本, ...</td>\n",
       "      <td>[[0.19836882, -0.106275775, 0.3315136, -0.2118...</td>\n",
       "    </tr>\n",
       "  </tbody>\n",
       "</table>\n",
       "</div>"
      ],
      "text/plain": [
       "          media                                               url  \\\n",
       "0  sports-watch  http://news.livedoor.com/article/detail/5985384/   \n",
       "1  sports-watch  http://news.livedoor.com/article/detail/6819620/   \n",
       "2  sports-watch  http://news.livedoor.com/article/detail/5571206/   \n",
       "3  sports-watch  http://news.livedoor.com/article/detail/4970500/   \n",
       "4  sports-watch  http://news.livedoor.com/article/detail/6158040/   \n",
       "\n",
       "                  timestamp                                   title  \\\n",
       "0  2011-11-02T09:00:00+0900               石川遼、“異例の交際発表”めぐる水面下の攻防とは？   \n",
       "1  2012-08-03T10:00:00+0900             柔道界の現状に、古賀氏「日本の場合は先生の圧力が強い」   \n",
       "2  2011-05-20T02:00:00+0900  【Sports Watch】女性店員の契約選手侮辱ツイートでアディダスが謝罪   \n",
       "3  2010-08-27T07:25:00+0900  【Sports Watch】スエマエの五輪後、前田は「人間不信になった感じ」   \n",
       "4  2011-12-30T09:00:00+0900              天皇杯で敗れたチームのファン（？）、チケットを燃やす   \n",
       "\n",
       "                                                text  \\\n",
       "0  先月24日深夜、プロゴルファー・石川遼が、マネジメント会社「ケーアイ企画」を通し、一般女性と...   \n",
       "1  ロンドン五輪における柔道男子は、ここまで金メダルを獲得できずにいる。2日も男子100kg級に...   \n",
       "2  ヴァンフォーレ甲府のFWで、アディダス契約選手の一人＝ハーフナー・マイクが、18日に入籍を発...   \n",
       "3  2008年、北京五輪の舞台で世界ランキング一位のペアから金星を挙げ、一躍その名を知らしめた女...   \n",
       "4  29日に行なわれた第91回天皇杯全日本サッカー選手権大会は、J2のFC東京と京都サンガが決勝...   \n",
       "\n",
       "                                              tokens  \\\n",
       "0  [先月, 24, 日, 深夜, 、, プロゴルファー, ・, 石川, 遼, が, 、, マネ...   \n",
       "1  [ロンドン, 五輪, に, おけ, る, 柔道, 男子, は, 、, ここ, まで, 金, ...   \n",
       "2  [ヴァン, フォーレ, 甲府, の, FW, で, 、, アディダス, 契約, 選手, の,...   \n",
       "3  [2008, 年, 、, 北京, 五輪, の, 舞台, で, 世界, ランキング, 一, 位...   \n",
       "4  [29, 日, に, 行なわ, れ, た, 第, 91, 回, 天皇, 杯, 全, 日本, ...   \n",
       "\n",
       "                                          embeddings  \n",
       "0  [[-0.071045354, -0.25821245, 0.14480348, -0.22...  \n",
       "1  [[-0.09269952, 0.5426098, 0.12492261, -0.18234...  \n",
       "2  [[-0.12361497, 0.050540913, -0.46253157, -0.16...  \n",
       "3  [[0.19916902, -0.079966575, 0.2989788, -0.0169...  \n",
       "4  [[0.19836882, -0.106275775, 0.3315136, -0.2118...  "
      ]
     },
     "execution_count": 5,
     "metadata": {},
     "output_type": "execute_result"
    }
   ],
   "source": [
    "# tmp\n",
    "dataset.loc[:, 'embeddings'] = dataset['embeddings'].apply(lambda x: np.array(list(x)))\n",
    "dataset.head()"
   ]
  },
  {
   "cell_type": "code",
   "execution_count": 6,
   "metadata": {},
   "outputs": [],
   "source": [
    "X = np.array(dataset['embeddings'].to_list())\n",
    "y = dataset['media']\n",
    "X_train, X_test, y_train, y_test = train_test_split(X, y, stratify=dataset['media'], random_state=5108)"
   ]
  },
  {
   "cell_type": "code",
   "execution_count": 7,
   "metadata": {},
   "outputs": [
    {
     "data": {
      "text/html": [
       "<style  type=\"text/css\" >\n",
       "#T_fd320_row0_col0,#T_fd320_row0_col1{\n",
       "            background-color:  #08306b;\n",
       "            color:  #f1f1f1;\n",
       "        }#T_fd320_row1_col0,#T_fd320_row2_col0,#T_fd320_row3_col0,#T_fd320_row4_col0{\n",
       "            background-color:  #08458a;\n",
       "            color:  #f1f1f1;\n",
       "        }#T_fd320_row1_col1,#T_fd320_row2_col1,#T_fd320_row3_col1{\n",
       "            background-color:  #084387;\n",
       "            color:  #f1f1f1;\n",
       "        }#T_fd320_row4_col1{\n",
       "            background-color:  #08468b;\n",
       "            color:  #f1f1f1;\n",
       "        }#T_fd320_row5_col0,#T_fd320_row5_col1{\n",
       "            background-color:  #08488e;\n",
       "            color:  #f1f1f1;\n",
       "        }#T_fd320_row6_col0{\n",
       "            background-color:  #0c56a0;\n",
       "            color:  #f1f1f1;\n",
       "        }#T_fd320_row6_col1{\n",
       "            background-color:  #0e58a2;\n",
       "            color:  #f1f1f1;\n",
       "        }#T_fd320_row7_col0{\n",
       "            background-color:  #3787c0;\n",
       "            color:  #000000;\n",
       "        }#T_fd320_row7_col1{\n",
       "            background-color:  #3989c1;\n",
       "            color:  #000000;\n",
       "        }#T_fd320_row8_col0,#T_fd320_row8_col1{\n",
       "            background-color:  #f7fbff;\n",
       "            color:  #000000;\n",
       "        }</style><table id=\"T_fd320_\" ><thead>    <tr>        <th class=\"blank level0\" ></th>        <th class=\"col_heading level0 col0\" >train</th>        <th class=\"col_heading level0 col1\" >test</th>    </tr></thead><tbody>\n",
       "                <tr>\n",
       "                        <th id=\"T_fd320_level0_row0\" class=\"row_heading level0 row0\" >sports-watch</th>\n",
       "                        <td id=\"T_fd320_row0_col0\" class=\"data row0 col0\" >0.122194</td>\n",
       "                        <td id=\"T_fd320_row0_col1\" class=\"data row0 col1\" >0.122150</td>\n",
       "            </tr>\n",
       "            <tr>\n",
       "                        <th id=\"T_fd320_level0_row1\" class=\"row_heading level0 row1\" >movie-enter</th>\n",
       "                        <td id=\"T_fd320_row1_col0\" class=\"data row1 col0\" >0.118030</td>\n",
       "                        <td id=\"T_fd320_row1_col1\" class=\"data row1 col1\" >0.118350</td>\n",
       "            </tr>\n",
       "            <tr>\n",
       "                        <th id=\"T_fd320_level0_row2\" class=\"row_heading level0 row2\" >it-life-hack</th>\n",
       "                        <td id=\"T_fd320_row2_col0\" class=\"data row2 col0\" >0.118030</td>\n",
       "                        <td id=\"T_fd320_row2_col1\" class=\"data row2 col1\" >0.118350</td>\n",
       "            </tr>\n",
       "            <tr>\n",
       "                        <th id=\"T_fd320_level0_row3\" class=\"row_heading level0 row3\" >smax</th>\n",
       "                        <td id=\"T_fd320_row3_col0\" class=\"data row3 col0\" >0.118030</td>\n",
       "                        <td id=\"T_fd320_row3_col1\" class=\"data row3 col1\" >0.118350</td>\n",
       "            </tr>\n",
       "            <tr>\n",
       "                        <th id=\"T_fd320_level0_row4\" class=\"row_heading level0 row4\" >dokujo-tsushin</th>\n",
       "                        <td id=\"T_fd320_row4_col0\" class=\"data row4 col0\" >0.118030</td>\n",
       "                        <td id=\"T_fd320_row4_col1\" class=\"data row4 col1\" >0.117807</td>\n",
       "            </tr>\n",
       "            <tr>\n",
       "                        <th id=\"T_fd320_level0_row5\" class=\"row_heading level0 row5\" >kaden-channel</th>\n",
       "                        <td id=\"T_fd320_row5_col0\" class=\"data row5 col0\" >0.117306</td>\n",
       "                        <td id=\"T_fd320_row5_col1\" class=\"data row5 col1\" >0.117264</td>\n",
       "            </tr>\n",
       "            <tr>\n",
       "                        <th id=\"T_fd320_level0_row6\" class=\"row_heading level0 row6\" >peachy</th>\n",
       "                        <td id=\"T_fd320_row6_col0\" class=\"data row6 col0\" >0.114410</td>\n",
       "                        <td id=\"T_fd320_row6_col1\" class=\"data row6 col1\" >0.114007</td>\n",
       "            </tr>\n",
       "            <tr>\n",
       "                        <th id=\"T_fd320_level0_row7\" class=\"row_heading level0 row7\" >topic-news</th>\n",
       "                        <td id=\"T_fd320_row7_col0\" class=\"data row7 col0\" >0.104634</td>\n",
       "                        <td id=\"T_fd320_row7_col1\" class=\"data row7 col1\" >0.104235</td>\n",
       "            </tr>\n",
       "            <tr>\n",
       "                        <th id=\"T_fd320_level0_row8\" class=\"row_heading level0 row8\" >livedoor-homme</th>\n",
       "                        <td id=\"T_fd320_row8_col0\" class=\"data row8 col0\" >0.069334</td>\n",
       "                        <td id=\"T_fd320_row8_col1\" class=\"data row8 col1\" >0.069490</td>\n",
       "            </tr>\n",
       "    </tbody></table>"
      ],
      "text/plain": [
       "<pandas.io.formats.style.Styler at 0x7f3f72915890>"
      ]
     },
     "execution_count": 7,
     "metadata": {},
     "output_type": "execute_result"
    }
   ],
   "source": [
    "# check if stratified\n",
    "y_train_ratio = y_train.value_counts()/y_train.value_counts().sum()\n",
    "y_test_ratio  = y_test.value_counts()/y_test.value_counts().sum()\n",
    "ratio = pd.concat([y_train_ratio, y_test_ratio], axis=1)\n",
    "ratio.columns = ['train', 'test']\n",
    "ratio.style.background_gradient('Blues')"
   ]
  },
  {
   "cell_type": "markdown",
   "metadata": {},
   "source": [
    "## modeling"
   ]
  },
  {
   "cell_type": "code",
   "execution_count": 8,
   "metadata": {},
   "outputs": [],
   "source": [
    "import torch\n",
    "import torch.nn as nn"
   ]
  },
  {
   "cell_type": "code",
   "execution_count": 9,
   "metadata": {},
   "outputs": [
    {
     "name": "stdout",
     "output_type": "stream",
     "text": [
      "tensor([[-0.0710, -0.2582,  0.1448,  ...,  0.0241, -0.0913, -0.0457],\n",
      "        [ 0.2202, -0.0901,  0.2460,  ...,  0.0837, -0.1585, -0.1565],\n",
      "        [ 0.1135, -0.1536,  0.2635,  ..., -0.0146, -0.0152, -0.0576],\n",
      "        ...,\n",
      "        [-0.2400,  0.4199,  0.0664,  ...,  0.6300,  0.0596,  0.0113],\n",
      "        [ 0.1291, -0.0587,  0.2667,  ..., -0.0918, -0.0228, -0.2439],\n",
      "        [ 0.1614, -0.0502,  0.2891,  ..., -0.1078, -0.0388, -0.2318]])\n"
     ]
    }
   ],
   "source": [
    "dataset.loc[:, 'embeddings_tensor'] = dataset['embeddings'].apply(lambda x: torch.tensor(np.array(list(x))))\n",
    "dataset.head()\n",
    "print(dataset['embeddings_tensor'][0])"
   ]
  },
  {
   "cell_type": "markdown",
   "metadata": {},
   "source": [
    "(`単語数，文数，次元数)"
   ]
  },
  {
   "cell_type": "code",
   "execution_count": 10,
   "metadata": {},
   "outputs": [
    {
     "data": {
      "text/plain": [
       "torch.Size([490, 1, 300])"
      ]
     },
     "execution_count": 10,
     "metadata": {},
     "output_type": "execute_result"
    }
   ],
   "source": [
    "# VOCAB_SIZE = len(word2index)\n",
    "EMBEDDING_DIM = 300\n",
    "HIDDEN_DIM = 128\n",
    "BATCH_SIZE = 1\n",
    "\n",
    "emb = dataset['embeddings_tensor'][0]\n",
    "lstm_input = emb.view(len(emb), BATCH_SIZE, -1)\n",
    "lstm_input.shape"
   ]
  },
  {
   "cell_type": "code",
   "execution_count": 11,
   "metadata": {
    "scrolled": true
   },
   "outputs": [
    {
     "name": "stdout",
     "output_type": "stream",
     "text": [
      "torch.Size([490, 1, 128])\n",
      "(tensor([[[ 0.0026,  0.0360, -0.0038,  0.1203,  0.0445, -0.0641, -0.0641,\n",
      "          -0.1231, -0.0287, -0.0383,  0.0543, -0.0459, -0.0544,  0.0604,\n",
      "           0.1016, -0.0589, -0.0586, -0.0043, -0.0181,  0.1761,  0.1033,\n",
      "           0.0841, -0.0822, -0.1888, -0.0917, -0.0341,  0.0804, -0.1273,\n",
      "          -0.0764,  0.0448,  0.0290, -0.0557, -0.0136,  0.0372,  0.0777,\n",
      "           0.0141, -0.0853, -0.0288,  0.0588,  0.0274,  0.0863,  0.0801,\n",
      "           0.1012,  0.1111, -0.1675,  0.0187,  0.0510,  0.0210,  0.1048,\n",
      "          -0.0294, -0.0236,  0.0527, -0.1596, -0.0649, -0.1114,  0.0475,\n",
      "           0.1013,  0.0400,  0.0127, -0.0958, -0.0526, -0.1274,  0.1216,\n",
      "          -0.0366,  0.0344,  0.0907, -0.1361, -0.0632,  0.0155,  0.0591,\n",
      "           0.1122,  0.0287, -0.1940, -0.0412,  0.1094, -0.0600, -0.0131,\n",
      "          -0.0745,  0.0422,  0.0314,  0.0116,  0.0019, -0.0383, -0.0052,\n",
      "           0.0842,  0.1230,  0.0211, -0.0063, -0.0174, -0.0632, -0.1162,\n",
      "           0.0142, -0.0200,  0.0181,  0.0360, -0.0420,  0.0694,  0.0135,\n",
      "           0.1058, -0.0532,  0.0117, -0.0518, -0.0450,  0.0868,  0.0052,\n",
      "           0.0852,  0.0753,  0.0520, -0.0315, -0.0115,  0.0495,  0.0407,\n",
      "          -0.0526,  0.0040,  0.0847, -0.0299,  0.1141, -0.0679,  0.1294,\n",
      "           0.0211,  0.0321,  0.0022, -0.1488, -0.0324, -0.1124,  0.0420,\n",
      "          -0.0878,  0.0150]]], grad_fn=<StackBackward>), tensor([[[ 0.0050,  0.0824, -0.0078,  0.2634,  0.0880, -0.1344, -0.1265,\n",
      "          -0.2396, -0.0570, -0.0793,  0.1009, -0.0919, -0.1096,  0.1237,\n",
      "           0.2058, -0.1304, -0.1169, -0.0093, -0.0344,  0.3486,  0.2082,\n",
      "           0.2082, -0.1587, -0.3681, -0.1867, -0.0686,  0.1817, -0.2596,\n",
      "          -0.1323,  0.1036,  0.0548, -0.0994, -0.0241,  0.0720,  0.1182,\n",
      "           0.0306, -0.1602, -0.0605,  0.1247,  0.0588,  0.1706,  0.1647,\n",
      "           0.2111,  0.2665, -0.3859,  0.0387,  0.0952,  0.0452,  0.2415,\n",
      "          -0.0608, -0.0541,  0.1008, -0.2551, -0.1361, -0.2317,  0.0941,\n",
      "           0.2368,  0.0698,  0.0279, -0.1798, -0.1103, -0.2293,  0.2312,\n",
      "          -0.0764,  0.0715,  0.1818, -0.2723, -0.1223,  0.0340,  0.1078,\n",
      "           0.2248,  0.0618, -0.3635, -0.0697,  0.1864, -0.1112, -0.0224,\n",
      "          -0.1241,  0.0898,  0.0576,  0.0239,  0.0039, -0.0737, -0.0086,\n",
      "           0.1664,  0.2492,  0.0435, -0.0127, -0.0386, -0.1212, -0.1905,\n",
      "           0.0238, -0.0394,  0.0309,  0.0718, -0.0931,  0.1375,  0.0252,\n",
      "           0.2508, -0.1121,  0.0254, -0.1052, -0.0932,  0.1497,  0.0101,\n",
      "           0.1959,  0.1740,  0.1059, -0.0698, -0.0277,  0.0787,  0.0689,\n",
      "          -0.1216,  0.0094,  0.1585, -0.0659,  0.2071, -0.1389,  0.2578,\n",
      "           0.0468,  0.0626,  0.0049, -0.2810, -0.0734, -0.2383,  0.0913,\n",
      "          -0.1974,  0.0347]]], grad_fn=<StackBackward>))\n"
     ]
    }
   ],
   "source": [
    "lstm = nn.LSTM(EMBEDDING_DIM, HIDDEN_DIM)\n",
    "\n",
    "out1, out2 = lstm(lstm_input)\n",
    "print(out1.shape)\n",
    "print(out2)"
   ]
  },
  {
   "cell_type": "code",
   "execution_count": 12,
   "metadata": {},
   "outputs": [],
   "source": [
    "class LSTMClassifier(nn.Module):\n",
    "    # モデルで使う各ネットワークをコンストラクタで定義\n",
    "    def __init__(self, embedding_dim, hidden_dim, tagset_size):\n",
    "        # 親クラスのコンストラクタ。決まり文句\n",
    "        super(LSTMClassifier, self).__init__()\n",
    "        # 隠れ層の次元数。これは好きな値に設定しても行列計算の過程で出力には出てこないので。\n",
    "        self.hidden_dim = hidden_dim\n",
    "        self.lstm = nn.LSTM(embedding_dim, hidden_dim)\n",
    "        \n",
    "        # LSTMの出力を受け取って全結合してsoftmaxに食わせるための１層のネットワーク\n",
    "        self.hidden2tag = nn.Linear(hidden_dim, tagset_size)\n",
    "        # softmaxのLog版。dim=0で列、dim=1で行方向を確率変換。\n",
    "        self.softmax = nn.LogSoftmax(dim=1)\n",
    "\n",
    "    # 順伝播処理はforward関数に記載\n",
    "    def forward(self, sentence):\n",
    "#         # 文章内の各単語をベクトル化して出力。2次元のテンソル\n",
    "#         embeds = self.word_embeddings(sentence)\n",
    "        # 2次元テンソルをLSTMに食わせられる様にviewで３次元テンソルにした上でLSTMへ流す。\n",
    "        # 上記で説明した様にmany to oneのタスクを解きたいので、第二戻り値だけ使う。\n",
    "        embeds = torch.tensor(list(sentence))\n",
    "        _, lstm_out = self.lstm(embeds.view(len(sentence), 1, -1))\n",
    "        # lstm_out[0]は３次元テンソルになってしまっているので2次元に調整して全結合。\n",
    "        tag_space = self.hidden2tag(lstm_out[0].view(-1, self.hidden_dim))\n",
    "        # softmaxに食わせて、確率として表現\n",
    "        tag_scores = self.softmax(tag_space)\n",
    "        return tag_scores\n",
    "\n",
    "EMBEDDING_DIM = 300\n",
    "HIDDEN_DIM = 128\n",
    "BATCH_SIZE = 1\n",
    "TARGET_SIZE = len(dataset['media'].unique())\n",
    "\n",
    "model = LSTMClassifier(EMBEDDING_DIM, HIDDEN_DIM, TARGET_SIZE)"
   ]
  },
  {
   "cell_type": "code",
   "execution_count": 13,
   "metadata": {},
   "outputs": [
    {
     "data": {
      "text/plain": [
       "LSTMClassifier(\n",
       "  (lstm): LSTM(300, 128)\n",
       "  (hidden2tag): Linear(in_features=128, out_features=9, bias=True)\n",
       "  (softmax): LogSoftmax(dim=1)\n",
       ")"
      ]
     },
     "execution_count": 13,
     "metadata": {},
     "output_type": "execute_result"
    }
   ],
   "source": [
    "model"
   ]
  },
  {
   "cell_type": "code",
   "execution_count": 14,
   "metadata": {},
   "outputs": [
    {
     "name": "stdout",
     "output_type": "stream",
     "text": [
      "{'sports-watch': 0, 'peachy': 1, 'smax': 2, 'livedoor-homme': 3, 'movie-enter': 4, 'kaden-channel': 5, 'it-life-hack': 6, 'dokujo-tsushin': 7, 'topic-news': 8}\n",
      "tensor([6])\n"
     ]
    }
   ],
   "source": [
    "categories = list(dataset['media'].unique())\n",
    "category2index = {}\n",
    "for cat in categories:\n",
    "    if cat in category2index: continue\n",
    "    category2index[cat] = len(category2index)\n",
    "print(category2index)\n",
    "#{'movie-enter': 0, 'it-life-hack': 1, 'kaden-channel': 2, 'topic-news': 3, 'livedoor-homme': 4, 'peachy': 5, 'sports-watch': 6, 'dokujo-tsushin': 7, 'smax': 8}\n",
    "\n",
    "def category2tensor(cat):\n",
    "    return torch.tensor([category2index[cat]], dtype=torch.long)\n",
    "\n",
    "print(category2tensor(\"it-life-hack\"))\n",
    "# tensor([1])"
   ]
  },
  {
   "cell_type": "code",
   "execution_count": 15,
   "metadata": {},
   "outputs": [
    {
     "data": {
      "text/plain": [
       "array([[ 0.27850372, -0.14280288,  0.0590597 , ..., -0.13369516,\n",
       "        -0.15940286, -0.08973489],\n",
       "       [ 0.11345748, -0.1536053 ,  0.26349765, ..., -0.01463737,\n",
       "        -0.01519805, -0.05762682],\n",
       "       [ 0.15083103, -0.13699119, -0.17893592, ..., -0.0339943 ,\n",
       "         0.02119296, -0.14708784],\n",
       "       ...,\n",
       "       [-0.00744801, -0.16674292,  0.1395167 , ...,  0.10811774,\n",
       "         0.1102052 ,  0.04362018],\n",
       "       [ 0.23267491, -0.0988275 , -0.08964849, ..., -0.00348453,\n",
       "         0.0086258 , -0.16862108],\n",
       "       [-0.03235267, -0.24351938,  0.01377656, ..., -0.00451565,\n",
       "        -0.0897551 , -0.23788233]], dtype=float32)"
      ]
     },
     "execution_count": 15,
     "metadata": {},
     "output_type": "execute_result"
    }
   ],
   "source": [
    "X_train[0]"
   ]
  },
  {
   "cell_type": "code",
   "execution_count": null,
   "metadata": {
    "scrolled": true
   },
   "outputs": [
    {
     "name": "stdout",
     "output_type": "stream",
     "text": [
      "0 - 0\n"
     ]
    },
    {
     "name": "stderr",
     "output_type": "stream",
     "text": [
      "/usr/local/lib/python3.7/dist-packages/torch/autograd/__init__.py:132: UserWarning: CUDA initialization: Found no NVIDIA driver on your system. Please check that you have an NVIDIA GPU and installed a driver from http://www.nvidia.com/Download/index.aspx (Triggered internally at  /pytorch/c10/cuda/CUDAFunctions.cpp:100.)\n",
      "  allow_unreachable=True)  # allow_unreachable flag\n"
     ]
    },
    {
     "name": "stdout",
     "output_type": "stream",
     "text": [
      "0 - 1000\n",
      "0 - 2000\n",
      "0 - 3000\n",
      "0 - 4000\n",
      "0 - 5000\n",
      "epoch 0 \t loss 9011.948988019489\n",
      "1 - 0\n",
      "1 - 1000\n",
      "1 - 2000\n",
      "1 - 3000\n",
      "1 - 4000\n",
      "1 - 5000\n",
      "epoch 1 \t loss 5637.201208098704\n",
      "2 - 0\n",
      "2 - 1000\n",
      "2 - 2000\n",
      "2 - 3000\n",
      "2 - 4000\n",
      "2 - 5000\n",
      "epoch 2 \t loss 4935.312842182102\n",
      "3 - 0\n",
      "3 - 1000\n",
      "3 - 2000\n",
      "3 - 3000\n",
      "3 - 4000\n",
      "3 - 5000\n",
      "epoch 3 \t loss 4611.952290912566\n",
      "4 - 0\n",
      "4 - 1000\n",
      "4 - 2000\n",
      "4 - 3000\n",
      "4 - 4000\n",
      "4 - 5000\n",
      "epoch 4 \t loss 4137.66166933428\n",
      "5 - 0\n",
      "5 - 1000\n",
      "5 - 2000\n",
      "5 - 3000\n",
      "5 - 4000\n",
      "5 - 5000\n",
      "epoch 5 \t loss 4333.362538182468\n",
      "6 - 0\n",
      "6 - 1000\n",
      "6 - 2000\n",
      "6 - 3000\n",
      "6 - 4000\n",
      "6 - 5000\n",
      "epoch 6 \t loss 4047.497596488858\n",
      "7 - 0\n",
      "7 - 1000\n",
      "7 - 2000\n",
      "7 - 3000\n",
      "7 - 4000\n",
      "7 - 5000\n",
      "epoch 7 \t loss 2943.3440656845123\n",
      "8 - 0\n",
      "8 - 1000\n",
      "8 - 2000\n",
      "8 - 3000\n",
      "8 - 4000\n",
      "8 - 5000\n",
      "epoch 8 \t loss 2412.965718171181\n",
      "9 - 0\n",
      "9 - 1000\n",
      "9 - 2000\n",
      "9 - 3000\n",
      "9 - 4000\n"
     ]
    }
   ],
   "source": [
    "from sklearn.model_selection import train_test_split\n",
    "import torch.optim as optim\n",
    "\n",
    "# 単語のベクトル次元数\n",
    "EMBEDDING_DIM = 300\n",
    "# 隠れ層の次元数\n",
    "HIDDEN_DIM = 128\n",
    "# # データ全体の単語数\n",
    "# VOCAB_SIZE = len(word2index)\n",
    "# 分類先のカテゴリの数\n",
    "TAG_SIZE = len(categories)\n",
    "# モデル宣言\n",
    "model = LSTMClassifier(EMBEDDING_DIM, HIDDEN_DIM, TAG_SIZE)\n",
    "# 損失関数はNLLLoss()を使う。LogSoftmaxを使う時はこれを使うらしい。\n",
    "loss_function = nn.NLLLoss()\n",
    "# 最適化の手法はSGDで。lossの減りに時間かかるけど、一旦はこれを使う。\n",
    "optimizer = optim.SGD(model.parameters(), lr=0.01)\n",
    "\n",
    "# 各エポックの合計loss値を格納する\n",
    "losses = []\n",
    "# 100ループ回してみる。（バッチ化とかGPU使ってないので結構時間かかる...）\n",
    "for epoch in range(100):\n",
    "    all_loss = 0\n",
    "    for e, (embedding, cat) in enumerate(zip(X_train, y_train)):\n",
    "        # モデルが持ってる勾配の情報をリセット\n",
    "        model.zero_grad()\n",
    "        # 順伝播の結果を受け取る\n",
    "        out = model(embedding)\n",
    "        # 正解カテゴリをテンソル化\n",
    "        answer = category2tensor(cat)\n",
    "        # 正解とのlossを計算\n",
    "        loss = loss_function(out, answer)\n",
    "        # 勾配をセット\n",
    "        loss.backward()\n",
    "        # 逆伝播でパラメータ更新\n",
    "        optimizer.step()\n",
    "        # lossを集計\n",
    "        all_loss += loss.item()\n",
    "        if (e%1000)==0: print(epoch, '-', e)\n",
    "    losses.append(all_loss)\n",
    "    print(\"epoch\", epoch, \"\\t\" , \"loss\", all_loss)\n",
    "print(\"done.\")"
   ]
  },
  {
   "cell_type": "code",
   "execution_count": null,
   "metadata": {},
   "outputs": [],
   "source": [
    "import matplotlib.pyplot as plt\n",
    "%matplotlib inline\n",
    "plt.plot(losses)"
   ]
  },
  {
   "cell_type": "code",
   "execution_count": null,
   "metadata": {},
   "outputs": [],
   "source": [
    "# テストデータの母数計算\n",
    "test_num = len(testdata)\n",
    "# 正解の件数\n",
    "a = 0\n",
    "# 勾配自動計算OFF\n",
    "with torch.no_grad():\n",
    "    for embeddig, category in zip(X_test, y_test):\n",
    "#         # テストデータの予測\n",
    "#         inputs = sentence2index(title)\n",
    "        out = model(embeddig)\n",
    "\n",
    "        # outの一番大きい要素を予測結果をする\n",
    "        _, predict = torch.max(out, 1)\n",
    "\n",
    "        answer = category2tensor(category)\n",
    "        if predict == answer:\n",
    "            a += 1\n",
    "print(\"predict : \", a / test_num)\n",
    "# predict :  0.6118391323994578"
   ]
  }
 ],
 "metadata": {
  "kernelspec": {
   "display_name": "Python 3",
   "language": "python",
   "name": "python3"
  },
  "language_info": {
   "codemirror_mode": {
    "name": "ipython",
    "version": 3
   },
   "file_extension": ".py",
   "mimetype": "text/x-python",
   "name": "python",
   "nbconvert_exporter": "python",
   "pygments_lexer": "ipython3",
   "version": "3.7.5"
  }
 },
 "nbformat": 4,
 "nbformat_minor": 4
}
