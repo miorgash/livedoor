{
 "cells": [
  {
   "cell_type": "code",
   "execution_count": 1,
   "id": "d9f0de66",
   "metadata": {},
   "outputs": [
    {
     "name": "stdout",
     "output_type": "stream",
     "text": [
      "{'DEVICE': 'cpu',\n",
      " 'DIR_BIN': '/tmp/work/livedoor/bin',\n",
      " 'DIR_DATA': '/tmp/work/livedoor/data',\n",
      " 'DIR_LOG': '/tmp/work/livedoor/log',\n",
      " 'DIR_MECAB_DIC': '/usr/lib/x86_64-linux-gnu/mecab/dic/mecab-ipadic-neologd',\n",
      " 'DIR_MODEL': '/tmp/work/livedoor/model',\n",
      " 'ROOT': '/tmp/work/livedoor',\n",
      " 'SAMPLE_SENT': 'ワンマンライブに行きたい。',\n",
      " 'SEED': 123,\n",
      " 'TOKENIZER': 'mecab'}\n"
     ]
    }
   ],
   "source": [
    "# primitive\n",
    "import sys\n",
    "import os\n",
    "import pickle\n",
    "import itertools\n",
    "from tqdm import tqdm\n",
    "from joblib import Parallel, delayed\n",
    "from pprint import pprint\n",
    "import itertools\n",
    "from collections import Counter\n",
    "from time import time\n",
    "from itertools import chain\n",
    "\n",
    "# data handling\n",
    "import numpy as np\n",
    "import pandas as pd\n",
    "import matplotlib.pyplot as plt\n",
    "import seaborn as sns\n",
    "\n",
    "# text\n",
    "import MeCab\n",
    "import spacy\n",
    "import gensim\n",
    "from gensim.models import KeyedVectors\n",
    "\n",
    "# nn\n",
    "import torch\n",
    "from torch import nn\n",
    "from torch.nn.utils.rnn import pad_sequence\n",
    "from torch.utils.data import DataLoader\n",
    "from torch.utils.data.dataset import random_split\n",
    "from torchtext.vocab import Vocab\n",
    "\n",
    "# **\n",
    "# handmade libs\n",
    "# *\n",
    "src = '../../src'\n",
    "if src not in sys.path: sys.path.append(src)\n",
    "\n",
    "# constants\n",
    "from const import *\n",
    "constants = {k: v for k, v in locals().items() if k.isupper()}\n",
    "pprint(constants)\n",
    "\n",
    "# modules\n",
    "# from my_tokenizer import get_tokenizer\n",
    "from livedoor_dataset import LivedoorDataset\n",
    "from myutils import get_n_label\n",
    "from sudachi_tokenizer import SudachiTokenizer"
   ]
  },
  {
   "cell_type": "markdown",
   "id": "900545d4",
   "metadata": {},
   "source": [
    "# Load"
   ]
  },
  {
   "cell_type": "code",
   "execution_count": 2,
   "id": "f6855feb",
   "metadata": {},
   "outputs": [
    {
     "data": {
      "text/html": [
       "<style  type=\"text/css\" >\n",
       "#T_d2e6a_row0_col0{\n",
       "            background-color:  #083370;\n",
       "            color:  #f1f1f1;\n",
       "        }#T_d2e6a_row0_col1{\n",
       "            background-color:  #3e8ec4;\n",
       "            color:  #000000;\n",
       "        }#T_d2e6a_row0_col2{\n",
       "            background-color:  #084b93;\n",
       "            color:  #f1f1f1;\n",
       "        }#T_d2e6a_row0_col3{\n",
       "            background-color:  #083674;\n",
       "            color:  #f1f1f1;\n",
       "        }#T_d2e6a_row0_col4{\n",
       "            background-color:  #0f5aa3;\n",
       "            color:  #f1f1f1;\n",
       "        }#T_d2e6a_row0_col5{\n",
       "            background-color:  #f7fbff;\n",
       "            color:  #000000;\n",
       "        }#T_d2e6a_row0_col6{\n",
       "            background-color:  #083a7a;\n",
       "            color:  #f1f1f1;\n",
       "        }#T_d2e6a_row0_col7{\n",
       "            background-color:  #0a539e;\n",
       "            color:  #f1f1f1;\n",
       "        }#T_d2e6a_row0_col8{\n",
       "            background-color:  #08306b;\n",
       "            color:  #f1f1f1;\n",
       "        }</style><table id=\"T_d2e6a_\" ><thead>    <tr>        <th class=\"index_name level0\" >0</th>        <th class=\"col_heading level0 col0\" >0</th>        <th class=\"col_heading level0 col1\" >1</th>        <th class=\"col_heading level0 col2\" >2</th>        <th class=\"col_heading level0 col3\" >3</th>        <th class=\"col_heading level0 col4\" >4</th>        <th class=\"col_heading level0 col5\" >5</th>        <th class=\"col_heading level0 col6\" >6</th>        <th class=\"col_heading level0 col7\" >7</th>        <th class=\"col_heading level0 col8\" >8</th>    </tr></thead><tbody>\n",
       "                <tr>\n",
       "                        <th id=\"T_d2e6a_level0_row0\" class=\"row_heading level0 row0\" >1</th>\n",
       "                        <td id=\"T_d2e6a_row0_col0\" class=\"data row0 col0\" >713</td>\n",
       "                        <td id=\"T_d2e6a_row0_col1\" class=\"data row0 col1\" >607</td>\n",
       "                        <td id=\"T_d2e6a_row0_col2\" class=\"data row0 col2\" >685</td>\n",
       "                        <td id=\"T_d2e6a_row0_col3\" class=\"data row0 col3\" >709</td>\n",
       "                        <td id=\"T_d2e6a_row0_col4\" class=\"data row0 col4\" >668</td>\n",
       "                        <td id=\"T_d2e6a_row0_col5\" class=\"data row0 col5\" >413</td>\n",
       "                        <td id=\"T_d2e6a_row0_col6\" class=\"data row0 col6\" >705</td>\n",
       "                        <td id=\"T_d2e6a_row0_col7\" class=\"data row0 col7\" >676</td>\n",
       "                        <td id=\"T_d2e6a_row0_col8\" class=\"data row0 col8\" >717</td>\n",
       "            </tr>\n",
       "    </tbody></table>"
      ],
      "text/plain": [
       "<pandas.io.formats.style.Styler at 0x40b9a9a510>"
      ]
     },
     "metadata": {},
     "output_type": "display_data"
    },
    {
     "data": {
      "text/html": [
       "<style  type=\"text/css\" >\n",
       "#T_01d08_row0_col0{\n",
       "            background-color:  #0e58a2;\n",
       "            color:  #f1f1f1;\n",
       "        }#T_01d08_row0_col1{\n",
       "            background-color:  #4191c6;\n",
       "            color:  #000000;\n",
       "        }#T_01d08_row0_col2{\n",
       "            background-color:  #0f5aa3;\n",
       "            color:  #f1f1f1;\n",
       "        }#T_01d08_row0_col3{\n",
       "            background-color:  #4896c8;\n",
       "            color:  #000000;\n",
       "        }#T_01d08_row0_col4{\n",
       "            background-color:  #08306b;\n",
       "            color:  #f1f1f1;\n",
       "        }#T_01d08_row0_col5{\n",
       "            background-color:  #f7fbff;\n",
       "            color:  #000000;\n",
       "        }#T_01d08_row0_col6{\n",
       "            background-color:  #4e9acb;\n",
       "            color:  #000000;\n",
       "        }#T_01d08_row0_col7{\n",
       "            background-color:  #3a8ac2;\n",
       "            color:  #000000;\n",
       "        }#T_01d08_row0_col8{\n",
       "            background-color:  #61a7d2;\n",
       "            color:  #000000;\n",
       "        }</style><table id=\"T_01d08_\" ><thead>    <tr>        <th class=\"index_name level0\" >0</th>        <th class=\"col_heading level0 col0\" >0</th>        <th class=\"col_heading level0 col1\" >1</th>        <th class=\"col_heading level0 col2\" >2</th>        <th class=\"col_heading level0 col3\" >3</th>        <th class=\"col_heading level0 col4\" >4</th>        <th class=\"col_heading level0 col5\" >5</th>        <th class=\"col_heading level0 col6\" >6</th>        <th class=\"col_heading level0 col7\" >7</th>        <th class=\"col_heading level0 col8\" >8</th>    </tr></thead><tbody>\n",
       "                <tr>\n",
       "                        <th id=\"T_01d08_level0_row0\" class=\"row_heading level0 row0\" >1</th>\n",
       "                        <td id=\"T_01d08_row0_col0\" class=\"data row0 col0\" >186</td>\n",
       "                        <td id=\"T_01d08_row0_col1\" class=\"data row0 col1\" >163</td>\n",
       "                        <td id=\"T_01d08_row0_col2\" class=\"data row0 col2\" >185</td>\n",
       "                        <td id=\"T_01d08_row0_col3\" class=\"data row0 col3\" >161</td>\n",
       "                        <td id=\"T_01d08_row0_col4\" class=\"data row0 col4\" >202</td>\n",
       "                        <td id=\"T_01d08_row0_col5\" class=\"data row0 col5\" >98</td>\n",
       "                        <td id=\"T_01d08_row0_col6\" class=\"data row0 col6\" >159</td>\n",
       "                        <td id=\"T_01d08_row0_col7\" class=\"data row0 col7\" >166</td>\n",
       "                        <td id=\"T_01d08_row0_col8\" class=\"data row0 col8\" >153</td>\n",
       "            </tr>\n",
       "    </tbody></table>"
      ],
      "text/plain": [
       "<pandas.io.formats.style.Styler at 0x4035ca50d0>"
      ]
     },
     "metadata": {},
     "output_type": "display_data"
    },
    {
     "data": {
      "text/plain": [
       "48108"
      ]
     },
     "execution_count": 2,
     "metadata": {},
     "output_type": "execute_result"
    }
   ],
   "source": [
    "# データセット読み込み\n",
    "file = os.path.join(DIR_BIN, 'train_subset.pkl')\n",
    "with open(file, 'rb') as f:\n",
    "    train_dataset = pickle.load(f)\n",
    "\n",
    "file = os.path.join(DIR_BIN, 'test_subset.pkl')\n",
    "with open(file, 'rb') as f:\n",
    "    test_dataset = pickle.load(f)\n",
    "\n",
    "# vocab, embedding 読み込み\n",
    "ENGINE = 'sudachi'\n",
    "DICT = 'core'\n",
    "DATASET = 'livedoor'\n",
    "EMBEDDING = 'chive_mc90'\n",
    "VERSION = 'intersection'\n",
    "file_vocab = os.path.join(DIR_BIN, f'{ENGINE}.{DICT}.{DATASET}.{EMBEDDING}.{VERSION}.vocab.pkl')\n",
    "file_embedding = os.path.join(DIR_BIN, f'{ENGINE}.{DICT}.{DATASET}.{EMBEDDING}.{VERSION}.embedding.pkl')\n",
    "with open(file_vocab, 'rb') as f:\n",
    "    vocab = pickle.load(f)\n",
    "with open(file_embedding, 'rb') as f:\n",
    "    embedding = pickle.load(f)\n",
    "\n",
    "display(get_n_label(train_dataset).style.background_gradient('Blues', axis=1))\n",
    "display(get_n_label(test_dataset).style.background_gradient('Blues', axis=1))\n",
    "len(vocab)"
   ]
  },
  {
   "cell_type": "code",
   "execution_count": 4,
   "id": "ea6cea56",
   "metadata": {},
   "outputs": [
    {
     "name": "stdout",
     "output_type": "stream",
     "text": [
      "0 1\n"
     ]
    }
   ],
   "source": [
    "# pad\n",
    "UNK = vocab.stoi['<unknown>']\n",
    "PAD = vocab.stoi['<pad>']\n",
    "print(UNK, PAD)"
   ]
  },
  {
   "cell_type": "code",
   "execution_count": 4,
   "id": "2770a196",
   "metadata": {},
   "outputs": [],
   "source": [
    "# 実験全体で class 作るべき。tokenizer, vocab, dataset をそれぞれ attributes としてもつ class"
   ]
  },
  {
   "cell_type": "markdown",
   "id": "0b457902",
   "metadata": {},
   "source": [
    "embeddings"
   ]
  },
  {
   "cell_type": "code",
   "execution_count": 7,
   "id": "91e4562c",
   "metadata": {},
   "outputs": [
    {
     "name": "stdout",
     "output_type": "stream",
     "text": [
      "CPU times: user 3.4 s, sys: 677 ms, total: 4.08 s\n",
      "Wall time: 4.14 s\n"
     ]
    },
    {
     "data": {
      "text/plain": [
       "<gensim.models.keyedvectors.Word2VecKeyedVectors at 0x40c8dfa410>"
      ]
     },
     "execution_count": 7,
     "metadata": {},
     "output_type": "execute_result"
    }
   ],
   "source": [
    "%%time\n",
    "# embed\n",
    "# vectors = gensim.models.KeyedVectors.load_word2vec_format(\"/data/wikientvec_100d/jawiki.all_vectors.100d.txt\")\n",
    "vectors = gensim.models.KeyedVectors.load(\"/data/chive_v1.2mc90/chive-1.2-mc90_gensim/chive-1.2-mc90.kv\")\n",
    "vectors"
   ]
  },
  {
   "cell_type": "markdown",
   "id": "561ef3cd",
   "metadata": {},
   "source": [
    "# Check"
   ]
  },
  {
   "cell_type": "code",
   "execution_count": 17,
   "id": "c2e40da3",
   "metadata": {
    "scrolled": true
   },
   "outputs": [
    {
     "name": "stdout",
     "output_type": "stream",
     "text": [
      "Check result True\n",
      "Head 10 elements:\n",
      "v_chive: [ 0.01652581  0.2059536   0.19098379  0.0295354   0.12178768  0.15640377\n",
      "  0.06399765 -0.03989642 -0.1120111   0.05247628]\n",
      "v_lstm: [ 0.01652581  0.2059536   0.19098379  0.0295354   0.12178768  0.15640377\n",
      "  0.06399765 -0.03989642 -0.1120111   0.05247628]\n"
     ]
    }
   ],
   "source": [
    "# check; vectors[語]、lstm.embedding[vocab.stoi[語]] が一致するか？\n",
    "word = '私'\n",
    "v_chive = vectors[word]\n",
    "v_lstm  = lstm.embedding(torch.tensor(vocab.stoi[word])).numpy()\n",
    "print('Check result', all(v_chive==v_lstm))\n",
    "print('Head 10 elements:')\n",
    "print('v_chive:', v_chive[:10])\n",
    "print('v_lstm:', v_lstm[:10])"
   ]
  },
  {
   "cell_type": "markdown",
   "id": "e96b3a3c",
   "metadata": {},
   "source": [
    "# Experiments"
   ]
  },
  {
   "cell_type": "markdown",
   "id": "500a3f62",
   "metadata": {},
   "source": [
    "Class, Functions"
   ]
  },
  {
   "cell_type": "code",
   "execution_count": null,
   "id": "7ed8b9f7",
   "metadata": {},
   "outputs": [],
   "source": [
    "# todo: vocab, embedding 渡して vocab_size, embed_dim は渡さないようにする"
   ]
  },
  {
   "cell_type": "code",
   "execution_count": 9,
   "id": "43df31f4",
   "metadata": {
    "scrolled": true
   },
   "outputs": [
    {
     "name": "stdout",
     "output_type": "stream",
     "text": [
      "sample prediction\n"
     ]
    },
    {
     "data": {
      "text/plain": [
       "<AxesSubplot:>"
      ]
     },
     "execution_count": 9,
     "metadata": {},
     "output_type": "execute_result"
    },
    {
     "data": {
      "image/png": "[encoded data removed]",
      "text/plain": [
       "<Figure size 432x288 with 2 Axes>"
      ]
     },
     "metadata": {
      "needs_background": "light"
     },
     "output_type": "display_data"
    }
   ],
   "source": [
    "class LSTMClassifier(nn.Module):\n",
    "    \n",
    "    def __init__(self, vocab_size, embed_dim, h_dim, class_dim):\n",
    "        super(LSTMClassifier, self).__init__()\n",
    "        torch.manual_seed(SEED)\n",
    "        self.embedding = nn.Embedding.from_pretrained(torch.Tensor(embedding))\n",
    "        self.lstm = nn.LSTM(embed_dim, h_dim, batch_first=True)\n",
    "        self.linear = nn.Linear(h_dim, class_dim)\n",
    "        \n",
    "    def forward(self, texts):\n",
    "        '''Calculate an output sequence for input text\n",
    "        \n",
    "        Args:\n",
    "          texts: 2 rank array of \n",
    "        Returns:\n",
    "        \n",
    "        '''\n",
    "        emb = self.embedding(texts)\n",
    "        o, (h_n, c_n) = self.lstm(emb)\n",
    "        out = self.linear(h_n)\n",
    "        return out\n",
    "\n",
    "lstm = LSTMClassifier(len(vocab), embed_dim=300, h_dim=100, class_dim=9)\n",
    "input_ = torch.tensor(np.random.randint(0, len(embedding), [20, 300]))\n",
    "output = lstm(input_).detach().squeeze().numpy()\n",
    "print('sample prediction')\n",
    "sns.heatmap(output, annot=False)"
   ]
  },
  {
   "cell_type": "code",
   "execution_count": 7,
   "id": "3824b038",
   "metadata": {},
   "outputs": [],
   "source": [
    "# vocab と embedding のマッピングミスってると（ランダムになると）、出力結果が偏る？\n",
    "# Embedding と比較し、Word2Vec の特徴量を用いた方が偏るのは必然"
   ]
  },
  {
   "cell_type": "code",
   "execution_count": null,
   "id": "d0e94378",
   "metadata": {},
   "outputs": [],
   "source": []
  },
  {
   "cell_type": "code",
   "execution_count": 8,
   "id": "e43ed7a0",
   "metadata": {
    "scrolled": false
   },
   "outputs": [
    {
     "data": {
      "text/html": [
       "<style  type=\"text/css\" >\n",
       "#T_5da73_row0_col0{\n",
       "            background-color:  #08306b;\n",
       "            color:  #f1f1f1;\n",
       "        }#T_5da73_row1_col0{\n",
       "            background-color:  #c6dbef;\n",
       "            color:  #000000;\n",
       "        }#T_5da73_row2_col0{\n",
       "            background-color:  #f7fbff;\n",
       "            color:  #000000;\n",
       "        }</style><table id=\"T_5da73_\" ><thead>    <tr>        <th class=\"blank level0\" ></th>        <th class=\"col_heading level0 col0\" >1</th>    </tr>    <tr>        <th class=\"index_name level0\" >0</th>        <th class=\"blank\" ></th>    </tr></thead><tbody>\n",
       "                <tr>\n",
       "                        <th id=\"T_5da73_level0_row0\" class=\"row_heading level0 row0\" >0</th>\n",
       "                        <td id=\"T_5da73_row0_col0\" class=\"data row0 col0\" >9</td>\n",
       "            </tr>\n",
       "            <tr>\n",
       "                        <th id=\"T_5da73_level0_row1\" class=\"row_heading level0 row1\" >2</th>\n",
       "                        <td id=\"T_5da73_row1_col0\" class=\"data row1 col0\" >6</td>\n",
       "            </tr>\n",
       "            <tr>\n",
       "                        <th id=\"T_5da73_level0_row2\" class=\"row_heading level0 row2\" >7</th>\n",
       "                        <td id=\"T_5da73_row2_col0\" class=\"data row2 col0\" >5</td>\n",
       "            </tr>\n",
       "    </tbody></table>"
      ],
      "text/plain": [
       "<pandas.io.formats.style.Styler at 0x40bae10c50>"
      ]
     },
     "execution_count": 8,
     "metadata": {},
     "output_type": "execute_result"
    }
   ],
   "source": [
    "freq = Counter(output.argmax(axis=1)).most_common()\n",
    "pd.DataFrame(freq).set_index(0).style.background_gradient('Blues')"
   ]
  },
  {
   "cell_type": "code",
   "execution_count": 9,
   "id": "5211e9d5",
   "metadata": {},
   "outputs": [
    {
     "data": {
      "text/plain": [
       "[0, 2, 21728, 6, 2837, 7, 0, 63]"
      ]
     },
     "execution_count": 9,
     "metadata": {},
     "output_type": "execute_result"
    }
   ],
   "source": [
    "# mapping tokens to labels\n",
    "tokenizer = SudachiTokenizer()\n",
    "text_pipeline = lambda text: [vocab[token] for token in tokenizer.tokenized_text(text)]\n",
    "text_pipeline('ヴェニスの商人を返してくださいよ')"
   ]
  },
  {
   "cell_type": "markdown",
   "id": "a1d7aed7",
   "metadata": {},
   "source": [
    "---"
   ]
  },
  {
   "cell_type": "code",
   "execution_count": 10,
   "id": "0ce2dc5a",
   "metadata": {},
   "outputs": [
    {
     "data": {
      "text/plain": [
       "48108"
      ]
     },
     "execution_count": 10,
     "metadata": {},
     "output_type": "execute_result"
    }
   ],
   "source": [
    "len(vocab)"
   ]
  },
  {
   "cell_type": "code",
   "execution_count": 11,
   "id": "027cbd81",
   "metadata": {
    "scrolled": true
   },
   "outputs": [
    {
     "data": {
      "text/plain": [
       "(482238, 300)"
      ]
     },
     "execution_count": 11,
     "metadata": {},
     "output_type": "execute_result"
    }
   ],
   "source": [
    "vectors.vectors.shape"
   ]
  },
  {
   "cell_type": "code",
   "execution_count": 12,
   "id": "7bcb6ca1",
   "metadata": {},
   "outputs": [
    {
     "data": {
      "text/plain": [
       "0"
      ]
     },
     "execution_count": 12,
     "metadata": {},
     "output_type": "execute_result"
    }
   ],
   "source": [
    "vocab['<unknown>']"
   ]
  },
  {
   "cell_type": "code",
   "execution_count": 13,
   "id": "4bda41f3",
   "metadata": {},
   "outputs": [
    {
     "data": {
      "text/plain": [
       "'<unk>'"
      ]
     },
     "execution_count": 13,
     "metadata": {},
     "output_type": "execute_result"
    }
   ],
   "source": [
    "vocab.itos[0]"
   ]
  },
  {
   "cell_type": "code",
   "execution_count": 14,
   "id": "9f67bcf6",
   "metadata": {},
   "outputs": [],
   "source": [
    "def words_to_indices(vocab):\n",
    "    '''\n",
    "    Args:\n",
    "      vocab: 学習用コーパスから構築した torchtext.vocab\n",
    "    Returns:\n",
    "      words に対応する indices\n",
    "    '''\n",
    "    \n",
    "    return"
   ]
  },
  {
   "cell_type": "code",
   "execution_count": 15,
   "id": "12e80314",
   "metadata": {},
   "outputs": [],
   "source": [
    "def indices_to_embeddings():\n",
    "    '''\n",
    "    Args:\n",
    "    Returns:\n",
    "    '''\n",
    "    return"
   ]
  },
  {
   "cell_type": "code",
   "execution_count": 16,
   "id": "e0bc259e",
   "metadata": {},
   "outputs": [],
   "source": [
    "# 学習用 embedding 取得は word を介す必要がある\n",
    "\n",
    "# vocab 構築時\n",
    "# index <__ vocab.word                     # word から index へのマッパー（学習・推論に使用する）\n",
    "#       \\_> vocab.word __> vectors.vectors # word から embedding を取得し、index から embedding へのマッパーを構築\n",
    "\n",
    "# 学習時\n",
    "# token __> index __> embedding"
   ]
  },
  {
   "cell_type": "code",
   "execution_count": 17,
   "id": "29fb1212",
   "metadata": {},
   "outputs": [],
   "source": [
    "# vocab の語に対応する embedding を vectors.vectors から取得すれば良い（not found の場合 zeros）\n"
   ]
  },
  {
   "cell_type": "code",
   "execution_count": 18,
   "id": "6afc7c49",
   "metadata": {},
   "outputs": [],
   "source": [
    "# 本質的には、embedding は辞書。list にすることで高速になっている辞書。"
   ]
  },
  {
   "cell_type": "code",
   "execution_count": 22,
   "id": "5faa9bf7",
   "metadata": {},
   "outputs": [],
   "source": [
    "words = map(lambda i: vocab.itos[i], range(len(vocab)))\n",
    "next(words) # todo: generator を 2 回スキップする方法\n",
    "next(words)\n",
    "\n",
    "# word[:2] から map を作る\n",
    "embeddings = np.zeros((2, vectors.vector_size))\n",
    "# word[2:] を追加\n",
    "embeddings_ = map(lambda word: vectors[word], words)"
   ]
  },
  {
   "cell_type": "code",
   "execution_count": 20,
   "id": "cff409fc",
   "metadata": {},
   "outputs": [
    {
     "data": {
      "text/plain": [
       "array([[-0.15015039,  0.07080086,  0.11928815, ...,  0.01221705,\n",
       "        -0.0908808 , -0.00870948],\n",
       "       [-0.08745724,  0.12418488,  0.1058699 , ..., -0.03728667,\n",
       "        -0.03457643,  0.03314022],\n",
       "       [-0.05807   ,  0.0648868 ,  0.12694766, ..., -0.1070948 ,\n",
       "        -0.17333554,  0.04774506],\n",
       "       ...,\n",
       "       [-0.2465699 ,  0.00908042, -0.23360902, ..., -0.43747047,\n",
       "        -0.35409448,  0.18685739],\n",
       "       [ 0.16180563,  0.23337628,  0.04505325, ...,  0.01365913,\n",
       "         0.00174956,  0.0117659 ],\n",
       "       [ 0.07285554,  0.19574864, -0.12849957, ...,  0.18783216,\n",
       "        -0.01891572, -0.05546385]], dtype=float32)"
      ]
     },
     "execution_count": 20,
     "metadata": {},
     "output_type": "execute_result"
    }
   ],
   "source": [
    "# [2:] の語に対応する embeddings の array を作る試行\n",
    "# todo: KeyError; 辞書に存在しないはずの（vectors には少なくとも存在しない） ' ' が vocab には含まれており、エラー。\n",
    "# -> 以下確認結果より、今回は unknown として捌く。以下の通り修正？\n",
    "#    現：vocab + <unk> + <pad>\n",
    "#    新：vocab と vectors の intersection + <unk> + <pad>\n",
    "# ・Counter 時点で頻度確認する（どの文に、どのくらいの頻度で含まれるのか？なぜ ' ' が存在するのか？）\n",
    "# 　-> 比較的低頻度語だった。今回は対応見送る。\n",
    "# ・vocab に含まれ、vectors に含まれない語は他に存在するか？どのくらい存在するか？なぜ存在するか？\n",
    "# 　-> 結構存在した。unknown に割り当てる。\n",
    "emb2 = np.array([arr for arr in embeddings_])\n",
    "emb2 "
   ]
  },
  {
   "cell_type": "code",
   "execution_count": 25,
   "id": "d42634c9",
   "metadata": {},
   "outputs": [
    {
     "ename": "TypeError",
     "evalue": "only integer scalar arrays can be converted to a scalar index",
     "output_type": "error",
     "traceback": [
      "\u001b[0;31m---------------------------------------------------------------------------\u001b[0m",
      "\u001b[0;31mTypeError\u001b[0m                                 Traceback (most recent call last)",
      "\u001b[0;32m<ipython-input-25-d1fb2bacbe6c>\u001b[0m in \u001b[0;36m<module>\u001b[0;34m\u001b[0m\n\u001b[0;32m----> 1\u001b[0;31m \u001b[0mnp\u001b[0m\u001b[0;34m.\u001b[0m\u001b[0mconcatenate\u001b[0m\u001b[0;34m(\u001b[0m\u001b[0membeddings\u001b[0m\u001b[0;34m,\u001b[0m \u001b[0memb2\u001b[0m\u001b[0;34m)\u001b[0m\u001b[0;34m\u001b[0m\u001b[0;34m\u001b[0m\u001b[0m\n\u001b[0m",
      "\u001b[0;32m<__array_function__ internals>\u001b[0m in \u001b[0;36mconcatenate\u001b[0;34m(*args, **kwargs)\u001b[0m\n",
      "\u001b[0;31mTypeError\u001b[0m: only integer scalar arrays can be converted to a scalar index"
     ]
    }
   ],
   "source": [
    "np.concatenate(embeddings, emb2)"
   ]
  },
  {
   "cell_type": "code",
   "execution_count": 204,
   "id": "8dc99b6f",
   "metadata": {},
   "outputs": [
    {
     "name": "stdout",
     "output_type": "stream",
     "text": [
      "0\n",
      "1\n",
      "2\n",
      "3\n"
     ]
    }
   ],
   "source": [
    "ls = ['0', '1', '2', '3']\n",
    "# word[:2] から map をつくる\n",
    "map1 = map(int, ls[:2])\n",
    "# word[2:] で map を update する\n",
    "map2 = map(int, ls[2:])\n",
    "\n",
    "\n",
    "for i in chain(map1, map2):\n",
    "    print(i)"
   ]
  },
  {
   "cell_type": "code",
   "execution_count": null,
   "id": "bccf4a9d",
   "metadata": {},
   "outputs": [],
   "source": [
    "# vocab の語に対応する emb を vectors から取得する\n",
    "def word_to_embedding():\n",
    "    '''\n",
    "    Args:\n",
    "      words\n",
    "    Returns:\n",
    "      2dim ndarray of (n_vocab, n_embedding_dim)\n",
    "    '''\n",
    "    \n",
    "    indices = words_to_indices()\n",
    "    embeddings = indices_to_embeddings(index)\n",
    "    return embeddings"
   ]
  },
  {
   "cell_type": "code",
   "execution_count": null,
   "id": "f6ebc63b",
   "metadata": {},
   "outputs": [],
   "source": [
    "# lstm コンストラクト時に np.array を渡せば良い\n",
    "emb_for_model = # <unk>, <pad>, 以降 vocab に登録されている語彙\n",
    "\n",
    "# 別途 <unk>, <pad> を 0, 1 にマッピングするやつをつくる"
   ]
  },
  {
   "cell_type": "code",
   "execution_count": null,
   "id": "d8fdc455",
   "metadata": {},
   "outputs": [],
   "source": [
    "token2vec = lambda token: [vocab[t] for t in tokens]"
   ]
  },
  {
   "cell_type": "code",
   "execution_count": 25,
   "id": "6ff74741",
   "metadata": {},
   "outputs": [
    {
     "data": {
      "text/plain": [
       "False"
      ]
     },
     "execution_count": 25,
     "metadata": {},
     "output_type": "execute_result"
    }
   ],
   "source": [
    "# test\n",
    "len(vocab) == len(lstm.embedding.weight)"
   ]
  },
  {
   "cell_type": "code",
   "execution_count": null,
   "id": "e8250e82",
   "metadata": {},
   "outputs": [],
   "source": [
    "# 学習用\n",
    "def corpus_to_index(corpus):"
   ]
  },
  {
   "cell_type": "markdown",
   "id": "ef4b5e43",
   "metadata": {},
   "source": [
    "---\n",
    "work"
   ]
  },
  {
   "cell_type": "code",
   "execution_count": null,
   "id": "8b294711",
   "metadata": {},
   "outputs": [],
   "source": [
    "# vocab"
   ]
  },
  {
   "cell_type": "code",
   "execution_count": 79,
   "id": "9f63fe93",
   "metadata": {},
   "outputs": [
    {
     "ename": "TypeError",
     "evalue": "object of type 'Word2VecKeyedVectors' has no len()",
     "output_type": "error",
     "traceback": [
      "\u001b[0;31m---------------------------------------------------------------------------\u001b[0m",
      "\u001b[0;31mTypeError\u001b[0m                                 Traceback (most recent call last)",
      "\u001b[0;32m<ipython-input-79-6933568bc2e0>\u001b[0m in \u001b[0;36m<module>\u001b[0;34m\u001b[0m\n\u001b[0;32m----> 1\u001b[0;31m \u001b[0mlen\u001b[0m\u001b[0;34m(\u001b[0m\u001b[0mvectors\u001b[0m\u001b[0;34m)\u001b[0m\u001b[0;34m\u001b[0m\u001b[0;34m\u001b[0m\u001b[0m\n\u001b[0m",
      "\u001b[0;31mTypeError\u001b[0m: object of type 'Word2VecKeyedVectors' has no len()"
     ]
    }
   ],
   "source": [
    "# gensim pre-trained word embeddings\n",
    "len(vectors)"
   ]
  },
  {
   "cell_type": "code",
   "execution_count": 62,
   "id": "6c44cf04",
   "metadata": {},
   "outputs": [
    {
     "name": "stdout",
     "output_type": "stream",
     "text": [
      "ワンマンライブ \t 49807\n",
      "に \t 5\n",
      "行き \t 1232\n",
      "たい \t 67\n",
      "。 \t 4\n"
     ]
    }
   ],
   "source": [
    "for token in tokenizer('ワンマンライブに行きたい。'):\n",
    "    print(token, '\\t', vocab.stoi[token])"
   ]
  },
  {
   "cell_type": "code",
   "execution_count": 23,
   "id": "81c149fb",
   "metadata": {
    "scrolled": true
   },
   "outputs": [
    {
     "data": {
      "text/plain": [
       "[49807, 5, 1232, 67, 4]"
      ]
     },
     "execution_count": 23,
     "metadata": {},
     "output_type": "execute_result"
    }
   ],
   "source": [
    "text_pipeline('ワンマンライブに行きたい。')"
   ]
  },
  {
   "cell_type": "code",
   "execution_count": 32,
   "id": "8684741e",
   "metadata": {
    "scrolled": true
   },
   "outputs": [
    {
     "data": {
      "text/plain": [
       "array([ 0.16182911, -0.3831035 ,  0.08897455,  0.2696094 ,  0.50370395,\n",
       "       -1.5779693 , -0.02887545,  0.15601242,  0.5933749 ,  0.26829723,\n",
       "        0.4387496 , -0.13198546,  0.4867631 , -0.42751533, -0.16602193,\n",
       "        0.37181452,  0.00741837, -0.28342405, -0.40079325, -0.1292185 ,\n",
       "       -0.66187537,  0.6831316 , -0.5407747 , -0.0414824 , -0.41307643,\n",
       "        0.12783156,  0.5667084 ,  0.27885798,  0.6630737 , -0.795137  ,\n",
       "       -0.03778205, -0.61101997,  0.09753195, -0.4141272 , -0.02297107,\n",
       "       -0.4088845 , -0.08629668,  0.44890362,  0.5211927 , -0.7766864 ,\n",
       "       -0.51905245,  0.30039394, -0.25379872, -0.68492085, -0.34763685,\n",
       "       -0.55186224,  0.01679777,  0.38883498, -0.08691451, -0.7895106 ,\n",
       "        0.18044803, -0.15715006,  0.2666233 ,  0.12482442, -0.08941465,\n",
       "       -0.6197231 , -0.09034936, -0.33592594, -0.0967902 ,  0.01313648,\n",
       "       -0.58120304,  0.6546201 ,  0.44295904,  0.5898861 , -0.49172887,\n",
       "       -0.04186677, -0.23813097,  0.0569172 , -0.43713585, -0.4751914 ,\n",
       "        0.12434102, -0.28095683,  0.718557  ,  0.18102245,  0.17144936,\n",
       "       -0.05186573, -0.23808019,  0.6003632 ,  0.06482829,  0.16197337,\n",
       "       -0.23862578, -0.9258224 , -0.43088776,  0.05952098,  0.25765032,\n",
       "       -0.2718834 , -0.1279172 , -0.16353454, -0.19233242, -0.332687  ,\n",
       "        0.477681  ,  0.26063907,  0.07488823,  0.14341429,  0.09569354,\n",
       "       -0.42915   ,  0.67552245,  0.16277066, -0.55847746, -0.28607842],\n",
       "      dtype=float32)"
      ]
     },
     "execution_count": 32,
     "metadata": {},
     "output_type": "execute_result"
    }
   ],
   "source": [
    "vectors['ワンマンライブ']"
   ]
  },
  {
   "cell_type": "code",
   "execution_count": 64,
   "id": "912987c5",
   "metadata": {
    "scrolled": true
   },
   "outputs": [
    {
     "name": "stderr",
     "output_type": "stream",
     "text": [
      "/usr/local/lib/python3.7/dist-packages/ipykernel_launcher.py:1: DeprecationWarning: Call to deprecated `wv` (Attribute will be removed in 4.0.0, use self instead).\n",
      "  \"\"\"Entry point for launching an IPython kernel.\n"
     ]
    },
    {
     "data": {
      "text/plain": [
       "array([ 0.9353329 ,  0.10847794, -0.7593388 , -0.43520948, -0.6319827 ,\n",
       "       -0.5649125 ,  0.0936038 , -0.18735918, -0.14874642,  0.7334172 ,\n",
       "       -0.03167869,  0.16471907, -0.31386477,  0.2989306 , -0.50318664,\n",
       "       -0.05187684, -0.3354024 , -0.19487445,  0.2928737 , -0.04549992,\n",
       "       -0.11388927,  0.8706497 , -0.45137802, -0.00328029,  0.03023491,\n",
       "        0.5050378 ,  0.2090008 , -0.4211757 ,  0.31484574, -0.28802183,\n",
       "        0.58936167, -1.1749479 , -0.96609795, -0.71430033,  0.16211163,\n",
       "       -0.7429426 , -0.40249836,  0.0453331 ,  0.48407272, -0.10892314,\n",
       "       -0.11846791,  0.29319397,  0.20492834,  0.27404845, -0.01627695,\n",
       "        0.5792333 ,  0.49283686, -0.15632823, -0.3693663 ,  0.02595772,\n",
       "       -0.50869596,  0.5274262 ,  0.36103162,  0.13335761,  0.5153082 ,\n",
       "       -0.27755588,  0.28768647, -0.43984807, -0.05893851,  0.38919985,\n",
       "        0.44292822,  0.07280879,  0.1472065 , -0.6066877 , -0.8337662 ,\n",
       "        0.7749836 ,  0.40158778, -0.29056627, -0.10804576,  0.12984383,\n",
       "       -0.02738974,  0.3364549 , -0.31948605,  0.49344453,  0.19646657,\n",
       "        0.449217  ,  0.4764883 ,  0.420168  ,  0.75970876,  0.2158193 ,\n",
       "        0.0883808 , -0.5882978 , -0.11897674,  0.59500045,  0.7834254 ,\n",
       "       -0.3151584 , -0.49170184, -0.15766574,  0.55655223,  0.04130274,\n",
       "       -0.21429679, -0.1813913 ,  0.06367963,  0.09691864,  0.12297965,\n",
       "       -0.5105717 ,  0.24107112, -0.23054555, -0.5039595 ,  0.5108154 ],\n",
       "      dtype=float32)"
      ]
     },
     "execution_count": 64,
     "metadata": {},
     "output_type": "execute_result"
    }
   ],
   "source": [
    "vectors.wv.vectors[49807]"
   ]
  },
  {
   "cell_type": "code",
   "execution_count": 65,
   "id": "1f23d027",
   "metadata": {},
   "outputs": [
    {
     "data": {
      "text/plain": [
       "49807"
      ]
     },
     "execution_count": 65,
     "metadata": {},
     "output_type": "execute_result"
    }
   ],
   "source": [
    "vocab.stoi['ワンマンライブ']"
   ]
  },
  {
   "cell_type": "code",
   "execution_count": 77,
   "id": "46426742",
   "metadata": {
    "scrolled": true
   },
   "outputs": [
    {
     "data": {
      "text/plain": [
       "'##再生可能エネルギー##'"
      ]
     },
     "execution_count": 77,
     "metadata": {},
     "output_type": "execute_result"
    }
   ],
   "source": [
    "vectors.index2word[49807]"
   ]
  },
  {
   "cell_type": "markdown",
   "id": "3fa875ef",
   "metadata": {},
   "source": [
    "---"
   ]
  },
  {
   "cell_type": "code",
   "execution_count": 38,
   "id": "2dfa5f28",
   "metadata": {
    "scrolled": false
   },
   "outputs": [],
   "source": [
    "# train\n",
    "def iter_train(dataloader, model, loss_fn, optimizer):\n",
    "    current_size = 0\n",
    "    current_loss, current_correct = 0, 0\n",
    "    \n",
    "    for batch, (labels, texts) in enumerate(dataloader):\n",
    "        \n",
    "        # indexing\n",
    "        texts = [torch.tensor(text_pipeline(text)) for text in texts]\n",
    "        texts = pad_sequence(texts, batch_first=True, padding_value=PAD)\n",
    "            \n",
    "        # send to GPU\n",
    "        labels, texts = labels.to(DEVICE), texts.to(DEVICE)\n",
    "\n",
    "        # pred\n",
    "        pred = model(texts)[0]\n",
    "\n",
    "        # get loss\n",
    "        loss = loss_fn(pred, labels)\n",
    "\n",
    "        # get gradient\n",
    "        optimizer.zero_grad() # バッチごとに勾配をリセット\n",
    "        loss.backward()\n",
    "\n",
    "        # back propagate\n",
    "        # 手動；todo: optimizer.step() の動作確認，デバッグ\n",
    "        for layer_num, param in enumerate(model.parameters()):\n",
    "            if layer_num==0:\n",
    "                continue\n",
    "            LR = optimizer.state_dict()['param_groups'][0]['lr']\n",
    "            param.data -= LR * param.grad.data\n",
    "#         optimizer.step()\n",
    "        \n",
    "        current_size += len(labels)\n",
    "        current_loss += loss.item()\n",
    "        current_correct += (pred.argmax(axis=1).squeeze()==labels).type(torch.int).sum().item()\n",
    "        \n",
    "        mean_loss = current_loss/current_size\n",
    "        mean_correct = current_correct/current_size\n",
    "\n",
    "        # logging\n",
    "        if batch%30==0 and batch!=0:\n",
    "            split = 'train'\n",
    "            print(f'| {split*(1 if batch==0 else 0):5} | batch {batch:3d} '\n",
    "                  f'| correct total: {mean_correct:0.8f} | loss total: {mean_loss:0.8f} |')\n",
    "    \n",
    "    return mean_correct, mean_loss\n",
    "\n",
    "if DEVICE=='cuda':\n",
    "    # 1 epoch sample execution\n",
    "    sample_dataloader = DataLoader(train_dataset,\n",
    "                                   batch_size=64,\n",
    "                                   shuffle=False,)\n",
    "    LR = 1e-4\n",
    "    model = LSTMClassifier(len(vocab), 300, 100, 9).to(DEVICE)\n",
    "    loss_fn = nn.CrossEntropyLoss().to(DEVICE)\n",
    "    optimizer = torch.optim.SGD(model.parameters(), lr=LR)\n",
    "    iter_train(sample_dataloader, model, loss_fn, optimizer)"
   ]
  },
  {
   "cell_type": "code",
   "execution_count": 39,
   "id": "fbeca285",
   "metadata": {
    "scrolled": false
   },
   "outputs": [],
   "source": [
    "# validate\n",
    "def iter_test(dataloader, model, loss_fn):\n",
    "    test_size = len(dataloader.dataset)\n",
    "    test_loss, correct = 0, 0\n",
    "\n",
    "    with torch.no_grad():\n",
    "        # 全ての勾配計算を無効化\n",
    "        for batch, (labels, texts) in enumerate(dataloader):\n",
    "            \n",
    "            # indexing\n",
    "            texts = [torch.tensor(text_pipeline(text)) for text in texts]\n",
    "            texts = pad_sequence(texts, batch_first=True, padding_value=PAD)\n",
    "            \n",
    "            # send to GPU\n",
    "            labels, texts = labels.to(DEVICE), texts.to(DEVICE)\n",
    "            \n",
    "            # predict\n",
    "            pred = model(texts)[0]\n",
    "\n",
    "            # get loss\n",
    "            test_loss += loss_fn(pred, labels).item()\n",
    "\n",
    "            # eval\n",
    "            pred_labels = pred.argmax(axis=1).squeeze() # この squeeze は問題ないのか？\n",
    "            correct += (pred_labels==labels).type(torch.int).sum().item()\n",
    "\n",
    "    correct /= test_size # Epoch 終了時点の Accuracy（正答数 / テストサンプルサイズ）\n",
    "    test_loss /= test_size # Epoch 終了時点の 1 サンプルあたり Loss 平均（Loss / テストサンプルサイズ）\n",
    "\n",
    "    split = 'test'\n",
    "    print(f'| {split:5} | accuracy: {correct:0.4f} | loss avg: {test_loss:6.8f} |', end='')\n",
    "    \n",
    "    return correct, test_loss\n",
    "\n",
    "if DEVICE=='cuda':\n",
    "    # sample execution\n",
    "    sample_dataloader = DataLoader(test_dataset,\n",
    "                                   batch_size=64,\n",
    "                                   shuffle=False,)\n",
    "    LR = 1e-2\n",
    "    model = LSTMClassifier(len(vocab), 300, 100, 9).to(DEVICE)\n",
    "    loss_fn = nn.CrossEntropyLoss().to(DEVICE)\n",
    "    optimizer = torch.optim.SGD(model.parameters(), lr=LR)\n",
    "    iter_test(sample_dataloader, model, loss_fn)"
   ]
  },
  {
   "cell_type": "markdown",
   "id": "34bcf8da",
   "metadata": {},
   "source": [
    "Execute"
   ]
  },
  {
   "cell_type": "code",
   "execution_count": null,
   "id": "c856810c",
   "metadata": {
    "scrolled": true
   },
   "outputs": [
    {
     "name": "stderr",
     "output_type": "stream",
     "text": [
      "/usr/local/lib/python3.7/dist-packages/ipykernel_launcher.py:6: DeprecationWarning: Call to deprecated `wv` (Attribute will be removed in 4.0.0, use self instead).\n",
      "  \n"
     ]
    },
    {
     "name": "stdout",
     "output_type": "stream",
     "text": [
      "---------------------------- Epoch 0 ----------------------------\n"
     ]
    }
   ],
   "source": [
    "# model setting\n",
    "model_name = 'lstm'\n",
    "embed_type = 'random'\n",
    "embed_dim = 100\n",
    "hidden_dim = 100\n",
    "\n",
    "# training setting\n",
    "batchsizes = [32]\n",
    "lrs = [1e-1]\n",
    "mos = [0.9]\n",
    "n_epochss = [100]\n",
    "\n",
    "for (batchsize, lr, mo, n_epochs) in itertools.product(batchsizes, lrs, mos, n_epochss):\n",
    "    # dataloader\n",
    "    train_dataloader = DataLoader(train_dataset,\n",
    "                                  batch_size=batchsize,\n",
    "                                  shuffle=True,)\n",
    "\n",
    "    test_dataloader = DataLoader(test_dataset,\n",
    "                                  batch_size=batchsize,\n",
    "                                  shuffle=True,)\n",
    "\n",
    "    # define network architecture\n",
    "    model = LSTMClassifier(len(vocab), embed_dim, hidden_dim, 9).to(DEVICE)\n",
    "    \n",
    "    # modules\n",
    "    loss_fn = nn.CrossEntropyLoss().to(DEVICE)\n",
    "    optimizer = torch.optim.SGD(model.parameters(), lr=lr, momentum=mo)\n",
    "    \n",
    "    # train model\n",
    "    result = []\n",
    "    start = time()\n",
    "    for epoch in range(n_epochs):\n",
    "\n",
    "        print(f'{\"-\"*28} Epoch {epoch} {\"-\"*28}')\n",
    "        train_acc, train_loss = iter_train(train_dataloader, model, loss_fn, optimizer)\n",
    "        test_acc, test_loss = iter_test(test_dataloader, model, loss_fn)\n",
    "        print(f' {time()-start:5.2f} sec |')\n",
    "        result.append((epoch, train_acc, train_loss, test_acc, test_loss))\n",
    "\n",
    "    print('done!')\n",
    "    \n",
    "    # **\n",
    "    # save\n",
    "    # *\n",
    "    filename_base = f'emb={embed_type}&edim={embed_dim:03d}' \\\n",
    "                    f'&model={model_name}&hdim={hidden_dim:03d}' \\\n",
    "                    f'&batchsize={batchsize:03d}' \\\n",
    "                    f'&optim=sgd&lr={lr:.5f}&mo={mo:.1f}' \\\n",
    "                    f'&epochs={n_epochs:4d}' \\\n",
    "                    f'&shuffle=True'\n",
    "    filename_model = os.path.join(DIR_MODEL, filename_base+'.pth')\n",
    "    filename_log = os.path.join(DIR_LOG, filename_base+'.csv')\n",
    "\n",
    "    # save model\n",
    "    if not os.path.isfile(filename_model):\n",
    "        torch.save(model, filename_model)\n",
    "        print(f'{filename_model} : created')\n",
    "    else:\n",
    "        print(f'{filename_model} : exists')\n",
    "\n",
    "    # save log\n",
    "    if not os.path.isfile(filename_log):\n",
    "        result = pd.DataFrame(result).rename(columns={0: 'epoch',\n",
    "                                                      1: 'train_acc',\n",
    "                                                      2: 'train_loss',\n",
    "                                                      3: 'test_acc',\n",
    "                                                      4: 'test_loss'})\n",
    "        result.to_csv(filename_log, index=False)\n",
    "        print(f'{filename_log} : created')\n",
    "    else:\n",
    "        print(f'{filename_log} : exists')"
   ]
  },
  {
   "cell_type": "markdown",
   "id": "cc6ee00c",
   "metadata": {},
   "source": [
    "過学習、バッチ shuffle してなかったからでは？"
   ]
  },
  {
   "cell_type": "markdown",
   "id": "bbea77ef",
   "metadata": {},
   "source": [
    "そもそもおかしいところ\n",
    "- 特定のラベルに推論結果が偏る\n",
    "- test なのに正答しない"
   ]
  },
  {
   "cell_type": "markdown",
   "id": "1db3e9ed",
   "metadata": {},
   "source": [
    "なやみ\n",
    "- 過学習する\n",
    "- 収束しない\n",
    "- ９値分類で推定結果が１つだけに偏る；１epoch 目からそんな感じ．初期値がかたよってるから？（散らばらせることできる？）"
   ]
  },
  {
   "cell_type": "markdown",
   "id": "872ea349",
   "metadata": {},
   "source": [
    "- embedding の 重みって，分散表現とべつであるか？"
   ]
  },
  {
   "cell_type": "markdown",
   "id": "9fde176b",
   "metadata": {},
   "source": [
    "- model 生成の順序を修正したから改善した？Embedding.require_grad=False を無効にしたから改善した？（先に進む前に，一度確認すべき）\n",
    "- 32, 64 128 で 1e-0 で試してみる"
   ]
  },
  {
   "cell_type": "markdown",
   "id": "becda21d",
   "metadata": {},
   "source": [
    "- train, test ともに，モデルの出力結果（Loss()に入れる直前の生の出力値）を受け取って評価するつくりに変更\n",
    "- → train, test をスタンドアロンに動かせるようになる．\n",
    "- → テストだけ実行して，未学習時点における推論結果の偏り有無を確認する（偏ってたら，パラメータ初期値が好ましくないという仮説の立証に一歩近づく）"
   ]
  },
  {
   "cell_type": "markdown",
   "id": "6ba06fb0",
   "metadata": {},
   "source": [
    "embedding の weight 更新 True にして試行"
   ]
  },
  {
   "cell_type": "markdown",
   "id": "8163c340",
   "metadata": {},
   "source": [
    "# Evaluation"
   ]
  },
  {
   "cell_type": "code",
   "execution_count": 19,
   "id": "5bedbcab",
   "metadata": {},
   "outputs": [
    {
     "ename": "ValueError",
     "evalue": "Data must be 1-dimensional",
     "output_type": "error",
     "traceback": [
      "\u001b[0;31m---------------------------------------------------------------------------\u001b[0m",
      "\u001b[0;31mValueError\u001b[0m                                Traceback (most recent call last)",
      "\u001b[0;32m<timed exec>\u001b[0m in \u001b[0;36m<module>\u001b[0;34m\u001b[0m\n",
      "\u001b[0;32m/usr/local/lib/python3.7/dist-packages/pandas/core/reshape/pivot.py\u001b[0m in \u001b[0;36mcrosstab\u001b[0;34m(index, columns, values, rownames, colnames, aggfunc, margins, margins_name, dropna, normalize)\u001b[0m\n\u001b[1;32m    596\u001b[0m         \u001b[0;34m**\u001b[0m\u001b[0mdict\u001b[0m\u001b[0;34m(\u001b[0m\u001b[0mzip\u001b[0m\u001b[0;34m(\u001b[0m\u001b[0munique_colnames\u001b[0m\u001b[0;34m,\u001b[0m \u001b[0mcolumns\u001b[0m\u001b[0;34m)\u001b[0m\u001b[0;34m)\u001b[0m\u001b[0;34m,\u001b[0m\u001b[0;34m\u001b[0m\u001b[0;34m\u001b[0m\u001b[0m\n\u001b[1;32m    597\u001b[0m     }\n\u001b[0;32m--> 598\u001b[0;31m     \u001b[0mdf\u001b[0m \u001b[0;34m=\u001b[0m \u001b[0mDataFrame\u001b[0m\u001b[0;34m(\u001b[0m\u001b[0mdata\u001b[0m\u001b[0;34m,\u001b[0m \u001b[0mindex\u001b[0m\u001b[0;34m=\u001b[0m\u001b[0mcommon_idx\u001b[0m\u001b[0;34m)\u001b[0m\u001b[0;34m\u001b[0m\u001b[0;34m\u001b[0m\u001b[0m\n\u001b[0m\u001b[1;32m    599\u001b[0m     \u001b[0moriginal_df_cols\u001b[0m \u001b[0;34m=\u001b[0m \u001b[0mdf\u001b[0m\u001b[0;34m.\u001b[0m\u001b[0mcolumns\u001b[0m\u001b[0;34m\u001b[0m\u001b[0;34m\u001b[0m\u001b[0m\n\u001b[1;32m    600\u001b[0m \u001b[0;34m\u001b[0m\u001b[0m\n",
      "\u001b[0;32m/usr/local/lib/python3.7/dist-packages/pandas/core/frame.py\u001b[0m in \u001b[0;36m__init__\u001b[0;34m(self, data, index, columns, dtype, copy)\u001b[0m\n\u001b[1;32m    527\u001b[0m \u001b[0;34m\u001b[0m\u001b[0m\n\u001b[1;32m    528\u001b[0m         \u001b[0;32melif\u001b[0m \u001b[0misinstance\u001b[0m\u001b[0;34m(\u001b[0m\u001b[0mdata\u001b[0m\u001b[0;34m,\u001b[0m \u001b[0mdict\u001b[0m\u001b[0;34m)\u001b[0m\u001b[0;34m:\u001b[0m\u001b[0;34m\u001b[0m\u001b[0;34m\u001b[0m\u001b[0m\n\u001b[0;32m--> 529\u001b[0;31m             \u001b[0mmgr\u001b[0m \u001b[0;34m=\u001b[0m \u001b[0minit_dict\u001b[0m\u001b[0;34m(\u001b[0m\u001b[0mdata\u001b[0m\u001b[0;34m,\u001b[0m \u001b[0mindex\u001b[0m\u001b[0;34m,\u001b[0m \u001b[0mcolumns\u001b[0m\u001b[0;34m,\u001b[0m \u001b[0mdtype\u001b[0m\u001b[0;34m=\u001b[0m\u001b[0mdtype\u001b[0m\u001b[0;34m)\u001b[0m\u001b[0;34m\u001b[0m\u001b[0;34m\u001b[0m\u001b[0m\n\u001b[0m\u001b[1;32m    530\u001b[0m         \u001b[0;32melif\u001b[0m \u001b[0misinstance\u001b[0m\u001b[0;34m(\u001b[0m\u001b[0mdata\u001b[0m\u001b[0;34m,\u001b[0m \u001b[0mma\u001b[0m\u001b[0;34m.\u001b[0m\u001b[0mMaskedArray\u001b[0m\u001b[0;34m)\u001b[0m\u001b[0;34m:\u001b[0m\u001b[0;34m\u001b[0m\u001b[0;34m\u001b[0m\u001b[0m\n\u001b[1;32m    531\u001b[0m             \u001b[0;32mimport\u001b[0m \u001b[0mnumpy\u001b[0m\u001b[0;34m.\u001b[0m\u001b[0mma\u001b[0m\u001b[0;34m.\u001b[0m\u001b[0mmrecords\u001b[0m \u001b[0;32mas\u001b[0m \u001b[0mmrecords\u001b[0m\u001b[0;34m\u001b[0m\u001b[0;34m\u001b[0m\u001b[0m\n",
      "\u001b[0;32m/usr/local/lib/python3.7/dist-packages/pandas/core/internals/construction.py\u001b[0m in \u001b[0;36minit_dict\u001b[0;34m(data, index, columns, dtype)\u001b[0m\n\u001b[1;32m    285\u001b[0m             \u001b[0marr\u001b[0m \u001b[0;32mif\u001b[0m \u001b[0;32mnot\u001b[0m \u001b[0mis_datetime64tz_dtype\u001b[0m\u001b[0;34m(\u001b[0m\u001b[0marr\u001b[0m\u001b[0;34m)\u001b[0m \u001b[0;32melse\u001b[0m \u001b[0marr\u001b[0m\u001b[0;34m.\u001b[0m\u001b[0mcopy\u001b[0m\u001b[0;34m(\u001b[0m\u001b[0;34m)\u001b[0m \u001b[0;32mfor\u001b[0m \u001b[0marr\u001b[0m \u001b[0;32min\u001b[0m \u001b[0marrays\u001b[0m\u001b[0;34m\u001b[0m\u001b[0;34m\u001b[0m\u001b[0m\n\u001b[1;32m    286\u001b[0m         ]\n\u001b[0;32m--> 287\u001b[0;31m     \u001b[0;32mreturn\u001b[0m \u001b[0marrays_to_mgr\u001b[0m\u001b[0;34m(\u001b[0m\u001b[0marrays\u001b[0m\u001b[0;34m,\u001b[0m \u001b[0mdata_names\u001b[0m\u001b[0;34m,\u001b[0m \u001b[0mindex\u001b[0m\u001b[0;34m,\u001b[0m \u001b[0mcolumns\u001b[0m\u001b[0;34m,\u001b[0m \u001b[0mdtype\u001b[0m\u001b[0;34m=\u001b[0m\u001b[0mdtype\u001b[0m\u001b[0;34m)\u001b[0m\u001b[0;34m\u001b[0m\u001b[0;34m\u001b[0m\u001b[0m\n\u001b[0m\u001b[1;32m    288\u001b[0m \u001b[0;34m\u001b[0m\u001b[0m\n\u001b[1;32m    289\u001b[0m \u001b[0;34m\u001b[0m\u001b[0m\n",
      "\u001b[0;32m/usr/local/lib/python3.7/dist-packages/pandas/core/internals/construction.py\u001b[0m in \u001b[0;36marrays_to_mgr\u001b[0;34m(arrays, arr_names, index, columns, dtype, verify_integrity)\u001b[0m\n\u001b[1;32m     83\u001b[0m \u001b[0;34m\u001b[0m\u001b[0m\n\u001b[1;32m     84\u001b[0m         \u001b[0;31m# don't force copy because getting jammed in an ndarray anyway\u001b[0m\u001b[0;34m\u001b[0m\u001b[0;34m\u001b[0m\u001b[0;34m\u001b[0m\u001b[0m\n\u001b[0;32m---> 85\u001b[0;31m         \u001b[0marrays\u001b[0m \u001b[0;34m=\u001b[0m \u001b[0m_homogenize\u001b[0m\u001b[0;34m(\u001b[0m\u001b[0marrays\u001b[0m\u001b[0;34m,\u001b[0m \u001b[0mindex\u001b[0m\u001b[0;34m,\u001b[0m \u001b[0mdtype\u001b[0m\u001b[0;34m)\u001b[0m\u001b[0;34m\u001b[0m\u001b[0;34m\u001b[0m\u001b[0m\n\u001b[0m\u001b[1;32m     86\u001b[0m \u001b[0;34m\u001b[0m\u001b[0m\n\u001b[1;32m     87\u001b[0m         \u001b[0mcolumns\u001b[0m \u001b[0;34m=\u001b[0m \u001b[0mensure_index\u001b[0m\u001b[0;34m(\u001b[0m\u001b[0mcolumns\u001b[0m\u001b[0;34m)\u001b[0m\u001b[0;34m\u001b[0m\u001b[0;34m\u001b[0m\u001b[0m\n",
      "\u001b[0;32m/usr/local/lib/python3.7/dist-packages/pandas/core/internals/construction.py\u001b[0m in \u001b[0;36m_homogenize\u001b[0;34m(data, index, dtype)\u001b[0m\n\u001b[1;32m    354\u001b[0m                 \u001b[0mval\u001b[0m \u001b[0;34m=\u001b[0m \u001b[0mlib\u001b[0m\u001b[0;34m.\u001b[0m\u001b[0mfast_multiget\u001b[0m\u001b[0;34m(\u001b[0m\u001b[0mval\u001b[0m\u001b[0;34m,\u001b[0m \u001b[0moindex\u001b[0m\u001b[0;34m.\u001b[0m\u001b[0m_values\u001b[0m\u001b[0;34m,\u001b[0m \u001b[0mdefault\u001b[0m\u001b[0;34m=\u001b[0m\u001b[0mnp\u001b[0m\u001b[0;34m.\u001b[0m\u001b[0mnan\u001b[0m\u001b[0;34m)\u001b[0m\u001b[0;34m\u001b[0m\u001b[0;34m\u001b[0m\u001b[0m\n\u001b[1;32m    355\u001b[0m             val = sanitize_array(\n\u001b[0;32m--> 356\u001b[0;31m                 \u001b[0mval\u001b[0m\u001b[0;34m,\u001b[0m \u001b[0mindex\u001b[0m\u001b[0;34m,\u001b[0m \u001b[0mdtype\u001b[0m\u001b[0;34m=\u001b[0m\u001b[0mdtype\u001b[0m\u001b[0;34m,\u001b[0m \u001b[0mcopy\u001b[0m\u001b[0;34m=\u001b[0m\u001b[0;32mFalse\u001b[0m\u001b[0;34m,\u001b[0m \u001b[0mraise_cast_failure\u001b[0m\u001b[0;34m=\u001b[0m\u001b[0;32mFalse\u001b[0m\u001b[0;34m\u001b[0m\u001b[0;34m\u001b[0m\u001b[0m\n\u001b[0m\u001b[1;32m    357\u001b[0m             )\n\u001b[1;32m    358\u001b[0m \u001b[0;34m\u001b[0m\u001b[0m\n",
      "\u001b[0;32m/usr/local/lib/python3.7/dist-packages/pandas/core/construction.py\u001b[0m in \u001b[0;36msanitize_array\u001b[0;34m(data, index, dtype, copy, raise_cast_failure)\u001b[0m\n\u001b[1;32m    527\u001b[0m     \u001b[0;32melif\u001b[0m \u001b[0msubarr\u001b[0m\u001b[0;34m.\u001b[0m\u001b[0mndim\u001b[0m \u001b[0;34m>\u001b[0m \u001b[0;36m1\u001b[0m\u001b[0;34m:\u001b[0m\u001b[0;34m\u001b[0m\u001b[0;34m\u001b[0m\u001b[0m\n\u001b[1;32m    528\u001b[0m         \u001b[0;32mif\u001b[0m \u001b[0misinstance\u001b[0m\u001b[0;34m(\u001b[0m\u001b[0mdata\u001b[0m\u001b[0;34m,\u001b[0m \u001b[0mnp\u001b[0m\u001b[0;34m.\u001b[0m\u001b[0mndarray\u001b[0m\u001b[0;34m)\u001b[0m\u001b[0;34m:\u001b[0m\u001b[0;34m\u001b[0m\u001b[0;34m\u001b[0m\u001b[0m\n\u001b[0;32m--> 529\u001b[0;31m             \u001b[0;32mraise\u001b[0m \u001b[0mValueError\u001b[0m\u001b[0;34m(\u001b[0m\u001b[0;34m\"Data must be 1-dimensional\"\u001b[0m\u001b[0;34m)\u001b[0m\u001b[0;34m\u001b[0m\u001b[0;34m\u001b[0m\u001b[0m\n\u001b[0m\u001b[1;32m    530\u001b[0m         \u001b[0;32melse\u001b[0m\u001b[0;34m:\u001b[0m\u001b[0;34m\u001b[0m\u001b[0;34m\u001b[0m\u001b[0m\n\u001b[1;32m    531\u001b[0m             \u001b[0msubarr\u001b[0m \u001b[0;34m=\u001b[0m \u001b[0mcom\u001b[0m\u001b[0;34m.\u001b[0m\u001b[0masarray_tuplesafe\u001b[0m\u001b[0;34m(\u001b[0m\u001b[0mdata\u001b[0m\u001b[0;34m,\u001b[0m \u001b[0mdtype\u001b[0m\u001b[0;34m=\u001b[0m\u001b[0mdtype\u001b[0m\u001b[0;34m)\u001b[0m\u001b[0;34m\u001b[0m\u001b[0;34m\u001b[0m\u001b[0m\n",
      "\u001b[0;31mValueError\u001b[0m: Data must be 1-dimensional"
     ]
    }
   ],
   "source": [
    "%%time\n",
    "def predict_dataloader(dataloader, model):\n",
    "\n",
    "    y = []\n",
    "    \n",
    "    with torch.no_grad():\n",
    "        # 全ての勾配計算を無効化\n",
    "        for batch, (labels, texts) in enumerate(dataloader):\n",
    "            \n",
    "            y.append(list(labels.numpy()))\n",
    "            \n",
    "            # indexing\n",
    "            texts = [torch.tensor(text_pipeline(text)) for text in texts]\n",
    "            texts = pad_sequence(texts, batch_first=True, padding_value=PAD)\n",
    "            \n",
    "            # send to GPU\n",
    "            labels, texts = labels.to(DEVICE), texts.to(DEVICE)\n",
    "            \n",
    "            # predict\n",
    "            if batch==0:\n",
    "                y_pred = model(texts)[0].cpu().numpy()\n",
    "            else:\n",
    "                y_pred = np.append(y_pred, model(texts)[0].cpu().numpy(), axis=0)\n",
    "    \n",
    "    return np.array(list(itertools.chain.from_iterable(y))), y_pred#.argmax(axis=1)\n",
    "\n",
    "f = 'emb=random&edim=300&model=lstm&hdim=100&batchsize=128&optim=sgd&lr=0.00003&mo=0.9&epochs=1.pth'\n",
    "model = torch.load(os.path.join(DIR_MODEL, f))\n",
    "\n",
    "test_dataloader = DataLoader(test_dataset,\n",
    "                              batch_size=128,\n",
    "                              shuffle=False,)\n",
    "y, y_pred = predict_dataloader(test_dataloader, model)\n",
    "sns.heatmap(pd.crosstab(y, y_pred))"
   ]
  },
  {
   "cell_type": "code",
   "execution_count": 20,
   "id": "ab96bda4",
   "metadata": {
    "scrolled": true
   },
   "outputs": [
    {
     "data": {
      "text/plain": [
       "array([[ 0.10310535, -0.05537033,  0.0144057 , ...,  0.02722622,\n",
       "         0.00404025,  0.07488791],\n",
       "       [ 0.10310535, -0.05537033,  0.01440569, ...,  0.02722622,\n",
       "         0.00404026,  0.07488791],\n",
       "       [ 0.10310535, -0.05537033,  0.0144057 , ...,  0.02722622,\n",
       "         0.00404026,  0.07488791],\n",
       "       ...,\n",
       "       [ 0.10310535, -0.05537033,  0.0144057 , ...,  0.02722622,\n",
       "         0.00404026,  0.07488791],\n",
       "       [ 0.10310535, -0.05537033,  0.0144057 , ...,  0.02722622,\n",
       "         0.00404026,  0.07488791],\n",
       "       [ 0.10310535, -0.05537033,  0.0144057 , ...,  0.02722622,\n",
       "         0.00404026,  0.07488791]], dtype=float32)"
      ]
     },
     "execution_count": 20,
     "metadata": {},
     "output_type": "execute_result"
    }
   ],
   "source": [
    "y_pred"
   ]
  },
  {
   "cell_type": "code",
   "execution_count": null,
   "id": "5c6b3fd2",
   "metadata": {},
   "outputs": [],
   "source": [
    "pred_with_word_embedding(model, )"
   ]
  },
  {
   "cell_type": "markdown",
   "id": "d6c856c8",
   "metadata": {},
   "source": [
    "# Primitive model"
   ]
  },
  {
   "cell_type": "markdown",
   "id": "fdcb1324",
   "metadata": {},
   "source": [
    "create feature dataset"
   ]
  },
  {
   "cell_type": "code",
   "execution_count": 26,
   "id": "d404d6fb",
   "metadata": {},
   "outputs": [
    {
     "name": "stdout",
     "output_type": "stream",
     "text": [
      "(5893, 300) (5893,)\n",
      "(1473, 300) (1473,)\n"
     ]
    }
   ],
   "source": [
    "def get_embedding_table(dataloader):\n",
    "    X, y = [], []\n",
    "    for batch, (labels, texts) in enumerate(dataloader):\n",
    "        texts = [torch.tensor(text_pipeline(text)) for text in texts]\n",
    "        texts = pad_sequence(texts, batch_first=True, padding_value=PAD)\n",
    "        labels, texts = labels.to(DEVICE), texts.to(DEVICE)\n",
    "        emb = model.embedding(texts).detach().cpu().numpy().mean(axis=1)\n",
    "        X.append(emb)\n",
    "        y.append(labels.detach().cpu().numpy())\n",
    "    \n",
    "    X = np.array(list(itertools.chain.from_iterable(X)))\n",
    "    y = np.array(list(itertools.chain.from_iterable(y)))\n",
    "        \n",
    "    return X, y\n",
    "\n",
    "model = LSTMClassifier(len(vocab), 300, 100, 9).to(DEVICE)\n",
    "X_train, y_train = get_embedding_table(train_dataloader)\n",
    "X_test, y_test = get_embedding_table(test_dataloader)\n",
    "print(X_train.shape, y_train.shape)\n",
    "print(X_test.shape, y_test.shape)"
   ]
  },
  {
   "cell_type": "markdown",
   "id": "b704fb0e",
   "metadata": {},
   "source": [
    "feature overview"
   ]
  },
  {
   "cell_type": "code",
   "execution_count": 27,
   "id": "2b6e955b",
   "metadata": {},
   "outputs": [
    {
     "name": "stdout",
     "output_type": "stream",
     "text": [
      "(9, 300)\n"
     ]
    },
    {
     "data": {
      "image/png": "[encoded data removed]",
      "text/plain": [
       "<Figure size 1296x311.04 with 1 Axes>"
      ]
     },
     "metadata": {},
     "output_type": "display_data"
    }
   ],
   "source": [
    "%matplotlib inline\n",
    "\n",
    "def show(embedding):\n",
    "    w = 18\n",
    "    h = embedding.shape[0] * (w / 300) * 8\n",
    "\n",
    "    fig = plt.figure(figsize=(w, h))\n",
    "    ax = fig.add_subplot(1, 1, 1)\n",
    "\n",
    "    print(embedding.shape)\n",
    "    sns.heatmap(pd.DataFrame(embedding), cbar=False, xticklabels=False, yticklabels=False, cmap='Blues')\n",
    "\n",
    "    plt.show()\n",
    "    return\n",
    "\n",
    "df = pd.DataFrame(X_train)\n",
    "show(df.groupby(y_train).mean())"
   ]
  },
  {
   "cell_type": "markdown",
   "id": "49fb6d4e",
   "metadata": {},
   "source": [
    "ベンチマーク；SVM で 82 %"
   ]
  },
  {
   "cell_type": "code",
   "execution_count": 28,
   "id": "38e83bfd",
   "metadata": {},
   "outputs": [
    {
     "data": {
      "text/plain": [
       "0.8268839103869654"
      ]
     },
     "execution_count": 28,
     "metadata": {},
     "output_type": "execute_result"
    }
   ],
   "source": [
    "from sklearn.svm import SVC\n",
    "\n",
    "model = SVC()\n",
    "model.fit(X_train, y_train)\n",
    "y_pred = model.predict(X_test)\n",
    "\n",
    "sum(y_pred == y_test) / len(y_test)"
   ]
  },
  {
   "cell_type": "code",
   "execution_count": 29,
   "id": "345b8459",
   "metadata": {
    "scrolled": true
   },
   "outputs": [
    {
     "data": {
      "image/png": "[encoded data removed]",
      "text/plain": [
       "<Figure size 288x288 with 1 Axes>"
      ]
     },
     "metadata": {
      "needs_background": "light"
     },
     "output_type": "display_data"
    }
   ],
   "source": [
    "%matplotlib inline\n",
    "\n",
    "fig = plt.figure(figsize=(4, 4))\n",
    "ax = fig.add_subplot(1, 1, 1)\n",
    "sns.heatmap(pd.crosstab(y_test, y_pred), cbar=False, annot=True, fmt='d')\n",
    "plt.show()"
   ]
  },
  {
   "cell_type": "markdown",
   "id": "2a59c3a0",
   "metadata": {},
   "source": [
    "# Work"
   ]
  }
 ],
 "metadata": {
  "kernelspec": {
   "display_name": "Python 3",
   "language": "python",
   "name": "python3"
  },
  "language_info": {
   "codemirror_mode": {
    "name": "ipython",
    "version": 3
   },
   "file_extension": ".py",
   "mimetype": "text/x-python",
   "name": "python",
   "nbconvert_exporter": "python",
   "pygments_lexer": "ipython3",
   "version": "3.7.5"
  }
 },
 "nbformat": 4,
 "nbformat_minor": 5
}
