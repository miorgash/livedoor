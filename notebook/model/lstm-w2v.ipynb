{
 "cells": [
  {
   "cell_type": "code",
   "execution_count": 1,
   "id": "d9f0de66",
   "metadata": {},
   "outputs": [
    {
     "name": "stdout",
     "output_type": "stream",
     "text": [
      "{'DEVICE': 'cuda',\n",
      " 'DIR_BIN': '/tmp/work/livedoor/bin',\n",
      " 'DIR_DATA': '/tmp/work/livedoor/data',\n",
      " 'DIR_LOG': '/tmp/work/livedoor/log',\n",
      " 'DIR_MECAB_DIC': '/usr/lib/x86_64-linux-gnu/mecab/dic/mecab-ipadic-neologd',\n",
      " 'DIR_MODEL': '/tmp/work/livedoor/model',\n",
      " 'ROOT': '/tmp/work/livedoor',\n",
      " 'SAMPLE_SENT': 'ワンマンライブに行きたい。',\n",
      " 'SEED': 123,\n",
      " 'TOKENIZER': 'mecab'}\n"
     ]
    }
   ],
   "source": [
    "# primitive\n",
    "import sys\n",
    "import os\n",
    "import pickle\n",
    "import itertools\n",
    "from tqdm import tqdm\n",
    "from joblib import Parallel, delayed\n",
    "from pprint import pprint\n",
    "import itertools\n",
    "from collections import Counter\n",
    "from time import time\n",
    "from itertools import chain\n",
    "\n",
    "# data handling\n",
    "import numpy as np\n",
    "import pandas as pd\n",
    "import matplotlib.pyplot as plt\n",
    "import seaborn as sns\n",
    "\n",
    "# text\n",
    "import MeCab\n",
    "import spacy\n",
    "import gensim\n",
    "from gensim.models import KeyedVectors\n",
    "\n",
    "# nn\n",
    "import torch\n",
    "from torch import nn\n",
    "from torch.nn.utils.rnn import pad_sequence\n",
    "from torch.utils.data import DataLoader\n",
    "from torch.utils.data.dataset import random_split\n",
    "from torchtext.vocab import Vocab\n",
    "\n",
    "# **\n",
    "# handmade libs\n",
    "# *\n",
    "src = '../../src'\n",
    "if src not in sys.path: sys.path.append(src)\n",
    "\n",
    "# constants\n",
    "from const import *\n",
    "constants = {k: v for k, v in locals().items() if k.isupper()}\n",
    "pprint(constants)\n",
    "\n",
    "# modules\n",
    "# from my_tokenizer import get_tokenizer\n",
    "from livedoor_dataset import LivedoorDataset\n",
    "from myutils import get_n_label\n",
    "from sudachi_tokenizer import SudachiTokenizer"
   ]
  },
  {
   "cell_type": "markdown",
   "id": "900545d4",
   "metadata": {},
   "source": [
    "# Load"
   ]
  },
  {
   "cell_type": "code",
   "execution_count": 2,
   "id": "f6855feb",
   "metadata": {},
   "outputs": [
    {
     "data": {
      "text/html": [
       "<style  type=\"text/css\" >\n",
       "#T_9fe8a_row0_col0{\n",
       "            background-color:  #084a91;\n",
       "            color:  #f1f1f1;\n",
       "        }#T_9fe8a_row0_col1,#T_9fe8a_row0_col5{\n",
       "            background-color:  #09529d;\n",
       "            color:  #f1f1f1;\n",
       "        }#T_9fe8a_row0_col2{\n",
       "            background-color:  #08509b;\n",
       "            color:  #f1f1f1;\n",
       "        }#T_9fe8a_row0_col3{\n",
       "            background-color:  #f7fbff;\n",
       "            color:  #000000;\n",
       "        }#T_9fe8a_row0_col4{\n",
       "            background-color:  #105ba4;\n",
       "            color:  #f1f1f1;\n",
       "        }#T_9fe8a_row0_col6{\n",
       "            background-color:  #2d7dbb;\n",
       "            color:  #000000;\n",
       "        }#T_9fe8a_row0_col7{\n",
       "            background-color:  #08306b;\n",
       "            color:  #f1f1f1;\n",
       "        }#T_9fe8a_row0_col8{\n",
       "            background-color:  #084990;\n",
       "            color:  #f1f1f1;\n",
       "        }</style><table id=\"T_9fe8a_\" ><thead>    <tr>        <th class=\"index_name level0\" >0</th>        <th class=\"col_heading level0 col0\" >0</th>        <th class=\"col_heading level0 col1\" >1</th>        <th class=\"col_heading level0 col2\" >2</th>        <th class=\"col_heading level0 col3\" >3</th>        <th class=\"col_heading level0 col4\" >4</th>        <th class=\"col_heading level0 col5\" >5</th>        <th class=\"col_heading level0 col6\" >6</th>        <th class=\"col_heading level0 col7\" >7</th>        <th class=\"col_heading level0 col8\" >8</th>    </tr></thead><tbody>\n",
       "                <tr>\n",
       "                        <th id=\"T_9fe8a_level0_row0\" class=\"row_heading level0 row0\" >1</th>\n",
       "                        <td id=\"T_9fe8a_row0_col0\" class=\"data row0 col0\" >698</td>\n",
       "                        <td id=\"T_9fe8a_row0_col1\" class=\"data row0 col1\" >687</td>\n",
       "                        <td id=\"T_9fe8a_row0_col2\" class=\"data row0 col2\" >690</td>\n",
       "                        <td id=\"T_9fe8a_row0_col3\" class=\"data row0 col3\" >392</td>\n",
       "                        <td id=\"T_9fe8a_row0_col4\" class=\"data row0 col4\" >675</td>\n",
       "                        <td id=\"T_9fe8a_row0_col5\" class=\"data row0 col5\" >688</td>\n",
       "                        <td id=\"T_9fe8a_row0_col6\" class=\"data row0 col6\" >632</td>\n",
       "                        <td id=\"T_9fe8a_row0_col7\" class=\"data row0 col7\" >732</td>\n",
       "                        <td id=\"T_9fe8a_row0_col8\" class=\"data row0 col8\" >699</td>\n",
       "            </tr>\n",
       "    </tbody></table>"
      ],
      "text/plain": [
       "<pandas.io.formats.style.Styler at 0x7f6b210ce750>"
      ]
     },
     "metadata": {},
     "output_type": "display_data"
    },
    {
     "data": {
      "text/html": [
       "<style  type=\"text/css\" >\n",
       "#T_f8174_row0_col0{\n",
       "            background-color:  #2f7fbc;\n",
       "            color:  #000000;\n",
       "        }#T_f8174_row0_col1{\n",
       "            background-color:  #0e59a2;\n",
       "            color:  #f1f1f1;\n",
       "        }#T_f8174_row0_col2{\n",
       "            background-color:  #2c7cba;\n",
       "            color:  #000000;\n",
       "        }#T_f8174_row0_col3{\n",
       "            background-color:  #f7fbff;\n",
       "            color:  #000000;\n",
       "        }#T_f8174_row0_col4{\n",
       "            background-color:  #08306b;\n",
       "            color:  #f1f1f1;\n",
       "        }#T_f8174_row0_col5{\n",
       "            background-color:  #7cb7da;\n",
       "            color:  #000000;\n",
       "        }#T_f8174_row0_col6{\n",
       "            background-color:  #c6dbef;\n",
       "            color:  #000000;\n",
       "        }#T_f8174_row0_col7{\n",
       "            background-color:  #3c8cc3;\n",
       "            color:  #000000;\n",
       "        }#T_f8174_row0_col8{\n",
       "            background-color:  #3282be;\n",
       "            color:  #000000;\n",
       "        }</style><table id=\"T_f8174_\" ><thead>    <tr>        <th class=\"index_name level0\" >0</th>        <th class=\"col_heading level0 col0\" >0</th>        <th class=\"col_heading level0 col1\" >1</th>        <th class=\"col_heading level0 col2\" >2</th>        <th class=\"col_heading level0 col3\" >3</th>        <th class=\"col_heading level0 col4\" >4</th>        <th class=\"col_heading level0 col5\" >5</th>        <th class=\"col_heading level0 col6\" >6</th>        <th class=\"col_heading level0 col7\" >7</th>        <th class=\"col_heading level0 col8\" >8</th>    </tr></thead><tbody>\n",
       "                <tr>\n",
       "                        <th id=\"T_f8174_level0_row0\" class=\"row_heading level0 row0\" >1</th>\n",
       "                        <td id=\"T_f8174_row0_col0\" class=\"data row0 col0\" >172</td>\n",
       "                        <td id=\"T_f8174_row0_col1\" class=\"data row0 col1\" >183</td>\n",
       "                        <td id=\"T_f8174_row0_col2\" class=\"data row0 col2\" >173</td>\n",
       "                        <td id=\"T_f8174_row0_col3\" class=\"data row0 col3\" >119</td>\n",
       "                        <td id=\"T_f8174_row0_col4\" class=\"data row0 col4\" >195</td>\n",
       "                        <td id=\"T_f8174_row0_col5\" class=\"data row0 col5\" >154</td>\n",
       "                        <td id=\"T_f8174_row0_col6\" class=\"data row0 col6\" >138</td>\n",
       "                        <td id=\"T_f8174_row0_col7\" class=\"data row0 col7\" >168</td>\n",
       "                        <td id=\"T_f8174_row0_col8\" class=\"data row0 col8\" >171</td>\n",
       "            </tr>\n",
       "    </tbody></table>"
      ],
      "text/plain": [
       "<pandas.io.formats.style.Styler at 0x7f6ab4192e90>"
      ]
     },
     "metadata": {},
     "output_type": "display_data"
    },
    {
     "data": {
      "text/plain": [
       "48108"
      ]
     },
     "execution_count": 2,
     "metadata": {},
     "output_type": "execute_result"
    }
   ],
   "source": [
    "# データセット読み込み\n",
    "file = os.path.join(DIR_BIN, 'train_subset.pkl')\n",
    "with open(file, 'rb') as f:\n",
    "    train_dataset = pickle.load(f)\n",
    "\n",
    "file = os.path.join(DIR_BIN, 'test_subset.pkl')\n",
    "with open(file, 'rb') as f:\n",
    "    test_dataset = pickle.load(f)\n",
    "\n",
    "# vocab, embedding 読み込み\n",
    "ENGINE = 'sudachi'\n",
    "DICT = 'core'\n",
    "DATASET = 'livedoor'\n",
    "EMBEDDING = 'chive_mc90'\n",
    "VERSION = 'intersection'\n",
    "file_vocab = os.path.join(DIR_BIN, f'{ENGINE}.{DICT}.{DATASET}.{EMBEDDING}.{VERSION}.vocab.pkl')\n",
    "file_embedding = os.path.join(DIR_BIN, f'{ENGINE}.{DICT}.{DATASET}.{EMBEDDING}.{VERSION}.embedding.pkl')\n",
    "with open(file_vocab, 'rb') as f:\n",
    "    vocab = pickle.load(f)\n",
    "with open(file_embedding, 'rb') as f:\n",
    "    embedding = pickle.load(f)\n",
    "\n",
    "display(get_n_label(train_dataset).style.background_gradient('Blues', axis=1))\n",
    "display(get_n_label(test_dataset).style.background_gradient('Blues', axis=1))\n",
    "len(vocab)"
   ]
  },
  {
   "cell_type": "code",
   "execution_count": 3,
   "id": "ea6cea56",
   "metadata": {},
   "outputs": [
    {
     "name": "stdout",
     "output_type": "stream",
     "text": [
      "0 1\n"
     ]
    }
   ],
   "source": [
    "# pad\n",
    "UNK = vocab.stoi['<unknown>']\n",
    "PAD = vocab.stoi['<pad>']\n",
    "print(UNK, PAD)"
   ]
  },
  {
   "cell_type": "code",
   "execution_count": 4,
   "id": "2770a196",
   "metadata": {},
   "outputs": [],
   "source": [
    "# 実験全体で class 作るべき。tokenizer, vocab, dataset をそれぞれ attributes としてもつ class"
   ]
  },
  {
   "cell_type": "markdown",
   "id": "e96b3a3c",
   "metadata": {},
   "source": [
    "# Experiments"
   ]
  },
  {
   "cell_type": "markdown",
   "id": "500a3f62",
   "metadata": {},
   "source": [
    "Class, Functions"
   ]
  },
  {
   "cell_type": "code",
   "execution_count": 4,
   "id": "0c02e39c",
   "metadata": {},
   "outputs": [
    {
     "name": "stdout",
     "output_type": "stream",
     "text": [
      "[17358, 1121, 4, 1057, 61]\n",
      "[0, 2, 21728, 6, 2837, 7, 0, 63]\n",
      "17358\n",
      "0 2 21728\n"
     ]
    }
   ],
   "source": [
    "# mapping tokens to labels\n",
    "tokenizer = SudachiTokenizer()\n",
    "text_pipeline = lambda text: [vocab[token] for token in tokenizer.tokenized_text(text)]\n",
    "\n",
    "# test: tokenizer で出力されるインデックスと、vocab.stoi[語] が一致するか？\n",
    "if 0==0:\n",
    "    texts = [\n",
    "        'ワンマンライブに行きたい',\n",
    "        'ヴェニスの商人を返してくださいよ'\n",
    "    ]\n",
    "    for text in texts:\n",
    "        print(text_pipeline(text))\n",
    "    print(vocab.stoi['ワンマン'])\n",
    "    print(vocab.stoi['ヴェニス'], vocab.stoi['の'], vocab.stoi['商人'])"
   ]
  },
  {
   "cell_type": "code",
   "execution_count": 5,
   "id": "f4efc896",
   "metadata": {},
   "outputs": [
    {
     "data": {
      "text/plain": [
       "<AxesSubplot:>"
      ]
     },
     "metadata": {},
     "output_type": "display_data"
    },
    {
     "data": {
      "image/png": "[encoded data removed]",
      "text/plain": [
       "<Figure size 432x288 with 2 Axes>"
      ]
     },
     "metadata": {
      "needs_background": "light"
     },
     "output_type": "display_data"
    },
    {
     "data": {
      "text/html": [
       "<style  type=\"text/css\" >\n",
       "#T_1828c_row0_col0{\n",
       "            background-color:  #08306b;\n",
       "            color:  #f1f1f1;\n",
       "        }#T_1828c_row1_col0{\n",
       "            background-color:  #f7fbff;\n",
       "            color:  #000000;\n",
       "        }</style><table id=\"T_1828c_\" ><thead>    <tr>        <th class=\"blank level0\" ></th>        <th class=\"col_heading level0 col0\" >1</th>    </tr>    <tr>        <th class=\"index_name level0\" >0</th>        <th class=\"blank\" ></th>    </tr></thead><tbody>\n",
       "                <tr>\n",
       "                        <th id=\"T_1828c_level0_row0\" class=\"row_heading level0 row0\" >2</th>\n",
       "                        <td id=\"T_1828c_row0_col0\" class=\"data row0 col0\" >7</td>\n",
       "            </tr>\n",
       "            <tr>\n",
       "                        <th id=\"T_1828c_level0_row1\" class=\"row_heading level0 row1\" >0</th>\n",
       "                        <td id=\"T_1828c_row1_col0\" class=\"data row1 col0\" >3</td>\n",
       "            </tr>\n",
       "    </tbody></table>"
      ],
      "text/plain": [
       "<pandas.io.formats.style.Styler at 0x7f6ab26ec2d0>"
      ]
     },
     "metadata": {},
     "output_type": "display_data"
    },
    {
     "name": "stderr",
     "output_type": "stream",
     "text": [
      "/usr/local/lib/python3.7/dist-packages/ipykernel_launcher.py:46: UserWarning: To copy construct from a tensor, it is recommended to use sourceTensor.clone().detach() or sourceTensor.clone().detach().requires_grad_(True), rather than torch.tensor(sourceTensor).\n"
     ]
    },
    {
     "data": {
      "text/plain": [
       "<AxesSubplot:>"
      ]
     },
     "metadata": {},
     "output_type": "display_data"
    },
    {
     "data": {
      "image/png": "[encoded data removed]",
      "text/plain": [
       "<Figure size 432x288 with 2 Axes>"
      ]
     },
     "metadata": {
      "needs_background": "light"
     },
     "output_type": "display_data"
    },
    {
     "data": {
      "text/html": [
       "<style  type=\"text/css\" >\n",
       "#T_11684_row0_col0{\n",
       "            background-color:  #08306b;\n",
       "            color:  #f1f1f1;\n",
       "        }#T_11684_row1_col0{\n",
       "            background-color:  #f7fbff;\n",
       "            color:  #000000;\n",
       "        }</style><table id=\"T_11684_\" ><thead>    <tr>        <th class=\"blank level0\" ></th>        <th class=\"col_heading level0 col0\" >1</th>    </tr>    <tr>        <th class=\"index_name level0\" >0</th>        <th class=\"blank\" ></th>    </tr></thead><tbody>\n",
       "                <tr>\n",
       "                        <th id=\"T_11684_level0_row0\" class=\"row_heading level0 row0\" >2</th>\n",
       "                        <td id=\"T_11684_row0_col0\" class=\"data row0 col0\" >9</td>\n",
       "            </tr>\n",
       "            <tr>\n",
       "                        <th id=\"T_11684_level0_row1\" class=\"row_heading level0 row1\" >0</th>\n",
       "                        <td id=\"T_11684_row1_col0\" class=\"data row1 col0\" >1</td>\n",
       "            </tr>\n",
       "    </tbody></table>"
      ],
      "text/plain": [
       "<pandas.io.formats.style.Styler at 0x7f6ab3146c50>"
      ]
     },
     "metadata": {},
     "output_type": "display_data"
    }
   ],
   "source": [
    "# todo: vocab, embedding 渡して vocab_size, embed_dim は渡さないようにする\n",
    "\n",
    "class LSTMClassifier(nn.Module):\n",
    "    \n",
    "    def __init__(self, embedding, h_dim, class_dim):\n",
    "        super(LSTMClassifier, self).__init__()\n",
    "        torch.manual_seed(SEED)\n",
    "        self.embedding = nn.Embedding.from_pretrained(torch.Tensor(embedding))\n",
    "        self.lstm = nn.LSTM(embedding.shape[1], h_dim, batch_first=True)\n",
    "        self.linear = nn.Linear(h_dim, class_dim)\n",
    "        \n",
    "    def forward(self, texts):\n",
    "        '''Calculate an output sequence for input text\n",
    "        \n",
    "        Args:\n",
    "          texts: 2 rank array of \n",
    "        Returns:\n",
    "        \n",
    "        '''\n",
    "        text_embedding = self.embedding(texts)\n",
    "        o, (h_n, c_n) = self.lstm(text_embedding)\n",
    "        out = self.linear(h_n)\n",
    "        return out\n",
    "\n",
    "# test: 未学習段階で推論結果の偏りがないか\n",
    "if 0==0:\n",
    "    def viz_output(output):\n",
    "        output = output.detach().squeeze().numpy()\n",
    "        display(sns.heatmap(output))\n",
    "        plt.show()\n",
    "        freq = Counter(output.argmax(axis=1)).most_common()\n",
    "        display(pd.DataFrame(freq).set_index(0).style.background_gradient('Blues'))\n",
    "        \n",
    "    # ランダムなトークン列\n",
    "    # -> 偏る。仕方ないのか？\n",
    "    lstm = LSTMClassifier(embedding, h_dim=100, class_dim=9)\n",
    "    input_ = torch.tensor(np.random.randint(0, len(embedding), [10, 300]))\n",
    "    output = lstm(input_)\n",
    "    viz_output(output)\n",
    "    \n",
    "    # 実際のテキスト\n",
    "    # -> ランダムなトークン列の場合より偏る。より秩序だっているから当然か？学習のためには、学習率を適切に設定するしかない？\n",
    "    texts = [torch.tensor(text_pipeline(text)) for text in train_dataset[:10][1]]\n",
    "    texts = pad_sequence(texts, batch_first=True, padding_value=PAD)\n",
    "\n",
    "    output = lstm(torch.tensor(texts))\n",
    "    viz_output(output)\n",
    "\n",
    "# test: vectors[語]、lstm.embedding[vocab.stoi[語]] が一致するか？\n",
    "if 0==1:\n",
    "    vectors = gensim.models.KeyedVectors.load(\"/data/chive_v1.2mc90/chive-1.2-mc90_gensim/chive-1.2-mc90.kv\")\n",
    "    word = '私'\n",
    "    v_chive = vectors[word]\n",
    "    v_lstm  = lstm.embedding(torch.tensor(vocab.stoi[word])).numpy()\n",
    "    print('Check result', all(v_chive==v_lstm))\n",
    "    print('Head 10 elements:')\n",
    "    print('v_chive:', v_chive[:10])\n",
    "    print('v_lstm:', v_lstm[:10])"
   ]
  },
  {
   "cell_type": "markdown",
   "id": "bdec7b1e",
   "metadata": {},
   "source": [
    "---"
   ]
  },
  {
   "cell_type": "code",
   "execution_count": 16,
   "id": "e0bc259e",
   "metadata": {},
   "outputs": [],
   "source": [
    "# 学習用 embedding 取得は word を介す必要がある\n",
    "\n",
    "# vocab 構築時\n",
    "# index <__ vocab.word                     # word から index へのマッパー（学習・推論に使用する）\n",
    "#       \\_> vocab.word __> vectors.vectors # word から embedding を取得し、index から embedding へのマッパーを構築\n",
    "\n",
    "# 学習時\n",
    "# token __> index __> embedding\n",
    "\n",
    "# vocab の語に対応する embedding を vectors.vectors から取得すれば良い（not found の場合 zeros）\n",
    "\n",
    "\n",
    "# 本質的には、embedding は辞書。list にすることで高速になっている辞書。\n",
    "\n",
    "# [2:] の語に対応する embeddings の array を作る試行\n",
    "# todo: KeyError; 辞書に存在しないはずの（vectors には少なくとも存在しない） ' ' が vocab には含まれており、エラー。\n",
    "# -> 以下確認結果より、今回は unknown として捌く。以下の通り修正？\n",
    "#    現：vocab + <unk> + <pad>\n",
    "#    新：vocab と vectors の intersection + <unk> + <pad>\n",
    "# ・Counter 時点で頻度確認する（どの文に、どのくらいの頻度で含まれるのか？なぜ ' ' が存在するのか？）\n",
    "# 　-> 比較的低頻度語だった。今回は対応見送る。\n",
    "# ・vocab に含まれ、vectors に含まれない語は他に存在するか？どのくらい存在するか？なぜ存在するか？\n",
    "# 　-> 結構存在した。unknown に割り当てる。"
   ]
  },
  {
   "cell_type": "markdown",
   "id": "3fa875ef",
   "metadata": {},
   "source": [
    "---"
   ]
  },
  {
   "cell_type": "code",
   "execution_count": 7,
   "id": "2dfa5f28",
   "metadata": {
    "scrolled": false
   },
   "outputs": [
    {
     "name": "stdout",
     "output_type": "stream",
     "text": [
      "|       | batch  30 | correct total: 0.11441532 | loss total: 0.03429274 |\n",
      "|       | batch  60 | correct total: 0.11296107 | loss total: 0.03428378 |\n",
      "|       | batch  90 | correct total: 0.11761676 | loss total: 0.03427943 |\n"
     ]
    }
   ],
   "source": [
    "# train\n",
    "def iter_train(dataloader, model, loss_fn, optimizer):\n",
    "    current_size = 0\n",
    "    current_loss, current_correct = 0, 0\n",
    "    \n",
    "    for batch, (labels, texts) in enumerate(dataloader):\n",
    "        \n",
    "        # indexing\n",
    "        texts = [torch.tensor(text_pipeline(text)) for text in texts]\n",
    "        texts = pad_sequence(texts, batch_first=True, padding_value=PAD)\n",
    "            \n",
    "        # send to GPU\n",
    "        labels, texts = labels.to(DEVICE), texts.to(DEVICE)\n",
    "\n",
    "        # pred\n",
    "        pred = model(texts)[0]\n",
    "\n",
    "        # get loss\n",
    "        loss = loss_fn(pred, labels)\n",
    "\n",
    "        # get gradient\n",
    "        optimizer.zero_grad() # バッチごとに勾配をリセット\n",
    "        loss.backward()\n",
    "\n",
    "        # back propagate\n",
    "        # 手動；todo: optimizer.step() の動作確認，デバッグ\n",
    "        for layer_num, param in enumerate(model.parameters()):\n",
    "            if layer_num==0:\n",
    "                continue\n",
    "            LR = optimizer.state_dict()['param_groups'][0]['lr']\n",
    "            param.data -= LR * param.grad.data\n",
    "#         optimizer.step()\n",
    "        \n",
    "        current_size += len(labels)\n",
    "        current_loss += loss.item()\n",
    "        current_correct += (pred.argmax(axis=1).squeeze()==labels).type(torch.int).sum().item()\n",
    "        \n",
    "        mean_loss = current_loss/current_size\n",
    "        mean_correct = current_correct/current_size\n",
    "\n",
    "        # logging\n",
    "        if batch%30==0 and batch!=0:\n",
    "            split = 'train'\n",
    "            print(f'| {split*(1 if batch==0 else 0):5} | batch {batch:3d} '\n",
    "                  f'| correct total: {mean_correct:0.8f} | loss total: {mean_loss:0.8f} |')\n",
    "    \n",
    "    return mean_correct, mean_loss\n",
    "\n",
    "if DEVICE=='cuda':\n",
    "    # 1 epoch sample execution\n",
    "    sample_dataloader = DataLoader(train_dataset,\n",
    "                                   batch_size=64,\n",
    "                                   shuffle=False,)\n",
    "    LR = 1e-4\n",
    "    model = LSTMClassifier(embedding, 100, 9).to(DEVICE)\n",
    "    loss_fn = nn.CrossEntropyLoss().to(DEVICE)\n",
    "    optimizer = torch.optim.SGD(model.parameters(), lr=LR)\n",
    "    iter_train(sample_dataloader, model, loss_fn, optimizer)"
   ]
  },
  {
   "cell_type": "code",
   "execution_count": 9,
   "id": "fbeca285",
   "metadata": {
    "scrolled": false
   },
   "outputs": [
    {
     "name": "stdout",
     "output_type": "stream",
     "text": [
      "| test  | accuracy: 0.1181 | loss avg: 0.03580737 |"
     ]
    }
   ],
   "source": [
    "# validate\n",
    "def iter_test(dataloader, model, loss_fn):\n",
    "    test_size = len(dataloader.dataset)\n",
    "    test_loss, correct = 0, 0\n",
    "\n",
    "    with torch.no_grad():\n",
    "        # 全ての勾配計算を無効化\n",
    "        for batch, (labels, texts) in enumerate(dataloader):\n",
    "            \n",
    "            # indexing\n",
    "            texts = [torch.tensor(text_pipeline(text)) for text in texts]\n",
    "            texts = pad_sequence(texts, batch_first=True, padding_value=PAD)\n",
    "            \n",
    "            # send to GPU\n",
    "            labels, texts = labels.to(DEVICE), texts.to(DEVICE)\n",
    "            \n",
    "            # predict\n",
    "            pred = model(texts)[0]\n",
    "\n",
    "            # get loss\n",
    "            test_loss += loss_fn(pred, labels).item()\n",
    "\n",
    "            # eval\n",
    "            pred_labels = pred.argmax(axis=1).squeeze() # この squeeze は問題ないのか？\n",
    "            correct += (pred_labels==labels).type(torch.int).sum().item()\n",
    "\n",
    "    correct /= test_size # Epoch 終了時点の Accuracy（正答数 / テストサンプルサイズ）\n",
    "    test_loss /= test_size # Epoch 終了時点の 1 サンプルあたり Loss 平均（Loss / テストサンプルサイズ）\n",
    "\n",
    "    split = 'test'\n",
    "    print(f'| {split:5} | accuracy: {correct:0.4f} | loss avg: {test_loss:6.8f} |', end='')\n",
    "    \n",
    "    return correct, test_loss\n",
    "\n",
    "if DEVICE=='cuda':\n",
    "    # sample execution\n",
    "    sample_dataloader = DataLoader(test_dataset,\n",
    "                                   batch_size=64,\n",
    "                                   shuffle=False,)\n",
    "    LR = 1e-2\n",
    "    model = LSTMClassifier(embedding, 100, 9).to(DEVICE)\n",
    "    loss_fn = nn.CrossEntropyLoss().to(DEVICE)\n",
    "    optimizer = torch.optim.SGD(model.parameters(), lr=LR)\n",
    "    iter_test(sample_dataloader, model, loss_fn)"
   ]
  },
  {
   "cell_type": "markdown",
   "id": "34bcf8da",
   "metadata": {},
   "source": [
    "Execute"
   ]
  },
  {
   "cell_type": "code",
   "execution_count": null,
   "id": "c856810c",
   "metadata": {
    "scrolled": true
   },
   "outputs": [
    {
     "name": "stdout",
     "output_type": "stream",
     "text": [
      "---------------------------- Epoch 0 ----------------------------\n",
      "|       | batch  30 | correct total: 0.10786290 | loss total: 0.06847315 |\n",
      "|       | batch  60 | correct total: 0.10604508 | loss total: 0.06843982 |\n",
      "|       | batch  90 | correct total: 0.11126374 | loss total: 0.06839534 |\n",
      "|       | batch 120 | correct total: 0.11208678 | loss total: 0.06836560 |\n",
      "|       | batch 150 | correct total: 0.11610099 | loss total: 0.06835530 |\n",
      "|       | batch 180 | correct total: 0.11912983 | loss total: 0.06837264 |\n",
      "| test  | accuracy: 0.1174 | loss avg: 0.06997272 | 591.67 sec |\n",
      "---------------------------- Epoch 1 ----------------------------\n",
      "|       | batch  30 | correct total: 0.10080645 | loss total: 0.06837524 |\n",
      "|       | batch  60 | correct total: 0.10399590 | loss total: 0.06849693 |\n",
      "|       | batch  90 | correct total: 0.10885989 | loss total: 0.06846389 |\n",
      "|       | batch 120 | correct total: 0.11337810 | loss total: 0.06838219 |\n",
      "|       | batch 150 | correct total: 0.11734272 | loss total: 0.06833191 |\n",
      "|       | batch 180 | correct total: 0.12137431 | loss total: 0.06828478 |\n",
      "| test  | accuracy: 0.1188 | loss avg: 0.06999433 | 1185.17 sec |\n",
      "---------------------------- Epoch 2 ----------------------------\n",
      "|       | batch  30 | correct total: 0.15120968 | loss total: 0.06829688 |\n",
      "|       | batch  60 | correct total: 0.13985656 | loss total: 0.06825685 |\n",
      "|       | batch  90 | correct total: 0.14148352 | loss total: 0.06829132 |\n",
      "|       | batch 120 | correct total: 0.13584711 | loss total: 0.06829517 |\n",
      "|       | batch 150 | correct total: 0.13141556 | loss total: 0.06824198 |\n",
      "|       | batch 180 | correct total: 0.12948895 | loss total: 0.06826700 |\n",
      "| test  | accuracy: 0.1086 | loss avg: 0.06982531 | 1775.92 sec |\n",
      "---------------------------- Epoch 3 ----------------------------\n",
      "|       | batch  30 | correct total: 0.12197581 | loss total: 0.06813125 |\n",
      "|       | batch  60 | correct total: 0.12192623 | loss total: 0.06824671 |\n",
      "|       | batch  90 | correct total: 0.12122253 | loss total: 0.06823948 |\n",
      "|       | batch 120 | correct total: 0.12215909 | loss total: 0.06819940 |\n",
      "|       | batch 150 | correct total: 0.12106788 | loss total: 0.06824118 |\n",
      "|       | batch 180 | correct total: 0.11999309 | loss total: 0.06828117 |\n",
      "| test  | accuracy: 0.1202 | loss avg: 0.06983970 | 2376.01 sec |\n",
      "---------------------------- Epoch 4 ----------------------------\n",
      "|       | batch  30 | correct total: 0.13508065 | loss total: 0.06799385 |\n",
      "|       | batch  60 | correct total: 0.12858607 | loss total: 0.06820315 |\n",
      "|       | batch  90 | correct total: 0.12946429 | loss total: 0.06817351 |\n",
      "|       | batch 120 | correct total: 0.12990702 | loss total: 0.06819201 |\n",
      "|       | batch 150 | correct total: 0.13245033 | loss total: 0.06820092 |\n",
      "|       | batch 180 | correct total: 0.12966160 | loss total: 0.06824937 |\n",
      "| test  | accuracy: 0.1236 | loss avg: 0.06980388 | 2970.66 sec |\n",
      "---------------------------- Epoch 5 ----------------------------\n",
      "|       | batch  30 | correct total: 0.11794355 | loss total: 0.06817613 |\n",
      "|       | batch  60 | correct total: 0.13063525 | loss total: 0.06813766 |\n",
      "|       | batch  90 | correct total: 0.13118132 | loss total: 0.06825216 |\n",
      "|       | batch 120 | correct total: 0.13326446 | loss total: 0.06821167 |\n",
      "|       | batch 150 | correct total: 0.13120861 | loss total: 0.06823318 |\n",
      "|       | batch 180 | correct total: 0.12845304 | loss total: 0.06824275 |\n",
      "| test  | accuracy: 0.1168 | loss avg: 0.06982746 | 3564.71 sec |\n",
      "---------------------------- Epoch 6 ----------------------------\n",
      "|       | batch  30 | correct total: 0.12903226 | loss total: 0.06801479 |\n",
      "|       | batch  60 | correct total: 0.13575820 | loss total: 0.06802014 |\n",
      "|       | batch  90 | correct total: 0.12774725 | loss total: 0.06810087 |\n",
      "|       | batch 120 | correct total: 0.12784091 | loss total: 0.06812317 |\n",
      "|       | batch 150 | correct total: 0.12520695 | loss total: 0.06816988 |\n",
      "|       | batch 180 | correct total: 0.12275552 | loss total: 0.06820302 |\n",
      "| test  | accuracy: 0.1215 | loss avg: 0.06986450 | 4160.19 sec |\n",
      "---------------------------- Epoch 7 ----------------------------\n",
      "|       | batch  30 | correct total: 0.13709677 | loss total: 0.06821113 |\n",
      "|       | batch  60 | correct total: 0.12858607 | loss total: 0.06820912 |\n",
      "|       | batch  90 | correct total: 0.12912088 | loss total: 0.06817696 |\n",
      "|       | batch 120 | correct total: 0.12990702 | loss total: 0.06818329 |\n",
      "|       | batch 150 | correct total: 0.12934603 | loss total: 0.06817856 |\n",
      "|       | batch 180 | correct total: 0.12689917 | loss total: 0.06818281 |\n",
      "| test  | accuracy: 0.1188 | loss avg: 0.06992849 | 4763.46 sec |\n",
      "---------------------------- Epoch 8 ----------------------------\n",
      "|       | batch  30 | correct total: 0.12903226 | loss total: 0.06803846 |\n",
      "|       | batch  60 | correct total: 0.14651639 | loss total: 0.06798171 |\n",
      "|       | batch  90 | correct total: 0.13633242 | loss total: 0.06810622 |\n",
      "|       | batch 120 | correct total: 0.12939050 | loss total: 0.06812851 |\n",
      "|       | batch 150 | correct total: 0.12437914 | loss total: 0.06817245 |\n",
      "|       | batch 180 | correct total: 0.12344613 | loss total: 0.06814589 |\n",
      "| test  | accuracy: 0.1195 | loss avg: 0.06988591 | 5368.09 sec |\n",
      "---------------------------- Epoch 9 ----------------------------\n",
      "|       | batch  30 | correct total: 0.12096774 | loss total: 0.06827041 |\n",
      "|       | batch  60 | correct total: 0.11526639 | loss total: 0.06822484 |\n",
      "|       | batch  90 | correct total: 0.12122253 | loss total: 0.06817170 |\n",
      "|       | batch 120 | correct total: 0.12706612 | loss total: 0.06813579 |\n",
      "|       | batch 150 | correct total: 0.12706954 | loss total: 0.06817438 |\n",
      "|       | batch 180 | correct total: 0.12707182 | loss total: 0.06814001 |\n",
      "| test  | accuracy: 0.1358 | loss avg: 0.06966390 | 5972.57 sec |\n",
      "---------------------------- Epoch 10 ----------------------------\n",
      "|       | batch  30 | correct total: 0.09475806 | loss total: 0.06814328 |\n",
      "|       | batch  60 | correct total: 0.10963115 | loss total: 0.06818302 |\n",
      "|       | batch  90 | correct total: 0.11195055 | loss total: 0.06817475 |\n",
      "|       | batch 120 | correct total: 0.11337810 | loss total: 0.06820767 |\n",
      "|       | batch 150 | correct total: 0.11568709 | loss total: 0.06813674 |\n",
      "|       | batch 180 | correct total: 0.11912983 | loss total: 0.06809319 |\n",
      "| test  | accuracy: 0.1174 | loss avg: 0.06964098 | 6556.69 sec |\n",
      "---------------------------- Epoch 11 ----------------------------\n",
      "|       | batch  30 | correct total: 0.12096774 | loss total: 0.06799990 |\n",
      "|       | batch  60 | correct total: 0.12038934 | loss total: 0.06811443 |\n",
      "|       | batch  90 | correct total: 0.12774725 | loss total: 0.06807176 |\n",
      "|       | batch 120 | correct total: 0.12835744 | loss total: 0.06804616 |\n"
     ]
    }
   ],
   "source": [
    "# model setting\n",
    "model_name = 'lstm'\n",
    "embed_type = 'chive-mc90'\n",
    "embed_dim = 100\n",
    "hidden_dim = 100\n",
    "\n",
    "# training setting\n",
    "batchsizes = [32]\n",
    "lrs = [1e-1]\n",
    "mos = [0.9]\n",
    "n_epochss = [100]\n",
    "\n",
    "for (batchsize, lr, mo, n_epochs) in itertools.product(batchsizes, lrs, mos, n_epochss):\n",
    "    # dataloader\n",
    "    train_dataloader = DataLoader(train_dataset,\n",
    "                                  batch_size=batchsize,\n",
    "                                  shuffle=True,)\n",
    "\n",
    "    test_dataloader = DataLoader(test_dataset,\n",
    "                                  batch_size=batchsize,\n",
    "                                  shuffle=True,)\n",
    "\n",
    "    # define network architecture\n",
    "    model = LSTMClassifier(embedding, hidden_dim, 9).to(DEVICE)\n",
    "    \n",
    "    # modules\n",
    "    loss_fn = nn.CrossEntropyLoss().to(DEVICE)\n",
    "    optimizer = torch.optim.SGD(model.parameters(), lr=lr, momentum=mo)\n",
    "    \n",
    "    # train model\n",
    "    result = []\n",
    "    start = time()\n",
    "    for epoch in range(n_epochs):\n",
    "\n",
    "        print(f'{\"-\"*28} Epoch {epoch} {\"-\"*28}')\n",
    "        train_acc, train_loss = iter_train(train_dataloader, model, loss_fn, optimizer)\n",
    "        test_acc, test_loss = iter_test(test_dataloader, model, loss_fn)\n",
    "        print(f' {time()-start:5.2f} sec |')\n",
    "        result.append((epoch, train_acc, train_loss, test_acc, test_loss))\n",
    "\n",
    "    print('done!')\n",
    "    \n",
    "    # **\n",
    "    # save\n",
    "    # *\n",
    "    filename_base = f'emb={embed_type}&edim={embed_dim:03d}' \\\n",
    "                    f'&model={model_name}&hdim={hidden_dim:03d}' \\\n",
    "                    f'&batchsize={batchsize:03d}' \\\n",
    "                    f'&optim=sgd&lr={lr:.5f}&mo={mo:.1f}' \\\n",
    "                    f'&epochs={n_epochs:4d}' \\\n",
    "                    f'&shuffle=True'\n",
    "    filename_model = os.path.join(DIR_MODEL, filename_base+'.pth')\n",
    "    filename_log = os.path.join(DIR_LOG, filename_base+'.csv')\n",
    "\n",
    "    # save model\n",
    "    if not os.path.isfile(filename_model):\n",
    "        torch.save(model, filename_model)\n",
    "        print(f'{filename_model} : created')\n",
    "    else:\n",
    "        print(f'{filename_model} : exists')\n",
    "\n",
    "    # save log\n",
    "    if not os.path.isfile(filename_log):\n",
    "        result = pd.DataFrame(result).rename(columns={0: 'epoch',\n",
    "                                                      1: 'train_acc',\n",
    "                                                      2: 'train_loss',\n",
    "                                                      3: 'test_acc',\n",
    "                                                      4: 'test_loss'})\n",
    "        result.to_csv(filename_log, index=False)\n",
    "        print(f'{filename_log} : created')\n",
    "    else:\n",
    "        print(f'{filename_log} : exists')"
   ]
  },
  {
   "cell_type": "markdown",
   "id": "eae71f69",
   "metadata": {},
   "source": [
    "なんか遅くなってない？  \n",
    "→ batch ごとに tokenize してるから\n",
    "\n",
    "方向性\n",
    "- index 化済み token を使って dataloader 作るよう修正\n",
    "- 単発試行時は text_pipeline 用いて変換したものを lstm に渡す\n",
    "\n",
    "todo\n",
    "- textpipeline の改修\n",
    "  - torch.tensor に直すとこまで含める\n",
    "  - rename"
   ]
  },
  {
   "cell_type": "markdown",
   "id": "484401be",
   "metadata": {},
   "source": [
    "マッピング間違ってたわけではなさそう（今回はマッピングちゃんとした）  \n",
    "学習済みベクトル用いてもあまり改善しなかった  \n",
    "- 評価間違ってないか今一度確認する\n",
    "- 以降、どうする？\n",
    "  - Optimizer かえる？\n",
    "  - SVM, Logistic で当たる？"
   ]
  },
  {
   "cell_type": "markdown",
   "id": "bd61174e",
   "metadata": {},
   "source": [
    "他の課題に取り組む？\n",
    "- Impress 実装\n",
    "- タイトルだけで？\n",
    "\n",
    "-> 初期段階の偏りは問題なのか、わかる。（上記いずれかの実装において、初期段階の偏りがあっても最終的に正当に近づくなら、問題ではない）"
   ]
  },
  {
   "cell_type": "markdown",
   "id": "69fa2ca6",
   "metadata": {},
   "source": [
    "- 考えられる推論結果初期値偏りの原因\n",
    "  - 問題でない；そういうもの\n",
    "  - \n",
    "- 考えられる過学習の原因\n",
    "  - バッチ shuffle してなかったから？\n",
    "  - "
   ]
  },
  {
   "cell_type": "markdown",
   "id": "bbea77ef",
   "metadata": {},
   "source": [
    "そもそもおかしいところ\n",
    "- 特定のラベルに推論結果が偏る\n",
    "- test なのに正答しない"
   ]
  },
  {
   "cell_type": "markdown",
   "id": "1db3e9ed",
   "metadata": {},
   "source": [
    "なやみ\n",
    "- 過学習する\n",
    "- 収束しない\n",
    "- ９値分類で推定結果が１つだけに偏る；１epoch 目からそんな感じ．初期値がかたよってるから？（散らばらせることできる？）"
   ]
  },
  {
   "cell_type": "markdown",
   "id": "872ea349",
   "metadata": {},
   "source": [
    "- embedding の 重みって，分散表現とべつであるか？"
   ]
  },
  {
   "cell_type": "markdown",
   "id": "9fde176b",
   "metadata": {},
   "source": [
    "- model 生成の順序を修正したから改善した？Embedding.require_grad=False を無効にしたから改善した？（先に進む前に，一度確認すべき）\n",
    "- 32, 64 128 で 1e-0 で試してみる"
   ]
  },
  {
   "cell_type": "markdown",
   "id": "becda21d",
   "metadata": {},
   "source": [
    "- train, test ともに，モデルの出力結果（Loss()に入れる直前の生の出力値）を受け取って評価するつくりに変更\n",
    "- → train, test をスタンドアロンに動かせるようになる．\n",
    "- → テストだけ実行して，未学習時点における推論結果の偏り有無を確認する（偏ってたら，パラメータ初期値が好ましくないという仮説の立証に一歩近づく）"
   ]
  },
  {
   "cell_type": "markdown",
   "id": "6ba06fb0",
   "metadata": {},
   "source": [
    "embedding の weight 更新 True にして試行"
   ]
  },
  {
   "cell_type": "markdown",
   "id": "8163c340",
   "metadata": {},
   "source": [
    "# Evaluation"
   ]
  },
  {
   "cell_type": "code",
   "execution_count": 19,
   "id": "5bedbcab",
   "metadata": {},
   "outputs": [
    {
     "ename": "ValueError",
     "evalue": "Data must be 1-dimensional",
     "output_type": "error",
     "traceback": [
      "\u001b[0;31m---------------------------------------------------------------------------\u001b[0m",
      "\u001b[0;31mValueError\u001b[0m                                Traceback (most recent call last)",
      "\u001b[0;32m<timed exec>\u001b[0m in \u001b[0;36m<module>\u001b[0;34m\u001b[0m\n",
      "\u001b[0;32m/usr/local/lib/python3.7/dist-packages/pandas/core/reshape/pivot.py\u001b[0m in \u001b[0;36mcrosstab\u001b[0;34m(index, columns, values, rownames, colnames, aggfunc, margins, margins_name, dropna, normalize)\u001b[0m\n\u001b[1;32m    596\u001b[0m         \u001b[0;34m**\u001b[0m\u001b[0mdict\u001b[0m\u001b[0;34m(\u001b[0m\u001b[0mzip\u001b[0m\u001b[0;34m(\u001b[0m\u001b[0munique_colnames\u001b[0m\u001b[0;34m,\u001b[0m \u001b[0mcolumns\u001b[0m\u001b[0;34m)\u001b[0m\u001b[0;34m)\u001b[0m\u001b[0;34m,\u001b[0m\u001b[0;34m\u001b[0m\u001b[0;34m\u001b[0m\u001b[0m\n\u001b[1;32m    597\u001b[0m     }\n\u001b[0;32m--> 598\u001b[0;31m     \u001b[0mdf\u001b[0m \u001b[0;34m=\u001b[0m \u001b[0mDataFrame\u001b[0m\u001b[0;34m(\u001b[0m\u001b[0mdata\u001b[0m\u001b[0;34m,\u001b[0m \u001b[0mindex\u001b[0m\u001b[0;34m=\u001b[0m\u001b[0mcommon_idx\u001b[0m\u001b[0;34m)\u001b[0m\u001b[0;34m\u001b[0m\u001b[0;34m\u001b[0m\u001b[0m\n\u001b[0m\u001b[1;32m    599\u001b[0m     \u001b[0moriginal_df_cols\u001b[0m \u001b[0;34m=\u001b[0m \u001b[0mdf\u001b[0m\u001b[0;34m.\u001b[0m\u001b[0mcolumns\u001b[0m\u001b[0;34m\u001b[0m\u001b[0;34m\u001b[0m\u001b[0m\n\u001b[1;32m    600\u001b[0m \u001b[0;34m\u001b[0m\u001b[0m\n",
      "\u001b[0;32m/usr/local/lib/python3.7/dist-packages/pandas/core/frame.py\u001b[0m in \u001b[0;36m__init__\u001b[0;34m(self, data, index, columns, dtype, copy)\u001b[0m\n\u001b[1;32m    527\u001b[0m \u001b[0;34m\u001b[0m\u001b[0m\n\u001b[1;32m    528\u001b[0m         \u001b[0;32melif\u001b[0m \u001b[0misinstance\u001b[0m\u001b[0;34m(\u001b[0m\u001b[0mdata\u001b[0m\u001b[0;34m,\u001b[0m \u001b[0mdict\u001b[0m\u001b[0;34m)\u001b[0m\u001b[0;34m:\u001b[0m\u001b[0;34m\u001b[0m\u001b[0;34m\u001b[0m\u001b[0m\n\u001b[0;32m--> 529\u001b[0;31m             \u001b[0mmgr\u001b[0m \u001b[0;34m=\u001b[0m \u001b[0minit_dict\u001b[0m\u001b[0;34m(\u001b[0m\u001b[0mdata\u001b[0m\u001b[0;34m,\u001b[0m \u001b[0mindex\u001b[0m\u001b[0;34m,\u001b[0m \u001b[0mcolumns\u001b[0m\u001b[0;34m,\u001b[0m \u001b[0mdtype\u001b[0m\u001b[0;34m=\u001b[0m\u001b[0mdtype\u001b[0m\u001b[0;34m)\u001b[0m\u001b[0;34m\u001b[0m\u001b[0;34m\u001b[0m\u001b[0m\n\u001b[0m\u001b[1;32m    530\u001b[0m         \u001b[0;32melif\u001b[0m \u001b[0misinstance\u001b[0m\u001b[0;34m(\u001b[0m\u001b[0mdata\u001b[0m\u001b[0;34m,\u001b[0m \u001b[0mma\u001b[0m\u001b[0;34m.\u001b[0m\u001b[0mMaskedArray\u001b[0m\u001b[0;34m)\u001b[0m\u001b[0;34m:\u001b[0m\u001b[0;34m\u001b[0m\u001b[0;34m\u001b[0m\u001b[0m\n\u001b[1;32m    531\u001b[0m             \u001b[0;32mimport\u001b[0m \u001b[0mnumpy\u001b[0m\u001b[0;34m.\u001b[0m\u001b[0mma\u001b[0m\u001b[0;34m.\u001b[0m\u001b[0mmrecords\u001b[0m \u001b[0;32mas\u001b[0m \u001b[0mmrecords\u001b[0m\u001b[0;34m\u001b[0m\u001b[0;34m\u001b[0m\u001b[0m\n",
      "\u001b[0;32m/usr/local/lib/python3.7/dist-packages/pandas/core/internals/construction.py\u001b[0m in \u001b[0;36minit_dict\u001b[0;34m(data, index, columns, dtype)\u001b[0m\n\u001b[1;32m    285\u001b[0m             \u001b[0marr\u001b[0m \u001b[0;32mif\u001b[0m \u001b[0;32mnot\u001b[0m \u001b[0mis_datetime64tz_dtype\u001b[0m\u001b[0;34m(\u001b[0m\u001b[0marr\u001b[0m\u001b[0;34m)\u001b[0m \u001b[0;32melse\u001b[0m \u001b[0marr\u001b[0m\u001b[0;34m.\u001b[0m\u001b[0mcopy\u001b[0m\u001b[0;34m(\u001b[0m\u001b[0;34m)\u001b[0m \u001b[0;32mfor\u001b[0m \u001b[0marr\u001b[0m \u001b[0;32min\u001b[0m \u001b[0marrays\u001b[0m\u001b[0;34m\u001b[0m\u001b[0;34m\u001b[0m\u001b[0m\n\u001b[1;32m    286\u001b[0m         ]\n\u001b[0;32m--> 287\u001b[0;31m     \u001b[0;32mreturn\u001b[0m \u001b[0marrays_to_mgr\u001b[0m\u001b[0;34m(\u001b[0m\u001b[0marrays\u001b[0m\u001b[0;34m,\u001b[0m \u001b[0mdata_names\u001b[0m\u001b[0;34m,\u001b[0m \u001b[0mindex\u001b[0m\u001b[0;34m,\u001b[0m \u001b[0mcolumns\u001b[0m\u001b[0;34m,\u001b[0m \u001b[0mdtype\u001b[0m\u001b[0;34m=\u001b[0m\u001b[0mdtype\u001b[0m\u001b[0;34m)\u001b[0m\u001b[0;34m\u001b[0m\u001b[0;34m\u001b[0m\u001b[0m\n\u001b[0m\u001b[1;32m    288\u001b[0m \u001b[0;34m\u001b[0m\u001b[0m\n\u001b[1;32m    289\u001b[0m \u001b[0;34m\u001b[0m\u001b[0m\n",
      "\u001b[0;32m/usr/local/lib/python3.7/dist-packages/pandas/core/internals/construction.py\u001b[0m in \u001b[0;36marrays_to_mgr\u001b[0;34m(arrays, arr_names, index, columns, dtype, verify_integrity)\u001b[0m\n\u001b[1;32m     83\u001b[0m \u001b[0;34m\u001b[0m\u001b[0m\n\u001b[1;32m     84\u001b[0m         \u001b[0;31m# don't force copy because getting jammed in an ndarray anyway\u001b[0m\u001b[0;34m\u001b[0m\u001b[0;34m\u001b[0m\u001b[0;34m\u001b[0m\u001b[0m\n\u001b[0;32m---> 85\u001b[0;31m         \u001b[0marrays\u001b[0m \u001b[0;34m=\u001b[0m \u001b[0m_homogenize\u001b[0m\u001b[0;34m(\u001b[0m\u001b[0marrays\u001b[0m\u001b[0;34m,\u001b[0m \u001b[0mindex\u001b[0m\u001b[0;34m,\u001b[0m \u001b[0mdtype\u001b[0m\u001b[0;34m)\u001b[0m\u001b[0;34m\u001b[0m\u001b[0;34m\u001b[0m\u001b[0m\n\u001b[0m\u001b[1;32m     86\u001b[0m \u001b[0;34m\u001b[0m\u001b[0m\n\u001b[1;32m     87\u001b[0m         \u001b[0mcolumns\u001b[0m \u001b[0;34m=\u001b[0m \u001b[0mensure_index\u001b[0m\u001b[0;34m(\u001b[0m\u001b[0mcolumns\u001b[0m\u001b[0;34m)\u001b[0m\u001b[0;34m\u001b[0m\u001b[0;34m\u001b[0m\u001b[0m\n",
      "\u001b[0;32m/usr/local/lib/python3.7/dist-packages/pandas/core/internals/construction.py\u001b[0m in \u001b[0;36m_homogenize\u001b[0;34m(data, index, dtype)\u001b[0m\n\u001b[1;32m    354\u001b[0m                 \u001b[0mval\u001b[0m \u001b[0;34m=\u001b[0m \u001b[0mlib\u001b[0m\u001b[0;34m.\u001b[0m\u001b[0mfast_multiget\u001b[0m\u001b[0;34m(\u001b[0m\u001b[0mval\u001b[0m\u001b[0;34m,\u001b[0m \u001b[0moindex\u001b[0m\u001b[0;34m.\u001b[0m\u001b[0m_values\u001b[0m\u001b[0;34m,\u001b[0m \u001b[0mdefault\u001b[0m\u001b[0;34m=\u001b[0m\u001b[0mnp\u001b[0m\u001b[0;34m.\u001b[0m\u001b[0mnan\u001b[0m\u001b[0;34m)\u001b[0m\u001b[0;34m\u001b[0m\u001b[0;34m\u001b[0m\u001b[0m\n\u001b[1;32m    355\u001b[0m             val = sanitize_array(\n\u001b[0;32m--> 356\u001b[0;31m                 \u001b[0mval\u001b[0m\u001b[0;34m,\u001b[0m \u001b[0mindex\u001b[0m\u001b[0;34m,\u001b[0m \u001b[0mdtype\u001b[0m\u001b[0;34m=\u001b[0m\u001b[0mdtype\u001b[0m\u001b[0;34m,\u001b[0m \u001b[0mcopy\u001b[0m\u001b[0;34m=\u001b[0m\u001b[0;32mFalse\u001b[0m\u001b[0;34m,\u001b[0m \u001b[0mraise_cast_failure\u001b[0m\u001b[0;34m=\u001b[0m\u001b[0;32mFalse\u001b[0m\u001b[0;34m\u001b[0m\u001b[0;34m\u001b[0m\u001b[0m\n\u001b[0m\u001b[1;32m    357\u001b[0m             )\n\u001b[1;32m    358\u001b[0m \u001b[0;34m\u001b[0m\u001b[0m\n",
      "\u001b[0;32m/usr/local/lib/python3.7/dist-packages/pandas/core/construction.py\u001b[0m in \u001b[0;36msanitize_array\u001b[0;34m(data, index, dtype, copy, raise_cast_failure)\u001b[0m\n\u001b[1;32m    527\u001b[0m     \u001b[0;32melif\u001b[0m \u001b[0msubarr\u001b[0m\u001b[0;34m.\u001b[0m\u001b[0mndim\u001b[0m \u001b[0;34m>\u001b[0m \u001b[0;36m1\u001b[0m\u001b[0;34m:\u001b[0m\u001b[0;34m\u001b[0m\u001b[0;34m\u001b[0m\u001b[0m\n\u001b[1;32m    528\u001b[0m         \u001b[0;32mif\u001b[0m \u001b[0misinstance\u001b[0m\u001b[0;34m(\u001b[0m\u001b[0mdata\u001b[0m\u001b[0;34m,\u001b[0m \u001b[0mnp\u001b[0m\u001b[0;34m.\u001b[0m\u001b[0mndarray\u001b[0m\u001b[0;34m)\u001b[0m\u001b[0;34m:\u001b[0m\u001b[0;34m\u001b[0m\u001b[0;34m\u001b[0m\u001b[0m\n\u001b[0;32m--> 529\u001b[0;31m             \u001b[0;32mraise\u001b[0m \u001b[0mValueError\u001b[0m\u001b[0;34m(\u001b[0m\u001b[0;34m\"Data must be 1-dimensional\"\u001b[0m\u001b[0;34m)\u001b[0m\u001b[0;34m\u001b[0m\u001b[0;34m\u001b[0m\u001b[0m\n\u001b[0m\u001b[1;32m    530\u001b[0m         \u001b[0;32melse\u001b[0m\u001b[0;34m:\u001b[0m\u001b[0;34m\u001b[0m\u001b[0;34m\u001b[0m\u001b[0m\n\u001b[1;32m    531\u001b[0m             \u001b[0msubarr\u001b[0m \u001b[0;34m=\u001b[0m \u001b[0mcom\u001b[0m\u001b[0;34m.\u001b[0m\u001b[0masarray_tuplesafe\u001b[0m\u001b[0;34m(\u001b[0m\u001b[0mdata\u001b[0m\u001b[0;34m,\u001b[0m \u001b[0mdtype\u001b[0m\u001b[0;34m=\u001b[0m\u001b[0mdtype\u001b[0m\u001b[0;34m)\u001b[0m\u001b[0;34m\u001b[0m\u001b[0;34m\u001b[0m\u001b[0m\n",
      "\u001b[0;31mValueError\u001b[0m: Data must be 1-dimensional"
     ]
    }
   ],
   "source": [
    "%%time\n",
    "def predict_dataloader(dataloader, model):\n",
    "\n",
    "    y = []\n",
    "    \n",
    "    with torch.no_grad():\n",
    "        # 全ての勾配計算を無効化\n",
    "        for batch, (labels, texts) in enumerate(dataloader):\n",
    "            \n",
    "            y.append(list(labels.numpy()))\n",
    "            \n",
    "            # indexing\n",
    "            texts = [torch.tensor(text_pipeline(text)) for text in texts]\n",
    "            texts = pad_sequence(texts, batch_first=True, padding_value=PAD)\n",
    "            \n",
    "            # send to GPU\n",
    "            labels, texts = labels.to(DEVICE), texts.to(DEVICE)\n",
    "            \n",
    "            # predict\n",
    "            if batch==0:\n",
    "                y_pred = model(texts)[0].cpu().numpy()\n",
    "            else:\n",
    "                y_pred = np.append(y_pred, model(texts)[0].cpu().numpy(), axis=0)\n",
    "    \n",
    "    return np.array(list(itertools.chain.from_iterable(y))), y_pred#.argmax(axis=1)\n",
    "\n",
    "f = 'emb=random&edim=300&model=lstm&hdim=100&batchsize=128&optim=sgd&lr=0.00003&mo=0.9&epochs=1.pth'\n",
    "model = torch.load(os.path.join(DIR_MODEL, f))\n",
    "\n",
    "test_dataloader = DataLoader(test_dataset,\n",
    "                              batch_size=128,\n",
    "                              shuffle=False,)\n",
    "y, y_pred = predict_dataloader(test_dataloader, model)\n",
    "sns.heatmap(pd.crosstab(y, y_pred))"
   ]
  },
  {
   "cell_type": "code",
   "execution_count": 20,
   "id": "ab96bda4",
   "metadata": {
    "scrolled": true
   },
   "outputs": [
    {
     "data": {
      "text/plain": [
       "array([[ 0.10310535, -0.05537033,  0.0144057 , ...,  0.02722622,\n",
       "         0.00404025,  0.07488791],\n",
       "       [ 0.10310535, -0.05537033,  0.01440569, ...,  0.02722622,\n",
       "         0.00404026,  0.07488791],\n",
       "       [ 0.10310535, -0.05537033,  0.0144057 , ...,  0.02722622,\n",
       "         0.00404026,  0.07488791],\n",
       "       ...,\n",
       "       [ 0.10310535, -0.05537033,  0.0144057 , ...,  0.02722622,\n",
       "         0.00404026,  0.07488791],\n",
       "       [ 0.10310535, -0.05537033,  0.0144057 , ...,  0.02722622,\n",
       "         0.00404026,  0.07488791],\n",
       "       [ 0.10310535, -0.05537033,  0.0144057 , ...,  0.02722622,\n",
       "         0.00404026,  0.07488791]], dtype=float32)"
      ]
     },
     "execution_count": 20,
     "metadata": {},
     "output_type": "execute_result"
    }
   ],
   "source": [
    "y_pred"
   ]
  },
  {
   "cell_type": "code",
   "execution_count": null,
   "id": "5c6b3fd2",
   "metadata": {},
   "outputs": [],
   "source": [
    "pred_with_word_embedding(model, )"
   ]
  },
  {
   "cell_type": "markdown",
   "id": "d6c856c8",
   "metadata": {},
   "source": [
    "# Primitive model"
   ]
  },
  {
   "cell_type": "markdown",
   "id": "fdcb1324",
   "metadata": {},
   "source": [
    "create feature dataset"
   ]
  },
  {
   "cell_type": "code",
   "execution_count": 26,
   "id": "d404d6fb",
   "metadata": {},
   "outputs": [
    {
     "name": "stdout",
     "output_type": "stream",
     "text": [
      "(5893, 300) (5893,)\n",
      "(1473, 300) (1473,)\n"
     ]
    }
   ],
   "source": [
    "def get_embedding_table(dataloader):\n",
    "    X, y = [], []\n",
    "    for batch, (labels, texts) in enumerate(dataloader):\n",
    "        texts = [torch.tensor(text_pipeline(text)) for text in texts]\n",
    "        texts = pad_sequence(texts, batch_first=True, padding_value=PAD)\n",
    "        labels, texts = labels.to(DEVICE), texts.to(DEVICE)\n",
    "        emb = model.embedding(texts).detach().cpu().numpy().mean(axis=1)\n",
    "        X.append(emb)\n",
    "        y.append(labels.detach().cpu().numpy())\n",
    "    \n",
    "    X = np.array(list(itertools.chain.from_iterable(X)))\n",
    "    y = np.array(list(itertools.chain.from_iterable(y)))\n",
    "        \n",
    "    return X, y\n",
    "\n",
    "model = LSTMClassifier(len(vocab), 300, 100, 9).to(DEVICE)\n",
    "X_train, y_train = get_embedding_table(train_dataloader)\n",
    "X_test, y_test = get_embedding_table(test_dataloader)\n",
    "print(X_train.shape, y_train.shape)\n",
    "print(X_test.shape, y_test.shape)"
   ]
  },
  {
   "cell_type": "markdown",
   "id": "b704fb0e",
   "metadata": {},
   "source": [
    "feature overview"
   ]
  },
  {
   "cell_type": "code",
   "execution_count": 27,
   "id": "2b6e955b",
   "metadata": {},
   "outputs": [
    {
     "name": "stdout",
     "output_type": "stream",
     "text": [
      "(9, 300)\n"
     ]
    },
    {
     "data": {
      "image/png": "[encoded data removed]",
      "text/plain": [
       "<Figure size 1296x311.04 with 1 Axes>"
      ]
     },
     "metadata": {},
     "output_type": "display_data"
    }
   ],
   "source": [
    "%matplotlib inline\n",
    "\n",
    "def show(embedding):\n",
    "    w = 18\n",
    "    h = embedding.shape[0] * (w / 300) * 8\n",
    "\n",
    "    fig = plt.figure(figsize=(w, h))\n",
    "    ax = fig.add_subplot(1, 1, 1)\n",
    "\n",
    "    print(embedding.shape)\n",
    "    sns.heatmap(pd.DataFrame(embedding), cbar=False, xticklabels=False, yticklabels=False, cmap='Blues')\n",
    "\n",
    "    plt.show()\n",
    "    return\n",
    "\n",
    "df = pd.DataFrame(X_train)\n",
    "show(df.groupby(y_train).mean())"
   ]
  },
  {
   "cell_type": "markdown",
   "id": "49fb6d4e",
   "metadata": {},
   "source": [
    "ベンチマーク；SVM で 82 %"
   ]
  },
  {
   "cell_type": "code",
   "execution_count": 28,
   "id": "38e83bfd",
   "metadata": {},
   "outputs": [
    {
     "data": {
      "text/plain": [
       "0.8268839103869654"
      ]
     },
     "execution_count": 28,
     "metadata": {},
     "output_type": "execute_result"
    }
   ],
   "source": [
    "from sklearn.svm import SVC\n",
    "\n",
    "model = SVC()\n",
    "model.fit(X_train, y_train)\n",
    "y_pred = model.predict(X_test)\n",
    "\n",
    "sum(y_pred == y_test) / len(y_test)"
   ]
  },
  {
   "cell_type": "code",
   "execution_count": 29,
   "id": "345b8459",
   "metadata": {
    "scrolled": true
   },
   "outputs": [
    {
     "data": {
      "image/png": "[encoded data removed]",
      "text/plain": [
       "<Figure size 288x288 with 1 Axes>"
      ]
     },
     "metadata": {
      "needs_background": "light"
     },
     "output_type": "display_data"
    }
   ],
   "source": [
    "%matplotlib inline\n",
    "\n",
    "fig = plt.figure(figsize=(4, 4))\n",
    "ax = fig.add_subplot(1, 1, 1)\n",
    "sns.heatmap(pd.crosstab(y_test, y_pred), cbar=False, annot=True, fmt='d')\n",
    "plt.show()"
   ]
  },
  {
   "cell_type": "markdown",
   "id": "2a59c3a0",
   "metadata": {},
   "source": [
    "# Work"
   ]
  }
 ],
 "metadata": {
  "kernelspec": {
   "display_name": "Python 3",
   "language": "python",
   "name": "python3"
  },
  "language_info": {
   "codemirror_mode": {
    "name": "ipython",
    "version": 3
   },
   "file_extension": ".py",
   "mimetype": "text/x-python",
   "name": "python",
   "nbconvert_exporter": "python",
   "pygments_lexer": "ipython3",
   "version": "3.7.5"
  }
 },
 "nbformat": 4,
 "nbformat_minor": 5
}
