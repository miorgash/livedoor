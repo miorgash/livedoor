{
 "cells": [
  {
   "cell_type": "code",
   "execution_count": 2,
   "id": "643b0856",
   "metadata": {},
   "outputs": [],
   "source": [
    "import pickle\n",
    "import gensim\n",
    "import pandas as pd\n",
    "import numpy as np"
   ]
  },
  {
   "cell_type": "code",
   "execution_count": 3,
   "id": "eeb3e424",
   "metadata": {},
   "outputs": [],
   "source": [
    "# load files\n",
    "with open('../../bin/vocab.sudachi.core.chive_mc90.pkl', 'rb') as f:\n",
    "    vocab = pickle.load(f)\n",
    "\n",
    "vectors = gensim.models.KeyedVectors.load(\"/data/chive_v1.2mc90/chive-1.2-mc90_gensim/chive-1.2-mc90.kv\")"
   ]
  },
  {
   "cell_type": "code",
   "execution_count": 12,
   "id": "5f49833a",
   "metadata": {},
   "outputs": [],
   "source": [
    "voc_words = set([vocab.itos[i] for i in range(len(vocab))])\n",
    "vec_words = set(vectors.vocab.keys())"
   ]
  },
  {
   "cell_type": "code",
   "execution_count": 26,
   "id": "f0636cc2",
   "metadata": {},
   "outputs": [],
   "source": [
    "n_voc = len(voc_words)\n",
    "n_vec = len(vec_words)\n",
    "n_intersection = len(voc_words & vec_words)\n",
    "n_voc_only = len(voc_words - vec_words)\n",
    "n_vec_only = len(vec_words - voc_words)"
   ]
  },
  {
   "cell_type": "code",
   "execution_count": 27,
   "id": "788a8c36",
   "metadata": {},
   "outputs": [
    {
     "name": "stdout",
     "output_type": "stream",
     "text": [
      "75972\n",
      "482238\n"
     ]
    }
   ],
   "source": [
    "print(n_voc)\n",
    "print(n_vec)"
   ]
  },
  {
   "cell_type": "code",
   "execution_count": 28,
   "id": "8cd98a3c",
   "metadata": {},
   "outputs": [
    {
     "name": "stdout",
     "output_type": "stream",
     "text": [
      "75972\n",
      "482238\n"
     ]
    }
   ],
   "source": [
    "print(n_intersection + n_voc_only)\n",
    "print(n_intersection + n_vec_only)"
   ]
  },
  {
   "cell_type": "code",
   "execution_count": 33,
   "id": "1c56ec4b",
   "metadata": {},
   "outputs": [
    {
     "data": {
      "text/plain": [
       "27866"
      ]
     },
     "execution_count": 33,
     "metadata": {},
     "output_type": "execute_result"
    }
   ],
   "source": [
    "# voc にしか含まれない（学習用データにしか含まれない；分散表現上 unknown となる）語が 27866 語\n",
    "n_voc_only"
   ]
  },
  {
   "cell_type": "code",
   "execution_count": 55,
   "id": "ed071e7e",
   "metadata": {},
   "outputs": [],
   "source": [
    "# check 観点：（分散表現による学習用データ語彙のカバレッジ）学習用データのトークンのうち、分散表現が割り当てられるトークンは十分数あるか？\n",
    "# 確認結果：カバーされない語は、学習用データにおいて比較的低頻度語\n",
    "# -> 今回は問題ない（必要に応じ、unknown への対策を考える）"
   ]
  },
  {
   "cell_type": "code",
   "execution_count": 73,
   "id": "80912edc",
   "metadata": {},
   "outputs": [
    {
     "data": {
      "text/html": [
       "<div>\n",
       "<style scoped>\n",
       "    .dataframe tbody tr th:only-of-type {\n",
       "        vertical-align: middle;\n",
       "    }\n",
       "\n",
       "    .dataframe tbody tr th {\n",
       "        vertical-align: top;\n",
       "    }\n",
       "\n",
       "    .dataframe thead th {\n",
       "        text-align: right;\n",
       "    }\n",
       "</style>\n",
       "<table border=\"1\" class=\"dataframe\">\n",
       "  <thead>\n",
       "    <tr style=\"text-align: right;\">\n",
       "      <th></th>\n",
       "      <th>freq</th>\n",
       "    </tr>\n",
       "  </thead>\n",
       "  <tbody>\n",
       "    <tr>\n",
       "      <th>count</th>\n",
       "      <td>27866.000000</td>\n",
       "    </tr>\n",
       "    <tr>\n",
       "      <th>mean</th>\n",
       "      <td>17.551640</td>\n",
       "    </tr>\n",
       "    <tr>\n",
       "      <th>std</th>\n",
       "      <td>409.697638</td>\n",
       "    </tr>\n",
       "    <tr>\n",
       "      <th>min</th>\n",
       "      <td>0.000000</td>\n",
       "    </tr>\n",
       "    <tr>\n",
       "      <th>25%</th>\n",
       "      <td>1.000000</td>\n",
       "    </tr>\n",
       "    <tr>\n",
       "      <th>50%</th>\n",
       "      <td>2.000000</td>\n",
       "    </tr>\n",
       "    <tr>\n",
       "      <th>75%</th>\n",
       "      <td>4.000000</td>\n",
       "    </tr>\n",
       "    <tr>\n",
       "      <th>max</th>\n",
       "      <td>59966.000000</td>\n",
       "    </tr>\n",
       "  </tbody>\n",
       "</table>\n",
       "</div>"
      ],
      "text/plain": [
       "               freq\n",
       "count  27866.000000\n",
       "mean      17.551640\n",
       "std      409.697638\n",
       "min        0.000000\n",
       "25%        1.000000\n",
       "50%        2.000000\n",
       "75%        4.000000\n",
       "max    59966.000000"
      ]
     },
     "metadata": {},
     "output_type": "display_data"
    },
    {
     "data": {
      "text/plain": [
       "<AxesSubplot:>"
      ]
     },
     "execution_count": 73,
     "metadata": {},
     "output_type": "execute_result"
    },
    {
     "data": {
      "image/png": "[encoded data removed]",
      "text/plain": [
       "<Figure size 432x288 with 1 Axes>"
      ]
     },
     "metadata": {
      "needs_background": "light"
     },
     "output_type": "display_data"
    }
   ],
   "source": [
    "# 分散表現語彙によってカバーされない、学習用データの語の出現頻度\n",
    "voc_words_only = list(voc_words - vec_words)\n",
    "voc_words_only_freq = [vocab.freqs[w] for w in voc_words_only]\n",
    "voc_words_only_freq = pd.DataFrame({'freq': voc_words_only_freq})\n",
    "display(voc_words_only_freq.describe())\n",
    "\n",
    "voc_words_only_freq.query('100 < freq < 1000')['freq'].hist(bins=100)"
   ]
  },
  {
   "cell_type": "code",
   "execution_count": 80,
   "id": "8d422007",
   "metadata": {},
   "outputs": [
    {
     "data": {
      "text/html": [
       "<div>\n",
       "<style scoped>\n",
       "    .dataframe tbody tr th:only-of-type {\n",
       "        vertical-align: middle;\n",
       "    }\n",
       "\n",
       "    .dataframe tbody tr th {\n",
       "        vertical-align: top;\n",
       "    }\n",
       "\n",
       "    .dataframe thead th {\n",
       "        text-align: right;\n",
       "    }\n",
       "</style>\n",
       "<table border=\"1\" class=\"dataframe\">\n",
       "  <thead>\n",
       "    <tr style=\"text-align: right;\">\n",
       "      <th></th>\n",
       "      <th>freq</th>\n",
       "    </tr>\n",
       "  </thead>\n",
       "  <tbody>\n",
       "    <tr>\n",
       "      <th>count</th>\n",
       "      <td>48106.000000</td>\n",
       "    </tr>\n",
       "    <tr>\n",
       "      <th>mean</th>\n",
       "      <td>70.839417</td>\n",
       "    </tr>\n",
       "    <tr>\n",
       "      <th>std</th>\n",
       "      <td>1774.808271</td>\n",
       "    </tr>\n",
       "    <tr>\n",
       "      <th>min</th>\n",
       "      <td>1.000000</td>\n",
       "    </tr>\n",
       "    <tr>\n",
       "      <th>25%</th>\n",
       "      <td>1.000000</td>\n",
       "    </tr>\n",
       "    <tr>\n",
       "      <th>50%</th>\n",
       "      <td>3.000000</td>\n",
       "    </tr>\n",
       "    <tr>\n",
       "      <th>75%</th>\n",
       "      <td>11.000000</td>\n",
       "    </tr>\n",
       "    <tr>\n",
       "      <th>max</th>\n",
       "      <td>167137.000000</td>\n",
       "    </tr>\n",
       "  </tbody>\n",
       "</table>\n",
       "</div>"
      ],
      "text/plain": [
       "                freq\n",
       "count   48106.000000\n",
       "mean       70.839417\n",
       "std      1774.808271\n",
       "min         1.000000\n",
       "25%         1.000000\n",
       "50%         3.000000\n",
       "75%        11.000000\n",
       "max    167137.000000"
      ]
     },
     "metadata": {},
     "output_type": "display_data"
    },
    {
     "data": {
      "text/plain": [
       "<AxesSubplot:>"
      ]
     },
     "execution_count": 80,
     "metadata": {},
     "output_type": "execute_result"
    },
    {
     "data": {
      "image/png": "[encoded data removed]",
      "text/plain": [
       "<Figure size 432x288 with 1 Axes>"
      ]
     },
     "metadata": {
      "needs_background": "light"
     },
     "output_type": "display_data"
    }
   ],
   "source": [
    "# 分散表現語彙によってカバーされる、学習用データの語の出現頻度\n",
    "intersection = voc_words & vec_words\n",
    "intersection_freq = [vocab.freqs[w] for w in list(voc_words) if w in intersection]\n",
    "intersection_freq = pd.DataFrame({'freq': intersection_freq})\n",
    "display(intersection_freq.describe())\n",
    "\n",
    "intersection_freq.query('100 < freq < 1000')['freq'].hist(bins=100)"
   ]
  },
  {
   "cell_type": "markdown",
   "id": "b9dfb55a",
   "metadata": {},
   "source": [
    "削除できる？"
   ]
  },
  {
   "cell_type": "code",
   "execution_count": 4,
   "id": "13f8fec7",
   "metadata": {},
   "outputs": [
    {
     "data": {
      "text/plain": [
       "75972"
      ]
     },
     "execution_count": 4,
     "metadata": {},
     "output_type": "execute_result"
    }
   ],
   "source": [
    "len(vocab)"
   ]
  },
  {
   "cell_type": "code",
   "execution_count": 5,
   "id": "b53047a3",
   "metadata": {},
   "outputs": [
    {
     "name": "stdout",
     "output_type": "stream",
     "text": [
      "145\n",
      "私\n"
     ]
    }
   ],
   "source": [
    "# vocab から語を除外できるか？\n",
    "# -> できるが、そういう問題ではない（後述）\n",
    "\n",
    "# 削除前\n",
    "print(vocab.stoi[\"私\"])\n",
    "print(vocab.itos[145])\n",
    "\n",
    "# 削除\n",
    "del vocab.stoi['私']\n",
    "del vocab.itos[145]"
   ]
  },
  {
   "cell_type": "code",
   "execution_count": 6,
   "id": "4d95981d",
   "metadata": {},
   "outputs": [
    {
     "name": "stdout",
     "output_type": "stream",
     "text": [
      "0\n",
      "そんな\n"
     ]
    }
   ],
   "source": [
    "# 削除後（削除されているか？インデックスは変わるか？）\n",
    "print(vocab.stoi[\"私\"])\n",
    "print(vocab.itos[145])"
   ]
  },
  {
   "cell_type": "code",
   "execution_count": 7,
   "id": "320bddbf",
   "metadata": {},
   "outputs": [
    {
     "data": {
      "text/plain": [
       "75971"
      ]
     },
     "execution_count": 7,
     "metadata": {},
     "output_type": "execute_result"
    }
   ],
   "source": [
    "len(vocab)"
   ]
  },
  {
   "cell_type": "code",
   "execution_count": null,
   "id": "c7f0415e",
   "metadata": {},
   "outputs": [],
   "source": [
    "# vocab.stoi はそのままマッピングテーブルとして使えるものであるべき\n",
    "# → vocab 構築にあたり、embedding に含まれない語ははじめから除外すればよいはず\n",
    "# （問題ないか、記事探す、あるいは公式ドキュメント見る）"
   ]
  }
 ],
 "metadata": {
  "kernelspec": {
   "display_name": "Python 3",
   "language": "python",
   "name": "python3"
  },
  "language_info": {
   "codemirror_mode": {
    "name": "ipython",
    "version": 3
   },
   "file_extension": ".py",
   "mimetype": "text/x-python",
   "name": "python",
   "nbconvert_exporter": "python",
   "pygments_lexer": "ipython3",
   "version": "3.7.5"
  }
 },
 "nbformat": 4,
 "nbformat_minor": 5
}
