{
 "cells": [
  {
   "cell_type": "code",
   "execution_count": 1,
   "id": "d9f0de66",
   "metadata": {},
   "outputs": [
    {
     "name": "stdout",
     "output_type": "stream",
     "text": [
      "{'DEVICE': 'cpu',\n",
      " 'DIR_BIN': '/tmp/work/livedoor/bin',\n",
      " 'DIR_DATA': '/tmp/work/livedoor/data',\n",
      " 'DIR_LOG': '/tmp/work/livedoor/log',\n",
      " 'DIR_MECAB_DIC': '/usr/lib/x86_64-linux-gnu/mecab/dic/mecab-ipadic-neologd',\n",
      " 'DIR_MODEL': '/tmp/work/livedoor/model',\n",
      " 'ROOT': '/tmp/work/livedoor',\n",
      " 'SAMPLE_SENT': 'ワンマンライブに行きたい。',\n",
      " 'SEED': 123,\n",
      " 'TOKENIZER': 'mecab'}\n"
     ]
    }
   ],
   "source": [
    "# primitive\n",
    "import sys\n",
    "import os\n",
    "import pickle\n",
    "import itertools\n",
    "from tqdm import tqdm\n",
    "from joblib import Parallel, delayed\n",
    "from pprint import pprint\n",
    "import itertools\n",
    "from collections import Counter\n",
    "from time import time\n",
    "\n",
    "# data handling\n",
    "import numpy as np\n",
    "import pandas as pd\n",
    "import matplotlib.pyplot as plt\n",
    "import seaborn as sns\n",
    "\n",
    "# text\n",
    "import MeCab\n",
    "import spacy\n",
    "import gensim\n",
    "from gensim.models import KeyedVectors\n",
    "\n",
    "# nn\n",
    "import torch\n",
    "from torch import nn\n",
    "from torch.nn.utils.rnn import pad_sequence\n",
    "from torch.utils.data import DataLoader\n",
    "from torch.utils.data.dataset import random_split\n",
    "from torchtext.vocab import Vocab\n",
    "\n",
    "# **\n",
    "# handmade libs\n",
    "# *\n",
    "src = '../../src'\n",
    "if src not in sys.path: sys.path.append(src)\n",
    "\n",
    "# constants\n",
    "from const import *\n",
    "constants = {k: v for k, v in locals().items() if k.isupper()}\n",
    "pprint(constants)\n",
    "\n",
    "# modules\n",
    "from my_tokenizer import get_tokenizer\n",
    "from livedoor_dataset import LivedoorDataset"
   ]
  },
  {
   "cell_type": "markdown",
   "id": "93fd3178",
   "metadata": {},
   "source": [
    "# Preprocess for training"
   ]
  },
  {
   "cell_type": "code",
   "execution_count": 2,
   "id": "bca571d1",
   "metadata": {},
   "outputs": [
    {
     "name": "stdout",
     "output_type": "stream",
     "text": [
      "(7366, 2)\n"
     ]
    },
    {
     "data": {
      "text/html": [
       "<div>\n",
       "<style scoped>\n",
       "    .dataframe tbody tr th:only-of-type {\n",
       "        vertical-align: middle;\n",
       "    }\n",
       "\n",
       "    .dataframe tbody tr th {\n",
       "        vertical-align: top;\n",
       "    }\n",
       "\n",
       "    .dataframe thead th {\n",
       "        text-align: right;\n",
       "    }\n",
       "</style>\n",
       "<table border=\"1\" class=\"dataframe\">\n",
       "  <thead>\n",
       "    <tr style=\"text-align: right;\">\n",
       "      <th></th>\n",
       "      <th>media</th>\n",
       "      <th>text</th>\n",
       "    </tr>\n",
       "  </thead>\n",
       "  <tbody>\n",
       "    <tr>\n",
       "      <th>0</th>\n",
       "      <td>4</td>\n",
       "      <td>映画『鍵泥棒のメソッド』が、16日より開催中の第15回上海国際映画祭のコンペティション部門に...</td>\n",
       "    </tr>\n",
       "    <tr>\n",
       "      <th>1</th>\n",
       "      <td>4</td>\n",
       "      <td>監督・蜷川実花×主演・沢尻エリカで贈る『ヘルタースケルター』。本作のテーマソングが、浜崎あゆ...</td>\n",
       "    </tr>\n",
       "    <tr>\n",
       "      <th>2</th>\n",
       "      <td>4</td>\n",
       "      <td>「スーパー・ヒーローが強いのはもちろんだが、実際にはどれほどの実力なのだろうか？」という疑問...</td>\n",
       "    </tr>\n",
       "    <tr>\n",
       "      <th>3</th>\n",
       "      <td>4</td>\n",
       "      <td>自殺か？狂言か？──パニックとなった群衆が路上で見守る中、高層ホテルから飛び降りようとする一...</td>\n",
       "    </tr>\n",
       "    <tr>\n",
       "      <th>4</th>\n",
       "      <td>4</td>\n",
       "      <td>元・お嬢様の勅使河原 栄華（てしがわら えいか）は、父の事業の失敗で一転して貧乏人になるが、...</td>\n",
       "    </tr>\n",
       "  </tbody>\n",
       "</table>\n",
       "</div>"
      ],
      "text/plain": [
       "   media                                               text\n",
       "0      4  映画『鍵泥棒のメソッド』が、16日より開催中の第15回上海国際映画祭のコンペティション部門に...\n",
       "1      4  監督・蜷川実花×主演・沢尻エリカで贈る『ヘルタースケルター』。本作のテーマソングが、浜崎あゆ...\n",
       "2      4  「スーパー・ヒーローが強いのはもちろんだが、実際にはどれほどの実力なのだろうか？」という疑問...\n",
       "3      4  自殺か？狂言か？──パニックとなった群衆が路上で見守る中、高層ホテルから飛び降りようとする一...\n",
       "4      4  元・お嬢様の勅使河原 栄華（てしがわら えいか）は、父の事業の失敗で一転して貧乏人になるが、..."
      ]
     },
     "metadata": {},
     "output_type": "display_data"
    },
    {
     "data": {
      "text/html": [
       "<style  type=\"text/css\" >\n",
       "#T_4f187_row0_col0{\n",
       "            background-color:  #08306b;\n",
       "            color:  #f1f1f1;\n",
       "        }#T_4f187_row0_col1{\n",
       "            background-color:  #3787c0;\n",
       "            color:  #000000;\n",
       "        }#T_4f187_row0_col2,#T_4f187_row0_col3,#T_4f187_row0_col4,#T_4f187_row0_col8{\n",
       "            background-color:  #084488;\n",
       "            color:  #f1f1f1;\n",
       "        }#T_4f187_row0_col5{\n",
       "            background-color:  #f7fbff;\n",
       "            color:  #000000;\n",
       "        }#T_4f187_row0_col6{\n",
       "            background-color:  #08488e;\n",
       "            color:  #f1f1f1;\n",
       "        }#T_4f187_row0_col7{\n",
       "            background-color:  #0c56a0;\n",
       "            color:  #f1f1f1;\n",
       "        }</style><table id=\"T_4f187_\" ><thead>    <tr>        <th class=\"blank level0\" ></th>        <th class=\"col_heading level0 col0\" >0</th>        <th class=\"col_heading level0 col1\" >1</th>        <th class=\"col_heading level0 col2\" >2</th>        <th class=\"col_heading level0 col3\" >3</th>        <th class=\"col_heading level0 col4\" >4</th>        <th class=\"col_heading level0 col5\" >5</th>        <th class=\"col_heading level0 col6\" >6</th>        <th class=\"col_heading level0 col7\" >7</th>        <th class=\"col_heading level0 col8\" >8</th>    </tr></thead><tbody>\n",
       "                <tr>\n",
       "                        <th id=\"T_4f187_level0_row0\" class=\"row_heading level0 row0\" >media</th>\n",
       "                        <td id=\"T_4f187_row0_col0\" class=\"data row0 col0\" >899</td>\n",
       "                        <td id=\"T_4f187_row0_col1\" class=\"data row0 col1\" >770</td>\n",
       "                        <td id=\"T_4f187_row0_col2\" class=\"data row0 col2\" >870</td>\n",
       "                        <td id=\"T_4f187_row0_col3\" class=\"data row0 col3\" >870</td>\n",
       "                        <td id=\"T_4f187_row0_col4\" class=\"data row0 col4\" >870</td>\n",
       "                        <td id=\"T_4f187_row0_col5\" class=\"data row0 col5\" >511</td>\n",
       "                        <td id=\"T_4f187_row0_col6\" class=\"data row0 col6\" >864</td>\n",
       "                        <td id=\"T_4f187_row0_col7\" class=\"data row0 col7\" >842</td>\n",
       "                        <td id=\"T_4f187_row0_col8\" class=\"data row0 col8\" >870</td>\n",
       "            </tr>\n",
       "    </tbody></table>"
      ],
      "text/plain": [
       "<pandas.io.formats.style.Styler at 0x4057dfe9d0>"
      ]
     },
     "metadata": {},
     "output_type": "display_data"
    }
   ],
   "source": [
    "ld_df = pd.read_csv(os.path.join(DIR_DATA, 'livedoor&text=text.csv'))#.head(10)\n",
    "\n",
    "# 概観\n",
    "print(ld_df.shape)\n",
    "display(ld_df.head())\n",
    "display(pd.DataFrame(ld_df.media.value_counts()).sort_index().T.style.background_gradient('Blues', axis=1))"
   ]
  },
  {
   "cell_type": "code",
   "execution_count": 3,
   "id": "f6855feb",
   "metadata": {},
   "outputs": [
    {
     "data": {
      "text/html": [
       "<style  type=\"text/css\" >\n",
       "#T_ecf30_row0_col0{\n",
       "            background-color:  #083370;\n",
       "            color:  #f1f1f1;\n",
       "        }#T_ecf30_row0_col1{\n",
       "            background-color:  #3e8ec4;\n",
       "            color:  #000000;\n",
       "        }#T_ecf30_row0_col2{\n",
       "            background-color:  #084b93;\n",
       "            color:  #f1f1f1;\n",
       "        }#T_ecf30_row0_col3{\n",
       "            background-color:  #083674;\n",
       "            color:  #f1f1f1;\n",
       "        }#T_ecf30_row0_col4{\n",
       "            background-color:  #0f5aa3;\n",
       "            color:  #f1f1f1;\n",
       "        }#T_ecf30_row0_col5{\n",
       "            background-color:  #f7fbff;\n",
       "            color:  #000000;\n",
       "        }#T_ecf30_row0_col6{\n",
       "            background-color:  #083a7a;\n",
       "            color:  #f1f1f1;\n",
       "        }#T_ecf30_row0_col7{\n",
       "            background-color:  #0a539e;\n",
       "            color:  #f1f1f1;\n",
       "        }#T_ecf30_row0_col8{\n",
       "            background-color:  #08306b;\n",
       "            color:  #f1f1f1;\n",
       "        }</style><table id=\"T_ecf30_\" ><thead>    <tr>        <th class=\"index_name level0\" >0</th>        <th class=\"col_heading level0 col0\" >0</th>        <th class=\"col_heading level0 col1\" >1</th>        <th class=\"col_heading level0 col2\" >2</th>        <th class=\"col_heading level0 col3\" >3</th>        <th class=\"col_heading level0 col4\" >4</th>        <th class=\"col_heading level0 col5\" >5</th>        <th class=\"col_heading level0 col6\" >6</th>        <th class=\"col_heading level0 col7\" >7</th>        <th class=\"col_heading level0 col8\" >8</th>    </tr></thead><tbody>\n",
       "                <tr>\n",
       "                        <th id=\"T_ecf30_level0_row0\" class=\"row_heading level0 row0\" >1</th>\n",
       "                        <td id=\"T_ecf30_row0_col0\" class=\"data row0 col0\" >713</td>\n",
       "                        <td id=\"T_ecf30_row0_col1\" class=\"data row0 col1\" >607</td>\n",
       "                        <td id=\"T_ecf30_row0_col2\" class=\"data row0 col2\" >685</td>\n",
       "                        <td id=\"T_ecf30_row0_col3\" class=\"data row0 col3\" >709</td>\n",
       "                        <td id=\"T_ecf30_row0_col4\" class=\"data row0 col4\" >668</td>\n",
       "                        <td id=\"T_ecf30_row0_col5\" class=\"data row0 col5\" >413</td>\n",
       "                        <td id=\"T_ecf30_row0_col6\" class=\"data row0 col6\" >705</td>\n",
       "                        <td id=\"T_ecf30_row0_col7\" class=\"data row0 col7\" >676</td>\n",
       "                        <td id=\"T_ecf30_row0_col8\" class=\"data row0 col8\" >717</td>\n",
       "            </tr>\n",
       "    </tbody></table>"
      ],
      "text/plain": [
       "<pandas.io.formats.style.Styler at 0x4035d7bad0>"
      ]
     },
     "metadata": {},
     "output_type": "display_data"
    },
    {
     "data": {
      "text/html": [
       "<style  type=\"text/css\" >\n",
       "#T_d7838_row0_col0{\n",
       "            background-color:  #0e58a2;\n",
       "            color:  #f1f1f1;\n",
       "        }#T_d7838_row0_col1{\n",
       "            background-color:  #4191c6;\n",
       "            color:  #000000;\n",
       "        }#T_d7838_row0_col2{\n",
       "            background-color:  #0f5aa3;\n",
       "            color:  #f1f1f1;\n",
       "        }#T_d7838_row0_col3{\n",
       "            background-color:  #4896c8;\n",
       "            color:  #000000;\n",
       "        }#T_d7838_row0_col4{\n",
       "            background-color:  #08306b;\n",
       "            color:  #f1f1f1;\n",
       "        }#T_d7838_row0_col5{\n",
       "            background-color:  #f7fbff;\n",
       "            color:  #000000;\n",
       "        }#T_d7838_row0_col6{\n",
       "            background-color:  #4e9acb;\n",
       "            color:  #000000;\n",
       "        }#T_d7838_row0_col7{\n",
       "            background-color:  #3a8ac2;\n",
       "            color:  #000000;\n",
       "        }#T_d7838_row0_col8{\n",
       "            background-color:  #61a7d2;\n",
       "            color:  #000000;\n",
       "        }</style><table id=\"T_d7838_\" ><thead>    <tr>        <th class=\"index_name level0\" >0</th>        <th class=\"col_heading level0 col0\" >0</th>        <th class=\"col_heading level0 col1\" >1</th>        <th class=\"col_heading level0 col2\" >2</th>        <th class=\"col_heading level0 col3\" >3</th>        <th class=\"col_heading level0 col4\" >4</th>        <th class=\"col_heading level0 col5\" >5</th>        <th class=\"col_heading level0 col6\" >6</th>        <th class=\"col_heading level0 col7\" >7</th>        <th class=\"col_heading level0 col8\" >8</th>    </tr></thead><tbody>\n",
       "                <tr>\n",
       "                        <th id=\"T_d7838_level0_row0\" class=\"row_heading level0 row0\" >1</th>\n",
       "                        <td id=\"T_d7838_row0_col0\" class=\"data row0 col0\" >186</td>\n",
       "                        <td id=\"T_d7838_row0_col1\" class=\"data row0 col1\" >163</td>\n",
       "                        <td id=\"T_d7838_row0_col2\" class=\"data row0 col2\" >185</td>\n",
       "                        <td id=\"T_d7838_row0_col3\" class=\"data row0 col3\" >161</td>\n",
       "                        <td id=\"T_d7838_row0_col4\" class=\"data row0 col4\" >202</td>\n",
       "                        <td id=\"T_d7838_row0_col5\" class=\"data row0 col5\" >98</td>\n",
       "                        <td id=\"T_d7838_row0_col6\" class=\"data row0 col6\" >159</td>\n",
       "                        <td id=\"T_d7838_row0_col7\" class=\"data row0 col7\" >166</td>\n",
       "                        <td id=\"T_d7838_row0_col8\" class=\"data row0 col8\" >153</td>\n",
       "            </tr>\n",
       "    </tbody></table>"
      ],
      "text/plain": [
       "<pandas.io.formats.style.Styler at 0x40bd6ba350>"
      ]
     },
     "metadata": {},
     "output_type": "display_data"
    }
   ],
   "source": [
    "# get torch dataset\n",
    "dataset = LivedoorDataset(ld_df)\n",
    "\n",
    "# split dataset\n",
    "TEST_RATE = 0.20\n",
    "n = len(dataset)\n",
    "n_test = int(np.floor(n * TEST_RATE))\n",
    "n_train = int(n - n_test)\n",
    "train_dataset, test_dataset = \\\n",
    "        random_split(dataset, [n_train, n_test], generator=torch.Generator().manual_seed(12345))\n",
    "\n",
    "def get_subset_label_balance(dataset):\n",
    "    c = Counter([l for l, _ in dataset])\n",
    "    return pd.DataFrame(c.most_common()).set_index(0).sort_index().T\n",
    "\n",
    "display(get_subset_label_balance(train_dataset).style.background_gradient('Blues', axis=1))\n",
    "display(get_subset_label_balance(test_dataset).style.background_gradient('Blues', axis=1))"
   ]
  },
  {
   "cell_type": "code",
   "execution_count": 4,
   "id": "50a5ef48",
   "metadata": {},
   "outputs": [
    {
     "name": "stdout",
     "output_type": "stream",
     "text": [
      "create: /tmp/work/livedoor/bin/train_subset.pkl\n",
      "create: /tmp/work/livedoor/bin/test_subset.pkl\n"
     ]
    }
   ],
   "source": [
    "splits = ['train', 'test']\n",
    "datasets = [train_dataset, test_dataset]\n",
    "\n",
    "for split, dataset in zip(splits, datasets):\n",
    "    file = os.path.join(DIR_BIN, f'{split}_subset.pkl')\n",
    "    if os.path.isfile(file):\n",
    "        print(f'file exists: {file}')\n",
    "        pass\n",
    "    else:\n",
    "        print(f'create: {file}')\n",
    "        with open(file, 'wb') as f:\n",
    "            pickle.dump(dataset, f)"
   ]
  }
 ],
 "metadata": {
  "kernelspec": {
   "display_name": "Python 3",
   "language": "python",
   "name": "python3"
  },
  "language_info": {
   "codemirror_mode": {
    "name": "ipython",
    "version": 3
   },
   "file_extension": ".py",
   "mimetype": "text/x-python",
   "name": "python",
   "nbconvert_exporter": "python",
   "pygments_lexer": "ipython3",
   "version": "3.7.5"
  }
 },
 "nbformat": 4,
 "nbformat_minor": 5
}
