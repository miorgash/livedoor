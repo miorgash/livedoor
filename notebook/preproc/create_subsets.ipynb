{
 "cells": [
  {
   "cell_type": "code",
   "execution_count": 1,
   "id": "d9f0de66",
   "metadata": {},
   "outputs": [
    {
     "name": "stdout",
     "output_type": "stream",
     "text": [
      "{'DEVICE': 'cuda',\n",
      " 'DIR_BIN': '/tmp/work/livedoor/bin',\n",
      " 'DIR_DATA': '/tmp/work/livedoor/data',\n",
      " 'DIR_LOG': '/tmp/work/livedoor/log',\n",
      " 'DIR_MECAB_DIC': '/usr/lib/x86_64-linux-gnu/mecab/dic/mecab-ipadic-neologd',\n",
      " 'DIR_MODEL': '/tmp/work/livedoor/model',\n",
      " 'ROOT': '/tmp/work/livedoor',\n",
      " 'SAMPLE_SENT': 'ワンマンライブに行きたい。',\n",
      " 'SEED': 123,\n",
      " 'TOKENIZER': 'mecab'}\n"
     ]
    }
   ],
   "source": [
    "# primitive\n",
    "import sys\n",
    "import os\n",
    "import pickle\n",
    "import itertools\n",
    "from tqdm import tqdm\n",
    "from joblib import Parallel, delayed\n",
    "from pprint import pprint\n",
    "import itertools\n",
    "from collections import Counter\n",
    "from time import time\n",
    "\n",
    "# data handling\n",
    "import numpy as np\n",
    "import pandas as pd\n",
    "import matplotlib.pyplot as plt\n",
    "import seaborn as sns\n",
    "\n",
    "# text\n",
    "import MeCab\n",
    "import spacy\n",
    "import gensim\n",
    "from gensim.models import KeyedVectors\n",
    "\n",
    "# nn\n",
    "import torch\n",
    "from torch import nn\n",
    "from torch.nn.utils.rnn import pad_sequence\n",
    "from torch.utils.data import DataLoader\n",
    "from torch.utils.data.dataset import random_split\n",
    "from torchtext.vocab import Vocab\n",
    "\n",
    "# **\n",
    "# handmade libs\n",
    "# *\n",
    "src = '../../src'\n",
    "if src not in sys.path: sys.path.append(src)\n",
    "\n",
    "# constants\n",
    "from const import *\n",
    "constants = {k: v for k, v in locals().items() if k.isupper()}\n",
    "pprint(constants)\n",
    "\n",
    "# modules\n",
    "from my_tokenizer import get_tokenizer\n",
    "from livedoor_dataset import LivedoorDataset"
   ]
  },
  {
   "cell_type": "markdown",
   "id": "93fd3178",
   "metadata": {},
   "source": [
    "# Preprocess for training"
   ]
  },
  {
   "cell_type": "code",
   "execution_count": 2,
   "id": "bca571d1",
   "metadata": {},
   "outputs": [
    {
     "name": "stdout",
     "output_type": "stream",
     "text": [
      "(7366, 2)\n"
     ]
    },
    {
     "data": {
      "text/html": [
       "<div>\n",
       "<style scoped>\n",
       "    .dataframe tbody tr th:only-of-type {\n",
       "        vertical-align: middle;\n",
       "    }\n",
       "\n",
       "    .dataframe tbody tr th {\n",
       "        vertical-align: top;\n",
       "    }\n",
       "\n",
       "    .dataframe thead th {\n",
       "        text-align: right;\n",
       "    }\n",
       "</style>\n",
       "<table border=\"1\" class=\"dataframe\">\n",
       "  <thead>\n",
       "    <tr style=\"text-align: right;\">\n",
       "      <th></th>\n",
       "      <th>media</th>\n",
       "      <th>text</th>\n",
       "    </tr>\n",
       "  </thead>\n",
       "  <tbody>\n",
       "    <tr>\n",
       "      <th>0</th>\n",
       "      <td>3</td>\n",
       "      <td>前回の「プロに聞く“合コンの極意”（前編）　合コンアナリスト水谷麻衣に聞く、合コンの勝ちパタ...</td>\n",
       "    </tr>\n",
       "    <tr>\n",
       "      <th>1</th>\n",
       "      <td>3</td>\n",
       "      <td>「3年で転職は早すぎる？」「将来が見えない」「仕事が面白くない」・・・若手社会人の悩みは尽き...</td>\n",
       "    </tr>\n",
       "    <tr>\n",
       "      <th>2</th>\n",
       "      <td>3</td>\n",
       "      <td>こんにちは、「ビズリーチ年収1000万円研究所」所長の佐藤和男です。この研究所では、年収10...</td>\n",
       "    </tr>\n",
       "    <tr>\n",
       "      <th>3</th>\n",
       "      <td>3</td>\n",
       "      <td>6月7日、表参道のカフェバー「MERCER CAFE TERRACE HOUSE」でHenn...</td>\n",
       "    </tr>\n",
       "    <tr>\n",
       "      <th>4</th>\n",
       "      <td>3</td>\n",
       "      <td>「3年で転職は早すぎる？」「将来が見えない」「仕事が面白くない」・・・若手社会人の悩みは尽き...</td>\n",
       "    </tr>\n",
       "  </tbody>\n",
       "</table>\n",
       "</div>"
      ],
      "text/plain": [
       "   media                                               text\n",
       "0      3  前回の「プロに聞く“合コンの極意”（前編）　合コンアナリスト水谷麻衣に聞く、合コンの勝ちパタ...\n",
       "1      3  「3年で転職は早すぎる？」「将来が見えない」「仕事が面白くない」・・・若手社会人の悩みは尽き...\n",
       "2      3  こんにちは、「ビズリーチ年収1000万円研究所」所長の佐藤和男です。この研究所では、年収10...\n",
       "3      3  6月7日、表参道のカフェバー「MERCER CAFE TERRACE HOUSE」でHenn...\n",
       "4      3  「3年で転職は早すぎる？」「将来が見えない」「仕事が面白くない」・・・若手社会人の悩みは尽き..."
      ]
     },
     "metadata": {},
     "output_type": "display_data"
    },
    {
     "data": {
      "text/html": [
       "<style  type=\"text/css\" >\n",
       "#T_95470_row0_col0,#T_95470_row0_col1,#T_95470_row0_col4,#T_95470_row0_col8{\n",
       "            background-color:  #084488;\n",
       "            color:  #f1f1f1;\n",
       "        }#T_95470_row0_col2{\n",
       "            background-color:  #084990;\n",
       "            color:  #f1f1f1;\n",
       "        }#T_95470_row0_col3{\n",
       "            background-color:  #f7fbff;\n",
       "            color:  #000000;\n",
       "        }#T_95470_row0_col5{\n",
       "            background-color:  #0d57a1;\n",
       "            color:  #f1f1f1;\n",
       "        }#T_95470_row0_col6{\n",
       "            background-color:  #3787c0;\n",
       "            color:  #000000;\n",
       "        }#T_95470_row0_col7{\n",
       "            background-color:  #08306b;\n",
       "            color:  #f1f1f1;\n",
       "        }</style><table id=\"T_95470_\" ><thead>    <tr>        <th class=\"blank level0\" ></th>        <th class=\"col_heading level0 col0\" >0</th>        <th class=\"col_heading level0 col1\" >1</th>        <th class=\"col_heading level0 col2\" >2</th>        <th class=\"col_heading level0 col3\" >3</th>        <th class=\"col_heading level0 col4\" >4</th>        <th class=\"col_heading level0 col5\" >5</th>        <th class=\"col_heading level0 col6\" >6</th>        <th class=\"col_heading level0 col7\" >7</th>        <th class=\"col_heading level0 col8\" >8</th>    </tr></thead><tbody>\n",
       "                <tr>\n",
       "                        <th id=\"T_95470_level0_row0\" class=\"row_heading level0 row0\" >media</th>\n",
       "                        <td id=\"T_95470_row0_col0\" class=\"data row0 col0\" >870</td>\n",
       "                        <td id=\"T_95470_row0_col1\" class=\"data row0 col1\" >870</td>\n",
       "                        <td id=\"T_95470_row0_col2\" class=\"data row0 col2\" >863</td>\n",
       "                        <td id=\"T_95470_row0_col3\" class=\"data row0 col3\" >511</td>\n",
       "                        <td id=\"T_95470_row0_col4\" class=\"data row0 col4\" >870</td>\n",
       "                        <td id=\"T_95470_row0_col5\" class=\"data row0 col5\" >842</td>\n",
       "                        <td id=\"T_95470_row0_col6\" class=\"data row0 col6\" >770</td>\n",
       "                        <td id=\"T_95470_row0_col7\" class=\"data row0 col7\" >900</td>\n",
       "                        <td id=\"T_95470_row0_col8\" class=\"data row0 col8\" >870</td>\n",
       "            </tr>\n",
       "    </tbody></table>"
      ],
      "text/plain": [
       "<pandas.io.formats.style.Styler at 0x7f597941ee50>"
      ]
     },
     "metadata": {},
     "output_type": "display_data"
    }
   ],
   "source": [
    "ld_df = pd.read_csv(os.path.join(DIR_DATA, 'livedoor&text=text.csv'))#.head(10)\n",
    "\n",
    "# 概観\n",
    "print(ld_df.shape)\n",
    "display(ld_df.head())\n",
    "display(pd.DataFrame(ld_df.media.value_counts()).sort_index().T.style.background_gradient('Blues', axis=1))"
   ]
  },
  {
   "cell_type": "code",
   "execution_count": 3,
   "id": "f6855feb",
   "metadata": {},
   "outputs": [
    {
     "data": {
      "text/html": [
       "<style  type=\"text/css\" >\n",
       "#T_b7cf0_row0_col0{\n",
       "            background-color:  #084a91;\n",
       "            color:  #f1f1f1;\n",
       "        }#T_b7cf0_row0_col1,#T_b7cf0_row0_col5{\n",
       "            background-color:  #09529d;\n",
       "            color:  #f1f1f1;\n",
       "        }#T_b7cf0_row0_col2{\n",
       "            background-color:  #08509b;\n",
       "            color:  #f1f1f1;\n",
       "        }#T_b7cf0_row0_col3{\n",
       "            background-color:  #f7fbff;\n",
       "            color:  #000000;\n",
       "        }#T_b7cf0_row0_col4{\n",
       "            background-color:  #105ba4;\n",
       "            color:  #f1f1f1;\n",
       "        }#T_b7cf0_row0_col6{\n",
       "            background-color:  #2d7dbb;\n",
       "            color:  #000000;\n",
       "        }#T_b7cf0_row0_col7{\n",
       "            background-color:  #08306b;\n",
       "            color:  #f1f1f1;\n",
       "        }#T_b7cf0_row0_col8{\n",
       "            background-color:  #084990;\n",
       "            color:  #f1f1f1;\n",
       "        }</style><table id=\"T_b7cf0_\" ><thead>    <tr>        <th class=\"index_name level0\" >0</th>        <th class=\"col_heading level0 col0\" >0</th>        <th class=\"col_heading level0 col1\" >1</th>        <th class=\"col_heading level0 col2\" >2</th>        <th class=\"col_heading level0 col3\" >3</th>        <th class=\"col_heading level0 col4\" >4</th>        <th class=\"col_heading level0 col5\" >5</th>        <th class=\"col_heading level0 col6\" >6</th>        <th class=\"col_heading level0 col7\" >7</th>        <th class=\"col_heading level0 col8\" >8</th>    </tr></thead><tbody>\n",
       "                <tr>\n",
       "                        <th id=\"T_b7cf0_level0_row0\" class=\"row_heading level0 row0\" >1</th>\n",
       "                        <td id=\"T_b7cf0_row0_col0\" class=\"data row0 col0\" >698</td>\n",
       "                        <td id=\"T_b7cf0_row0_col1\" class=\"data row0 col1\" >687</td>\n",
       "                        <td id=\"T_b7cf0_row0_col2\" class=\"data row0 col2\" >690</td>\n",
       "                        <td id=\"T_b7cf0_row0_col3\" class=\"data row0 col3\" >392</td>\n",
       "                        <td id=\"T_b7cf0_row0_col4\" class=\"data row0 col4\" >675</td>\n",
       "                        <td id=\"T_b7cf0_row0_col5\" class=\"data row0 col5\" >688</td>\n",
       "                        <td id=\"T_b7cf0_row0_col6\" class=\"data row0 col6\" >632</td>\n",
       "                        <td id=\"T_b7cf0_row0_col7\" class=\"data row0 col7\" >732</td>\n",
       "                        <td id=\"T_b7cf0_row0_col8\" class=\"data row0 col8\" >699</td>\n",
       "            </tr>\n",
       "    </tbody></table>"
      ],
      "text/plain": [
       "<pandas.io.formats.style.Styler at 0x7f5921d87ad0>"
      ]
     },
     "metadata": {},
     "output_type": "display_data"
    },
    {
     "data": {
      "text/html": [
       "<style  type=\"text/css\" >\n",
       "#T_791b5_row0_col0{\n",
       "            background-color:  #2f7fbc;\n",
       "            color:  #000000;\n",
       "        }#T_791b5_row0_col1{\n",
       "            background-color:  #0e59a2;\n",
       "            color:  #f1f1f1;\n",
       "        }#T_791b5_row0_col2{\n",
       "            background-color:  #2c7cba;\n",
       "            color:  #000000;\n",
       "        }#T_791b5_row0_col3{\n",
       "            background-color:  #f7fbff;\n",
       "            color:  #000000;\n",
       "        }#T_791b5_row0_col4{\n",
       "            background-color:  #08306b;\n",
       "            color:  #f1f1f1;\n",
       "        }#T_791b5_row0_col5{\n",
       "            background-color:  #7cb7da;\n",
       "            color:  #000000;\n",
       "        }#T_791b5_row0_col6{\n",
       "            background-color:  #c6dbef;\n",
       "            color:  #000000;\n",
       "        }#T_791b5_row0_col7{\n",
       "            background-color:  #3c8cc3;\n",
       "            color:  #000000;\n",
       "        }#T_791b5_row0_col8{\n",
       "            background-color:  #3282be;\n",
       "            color:  #000000;\n",
       "        }</style><table id=\"T_791b5_\" ><thead>    <tr>        <th class=\"index_name level0\" >0</th>        <th class=\"col_heading level0 col0\" >0</th>        <th class=\"col_heading level0 col1\" >1</th>        <th class=\"col_heading level0 col2\" >2</th>        <th class=\"col_heading level0 col3\" >3</th>        <th class=\"col_heading level0 col4\" >4</th>        <th class=\"col_heading level0 col5\" >5</th>        <th class=\"col_heading level0 col6\" >6</th>        <th class=\"col_heading level0 col7\" >7</th>        <th class=\"col_heading level0 col8\" >8</th>    </tr></thead><tbody>\n",
       "                <tr>\n",
       "                        <th id=\"T_791b5_level0_row0\" class=\"row_heading level0 row0\" >1</th>\n",
       "                        <td id=\"T_791b5_row0_col0\" class=\"data row0 col0\" >172</td>\n",
       "                        <td id=\"T_791b5_row0_col1\" class=\"data row0 col1\" >183</td>\n",
       "                        <td id=\"T_791b5_row0_col2\" class=\"data row0 col2\" >173</td>\n",
       "                        <td id=\"T_791b5_row0_col3\" class=\"data row0 col3\" >119</td>\n",
       "                        <td id=\"T_791b5_row0_col4\" class=\"data row0 col4\" >195</td>\n",
       "                        <td id=\"T_791b5_row0_col5\" class=\"data row0 col5\" >154</td>\n",
       "                        <td id=\"T_791b5_row0_col6\" class=\"data row0 col6\" >138</td>\n",
       "                        <td id=\"T_791b5_row0_col7\" class=\"data row0 col7\" >168</td>\n",
       "                        <td id=\"T_791b5_row0_col8\" class=\"data row0 col8\" >171</td>\n",
       "            </tr>\n",
       "    </tbody></table>"
      ],
      "text/plain": [
       "<pandas.io.formats.style.Styler at 0x7f598ddc9fd0>"
      ]
     },
     "metadata": {},
     "output_type": "display_data"
    }
   ],
   "source": [
    "# get torch dataset\n",
    "dataset = LivedoorDataset(ld_df)\n",
    "\n",
    "# split dataset\n",
    "TEST_RATE = 0.20\n",
    "n = len(dataset)\n",
    "n_test = int(np.floor(n * TEST_RATE))\n",
    "n_train = int(n - n_test)\n",
    "train_dataset, test_dataset = \\\n",
    "        random_split(dataset, [n_train, n_test], generator=torch.Generator().manual_seed(12345))\n",
    "\n",
    "def get_subset_label_balance(dataset):\n",
    "    c = Counter([l for l, _ in dataset])\n",
    "    return pd.DataFrame(c.most_common()).set_index(0).sort_index().T\n",
    "\n",
    "display(get_subset_label_balance(train_dataset).style.background_gradient('Blues', axis=1))\n",
    "display(get_subset_label_balance(test_dataset).style.background_gradient('Blues', axis=1))"
   ]
  },
  {
   "cell_type": "code",
   "execution_count": 4,
   "id": "50a5ef48",
   "metadata": {},
   "outputs": [
    {
     "name": "stdout",
     "output_type": "stream",
     "text": [
      "create: /tmp/work/livedoor/bin/train_subset.pkl\n",
      "create: /tmp/work/livedoor/bin/test_subset.pkl\n"
     ]
    }
   ],
   "source": [
    "splits = ['train', 'test']\n",
    "datasets = [train_dataset, test_dataset]\n",
    "\n",
    "for split, dataset in zip(splits, datasets):\n",
    "    file = os.path.join(DIR_BIN, f'{split}_subset.pkl')\n",
    "    if os.path.isfile(file):\n",
    "        print(f'file exists: {file}')\n",
    "        pass\n",
    "    else:\n",
    "        print(f'create: {file}')\n",
    "        with open(file, 'wb') as f:\n",
    "            pickle.dump(dataset, f)"
   ]
  }
 ],
 "metadata": {
  "kernelspec": {
   "display_name": "Python 3",
   "language": "python",
   "name": "python3"
  },
  "language_info": {
   "codemirror_mode": {
    "name": "ipython",
    "version": 3
   },
   "file_extension": ".py",
   "mimetype": "text/x-python",
   "name": "python",
   "nbconvert_exporter": "python",
   "pygments_lexer": "ipython3",
   "version": "3.7.5"
  }
 },
 "nbformat": 4,
 "nbformat_minor": 5
}
