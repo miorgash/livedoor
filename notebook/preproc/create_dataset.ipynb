{
 "cells": [
  {
   "cell_type": "markdown",
   "id": "2712f6bf",
   "metadata": {},
   "source": [
    "# lib"
   ]
  },
  {
   "cell_type": "code",
   "execution_count": 1,
   "id": "87f86dbb",
   "metadata": {},
   "outputs": [],
   "source": [
    "# primitive\n",
    "import sys\n",
    "import os\n",
    "import pandas as pd\n",
    "\n",
    "# handmade libs\n",
    "src = '../../src'\n",
    "if src not in sys.path: sys.path.append(src)\n",
    "from const import *"
   ]
  },
  {
   "cell_type": "markdown",
   "id": "93fd3178",
   "metadata": {},
   "source": [
    "# funcs"
   ]
  },
  {
   "cell_type": "code",
   "execution_count": 2,
   "id": "a294abc4",
   "metadata": {},
   "outputs": [],
   "source": [
    "# For livedoor news corpus dataset\n",
    "def get_files(dir_path):\n",
    "    ngs = ['LICENSE.txt']\n",
    "    files = [f for f in os.listdir(dir_path) if os.path.isfile(os.path.join(dir_path, f)) and f not in ngs]\n",
    "    return files\n",
    "\n",
    "def get_lines(file_path):\n",
    "    with open(file_path, 'r') as f:\n",
    "        lines = [l.strip() for l in f.readlines()]\n",
    "    return [l for l in lines if len(l) > 0]"
   ]
  },
  {
   "cell_type": "markdown",
   "id": "1c5776d0",
   "metadata": {},
   "source": [
    "# proc"
   ]
  },
  {
   "cell_type": "code",
   "execution_count": 3,
   "id": "91f68699",
   "metadata": {
    "scrolled": true
   },
   "outputs": [
    {
     "name": "stdout",
     "output_type": "stream",
     "text": [
      "(7366, 2)\n"
     ]
    },
    {
     "data": {
      "text/html": [
       "<div>\n",
       "<style scoped>\n",
       "    .dataframe tbody tr th:only-of-type {\n",
       "        vertical-align: middle;\n",
       "    }\n",
       "\n",
       "    .dataframe tbody tr th {\n",
       "        vertical-align: top;\n",
       "    }\n",
       "\n",
       "    .dataframe thead th {\n",
       "        text-align: right;\n",
       "    }\n",
       "</style>\n",
       "<table border=\"1\" class=\"dataframe\">\n",
       "  <thead>\n",
       "    <tr style=\"text-align: right;\">\n",
       "      <th></th>\n",
       "      <th>media</th>\n",
       "      <th>text</th>\n",
       "    </tr>\n",
       "  </thead>\n",
       "  <tbody>\n",
       "    <tr>\n",
       "      <th>0</th>\n",
       "      <td>4</td>\n",
       "      <td>映画『鍵泥棒のメソッド』が、16日より開催中の第15回上海国際映画祭のコンペティション部門に...</td>\n",
       "    </tr>\n",
       "    <tr>\n",
       "      <th>1</th>\n",
       "      <td>4</td>\n",
       "      <td>監督・蜷川実花×主演・沢尻エリカで贈る『ヘルタースケルター』。本作のテーマソングが、浜崎あゆ...</td>\n",
       "    </tr>\n",
       "    <tr>\n",
       "      <th>2</th>\n",
       "      <td>4</td>\n",
       "      <td>「スーパー・ヒーローが強いのはもちろんだが、実際にはどれほどの実力なのだろうか？」という疑問...</td>\n",
       "    </tr>\n",
       "    <tr>\n",
       "      <th>3</th>\n",
       "      <td>4</td>\n",
       "      <td>自殺か？狂言か？──パニックとなった群衆が路上で見守る中、高層ホテルから飛び降りようとする一...</td>\n",
       "    </tr>\n",
       "    <tr>\n",
       "      <th>4</th>\n",
       "      <td>4</td>\n",
       "      <td>元・お嬢様の勅使河原 栄華（てしがわら えいか）は、父の事業の失敗で一転して貧乏人になるが、...</td>\n",
       "    </tr>\n",
       "  </tbody>\n",
       "</table>\n",
       "</div>"
      ],
      "text/plain": [
       "   media                                               text\n",
       "0      4  映画『鍵泥棒のメソッド』が、16日より開催中の第15回上海国際映画祭のコンペティション部門に...\n",
       "1      4  監督・蜷川実花×主演・沢尻エリカで贈る『ヘルタースケルター』。本作のテーマソングが、浜崎あゆ...\n",
       "2      4  「スーパー・ヒーローが強いのはもちろんだが、実際にはどれほどの実力なのだろうか？」という疑問...\n",
       "3      4  自殺か？狂言か？──パニックとなった群衆が路上で見守る中、高層ホテルから飛び降りようとする一...\n",
       "4      4  元・お嬢様の勅使河原 栄華（てしがわら えいか）は、父の事業の失敗で一転して貧乏人になるが、..."
      ]
     },
     "metadata": {},
     "output_type": "display_data"
    },
    {
     "data": {
      "text/html": [
       "<style  type=\"text/css\" >\n",
       "#T_dd95e_row0_col0{\n",
       "            background-color:  #08306b;\n",
       "            color:  #f1f1f1;\n",
       "        }#T_dd95e_row0_col1{\n",
       "            background-color:  #3787c0;\n",
       "            color:  #000000;\n",
       "        }#T_dd95e_row0_col2,#T_dd95e_row0_col3,#T_dd95e_row0_col4,#T_dd95e_row0_col8{\n",
       "            background-color:  #084488;\n",
       "            color:  #f1f1f1;\n",
       "        }#T_dd95e_row0_col5{\n",
       "            background-color:  #f7fbff;\n",
       "            color:  #000000;\n",
       "        }#T_dd95e_row0_col6{\n",
       "            background-color:  #08488e;\n",
       "            color:  #f1f1f1;\n",
       "        }#T_dd95e_row0_col7{\n",
       "            background-color:  #0c56a0;\n",
       "            color:  #f1f1f1;\n",
       "        }</style><table id=\"T_dd95e_\" ><thead>    <tr>        <th class=\"blank level0\" ></th>        <th class=\"col_heading level0 col0\" >0</th>        <th class=\"col_heading level0 col1\" >1</th>        <th class=\"col_heading level0 col2\" >2</th>        <th class=\"col_heading level0 col3\" >3</th>        <th class=\"col_heading level0 col4\" >4</th>        <th class=\"col_heading level0 col5\" >5</th>        <th class=\"col_heading level0 col6\" >6</th>        <th class=\"col_heading level0 col7\" >7</th>        <th class=\"col_heading level0 col8\" >8</th>    </tr></thead><tbody>\n",
       "                <tr>\n",
       "                        <th id=\"T_dd95e_level0_row0\" class=\"row_heading level0 row0\" >media</th>\n",
       "                        <td id=\"T_dd95e_row0_col0\" class=\"data row0 col0\" >899</td>\n",
       "                        <td id=\"T_dd95e_row0_col1\" class=\"data row0 col1\" >770</td>\n",
       "                        <td id=\"T_dd95e_row0_col2\" class=\"data row0 col2\" >870</td>\n",
       "                        <td id=\"T_dd95e_row0_col3\" class=\"data row0 col3\" >870</td>\n",
       "                        <td id=\"T_dd95e_row0_col4\" class=\"data row0 col4\" >870</td>\n",
       "                        <td id=\"T_dd95e_row0_col5\" class=\"data row0 col5\" >511</td>\n",
       "                        <td id=\"T_dd95e_row0_col6\" class=\"data row0 col6\" >864</td>\n",
       "                        <td id=\"T_dd95e_row0_col7\" class=\"data row0 col7\" >842</td>\n",
       "                        <td id=\"T_dd95e_row0_col8\" class=\"data row0 col8\" >870</td>\n",
       "            </tr>\n",
       "    </tbody></table>"
      ],
      "text/plain": [
       "<pandas.io.formats.style.Styler at 0x40a0caf890>"
      ]
     },
     "metadata": {},
     "output_type": "display_data"
    },
    {
     "name": "stdout",
     "output_type": "stream",
     "text": [
      "file created\n"
     ]
    }
   ],
   "source": [
    "# dataset\n",
    "p = '/data/livedoor/text/'\n",
    "medium = [d for d in os.listdir(p) if os.path.isdir(os.path.join(p, d))]\n",
    "\n",
    "dataset = []\n",
    "\n",
    "for media in medium:\n",
    "    dir_path = os.path.join(p, media)\n",
    "    files = get_files(dir_path)\n",
    "    \n",
    "    for file in files:\n",
    "        \n",
    "        file_path = os.path.join(dir_path, file)\n",
    "        lines = get_lines(file_path)\n",
    "        \n",
    "        url, timestamp, title, text = lines[0], lines[1], lines[2], ''.join(lines[3:])\n",
    "        dataset.append((media, url, timestamp, title, text))\n",
    "\n",
    "dataset = pd.DataFrame(dataset, columns=['media', 'url', 'timestamp', 'title', 'text'])\n",
    "dataset = dataset[dataset.index!=6031].reset_index(drop=True)\n",
    "\n",
    "# for prediction\n",
    "dataset = dataset[['media', 'text']]\n",
    "\n",
    "# label を数値化\n",
    "itos = {i: s for i, s in enumerate(set(dataset['media']))}\n",
    "stoi = {s: i for i, s in itos.items()}\n",
    "dataset.loc[:, 'media'] = dataset['media'].map(stoi)\n",
    "\n",
    "# # tmp\n",
    "# dataset = dataset.sample(1234).reset_index(drop=True)\n",
    "\n",
    "# 概観\n",
    "print(dataset.shape)\n",
    "display(dataset.head())\n",
    "display(pd.DataFrame(dataset.media.value_counts()).sort_index().T.style.background_gradient('Blues', axis=1))\n",
    "\n",
    "# output\n",
    "f = os.path.join(ROOT, 'data', 'livedoor&text=text.csv')\n",
    "if not os.path.isfile(f):\n",
    "    dataset.to_csv(f, index=False)\n",
    "    print('file created')\n",
    "else:\n",
    "    print('file exists')"
   ]
  }
 ],
 "metadata": {
  "kernelspec": {
   "display_name": "Python 3",
   "language": "python",
   "name": "python3"
  },
  "language_info": {
   "codemirror_mode": {
    "name": "ipython",
    "version": 3
   },
   "file_extension": ".py",
   "mimetype": "text/x-python",
   "name": "python",
   "nbconvert_exporter": "python",
   "pygments_lexer": "ipython3",
   "version": "3.7.5"
  }
 },
 "nbformat": 4,
 "nbformat_minor": 5
}
