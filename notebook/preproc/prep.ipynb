{
 "cells": [
  {
   "cell_type": "code",
   "execution_count": 1,
   "metadata": {},
   "outputs": [],
   "source": [
    "import spacy\n",
    "import gensim\n",
    "import os\n",
    "import pandas as pd\n",
    "from gensim.models import KeyedVectors\n",
    "from joblib import Parallel, delayed\n",
    "import itertools\n",
    "import numpy as np\n",
    "import pickle"
   ]
  },
  {
   "cell_type": "markdown",
   "metadata": {},
   "source": [
    "construct dataset"
   ]
  },
  {
   "cell_type": "code",
   "execution_count": 2,
   "metadata": {
    "scrolled": true
   },
   "outputs": [
    {
     "data": {
      "text/html": [
       "<div>\n",
       "<style scoped>\n",
       "    .dataframe tbody tr th:only-of-type {\n",
       "        vertical-align: middle;\n",
       "    }\n",
       "\n",
       "    .dataframe tbody tr th {\n",
       "        vertical-align: top;\n",
       "    }\n",
       "\n",
       "    .dataframe thead th {\n",
       "        text-align: right;\n",
       "    }\n",
       "</style>\n",
       "<table border=\"1\" class=\"dataframe\">\n",
       "  <thead>\n",
       "    <tr style=\"text-align: right;\">\n",
       "      <th></th>\n",
       "      <th>media</th>\n",
       "      <th>url</th>\n",
       "      <th>timestamp</th>\n",
       "      <th>title</th>\n",
       "      <th>text</th>\n",
       "    </tr>\n",
       "  </thead>\n",
       "  <tbody>\n",
       "    <tr>\n",
       "      <th>0</th>\n",
       "      <td>livedoor-homme</td>\n",
       "      <td>http://news.livedoor.com/article/detail/5274747/</td>\n",
       "      <td>2011-01-25T09:00:00+0900</td>\n",
       "      <td>プロに聞く“合コンの極意”（後編）　合コンアナリスト水谷麻衣に聞く、勝ち合コンの鉄則とは</td>\n",
       "      <td>前回の「プロに聞く“合コンの極意”（前編）　合コンアナリスト水谷麻衣に聞く、合コンの勝ちパタ...</td>\n",
       "    </tr>\n",
       "    <tr>\n",
       "      <th>1</th>\n",
       "      <td>livedoor-homme</td>\n",
       "      <td>http://news.livedoor.com/article/detail/5736745/</td>\n",
       "      <td>2011-09-02T11:00:00+0900</td>\n",
       "      <td>「会社の人が必要以上にプライベートにも関わってくる」- 辛口説教部屋 vol.14</td>\n",
       "      <td>「3年で転職は早すぎる？」「将来が見えない」「仕事が面白くない」・・・若手社会人の悩みは尽き...</td>\n",
       "    </tr>\n",
       "    <tr>\n",
       "      <th>2</th>\n",
       "      <td>livedoor-homme</td>\n",
       "      <td>http://news.livedoor.com/article/detail/5825784/</td>\n",
       "      <td>2011-10-21T11:00:00+0900</td>\n",
       "      <td>年収1000万円のビジネスマンに聞いた「自分の商品価値を高めるための努力」 - 年収1000...</td>\n",
       "      <td>こんにちは、「ビズリーチ年収1000万円研究所」所長の佐藤和男です。この研究所では、年収10...</td>\n",
       "    </tr>\n",
       "    <tr>\n",
       "      <th>3</th>\n",
       "      <td>livedoor-homme</td>\n",
       "      <td>http://news.livedoor.com/article/detail/5642391/</td>\n",
       "      <td>2011-06-20T09:30:00+0900</td>\n",
       "      <td>Hennessy（ヘネシー）×livedoorブロガーイベント開催</td>\n",
       "      <td>6月7日、表参道のカフェバー「MERCER CAFE TERRACE HOUSE」でHenn...</td>\n",
       "    </tr>\n",
       "    <tr>\n",
       "      <th>4</th>\n",
       "      <td>livedoor-homme</td>\n",
       "      <td>http://news.livedoor.com/article/detail/5769394/</td>\n",
       "      <td>2011-11-18T11:00:00+0900</td>\n",
       "      <td>「新入社員との間に、溝が出来てしまって悩んでいます」 - 辛口説教部屋 vol.47</td>\n",
       "      <td>「3年で転職は早すぎる？」「将来が見えない」「仕事が面白くない」・・・若手社会人の悩みは尽き...</td>\n",
       "    </tr>\n",
       "  </tbody>\n",
       "</table>\n",
       "</div>"
      ],
      "text/plain": [
       "            media                                               url  \\\n",
       "0  livedoor-homme  http://news.livedoor.com/article/detail/5274747/   \n",
       "1  livedoor-homme  http://news.livedoor.com/article/detail/5736745/   \n",
       "2  livedoor-homme  http://news.livedoor.com/article/detail/5825784/   \n",
       "3  livedoor-homme  http://news.livedoor.com/article/detail/5642391/   \n",
       "4  livedoor-homme  http://news.livedoor.com/article/detail/5769394/   \n",
       "\n",
       "                  timestamp  \\\n",
       "0  2011-01-25T09:00:00+0900   \n",
       "1  2011-09-02T11:00:00+0900   \n",
       "2  2011-10-21T11:00:00+0900   \n",
       "3  2011-06-20T09:30:00+0900   \n",
       "4  2011-11-18T11:00:00+0900   \n",
       "\n",
       "                                               title  \\\n",
       "0       プロに聞く“合コンの極意”（後編）　合コンアナリスト水谷麻衣に聞く、勝ち合コンの鉄則とは   \n",
       "1          「会社の人が必要以上にプライベートにも関わってくる」- 辛口説教部屋 vol.14   \n",
       "2  年収1000万円のビジネスマンに聞いた「自分の商品価値を高めるための努力」 - 年収1000...   \n",
       "3                  Hennessy（ヘネシー）×livedoorブロガーイベント開催   \n",
       "4         「新入社員との間に、溝が出来てしまって悩んでいます」 - 辛口説教部屋 vol.47   \n",
       "\n",
       "                                                text  \n",
       "0  前回の「プロに聞く“合コンの極意”（前編）　合コンアナリスト水谷麻衣に聞く、合コンの勝ちパタ...  \n",
       "1  「3年で転職は早すぎる？」「将来が見えない」「仕事が面白くない」・・・若手社会人の悩みは尽き...  \n",
       "2  こんにちは、「ビズリーチ年収1000万円研究所」所長の佐藤和男です。この研究所では、年収10...  \n",
       "3  6月7日、表参道のカフェバー「MERCER CAFE TERRACE HOUSE」でHenn...  \n",
       "4  「3年で転職は早すぎる？」「将来が見えない」「仕事が面白くない」・・・若手社会人の悩みは尽き...  "
      ]
     },
     "execution_count": 2,
     "metadata": {},
     "output_type": "execute_result"
    }
   ],
   "source": [
    "def get_files(dir_path):\n",
    "    ngs = ['LICENSE.txt']\n",
    "    files = [f for f in os.listdir(dir_path) if os.path.isfile(os.path.join(dir_path, f)) and f not in ngs]\n",
    "    return files\n",
    "\n",
    "def get_lines(file_path):\n",
    "    with open(file_path, 'r') as f:\n",
    "        lines = [l.strip() for l in f.readlines()]\n",
    "    return [l for l in lines if len(l) > 0]\n",
    "\n",
    "p = '/data/livedoor/text/'\n",
    "medium = [d for d in os.listdir(p) if os.path.isdir(os.path.join(p, d))]\n",
    "\n",
    "dataset = []\n",
    "\n",
    "for media in medium:\n",
    "    dir_path = os.path.join(p, media)\n",
    "    files = get_files(dir_path)\n",
    "    \n",
    "    for file in files:\n",
    "        \n",
    "        file_path = os.path.join(dir_path, file)\n",
    "        lines = get_lines(file_path)\n",
    "        \n",
    "        url, timestamp, title, text = lines[0], lines[1], lines[2], ''.join(lines[3:])\n",
    "        dataset.append((media, url, timestamp, title, text))\n",
    "\n",
    "dataset = pd.DataFrame(dataset, columns=['media', 'url', 'timestamp', 'title', 'text'])\n",
    "dataset = dataset[dataset.index!=6031]\n",
    "dataset.head()"
   ]
  },
  {
   "cell_type": "markdown",
   "metadata": {},
   "source": [
    "tokenize"
   ]
  },
  {
   "cell_type": "code",
   "execution_count": 3,
   "metadata": {},
   "outputs": [],
   "source": [
    "nlp = spacy.load('ja_ginza')\n",
    "\n",
    "def split_list(ls, step):\n",
    "    n = len(ls)\n",
    "    for i in range(0, n, step):\n",
    "        yield ls[i:i+step]\n",
    "\n",
    "def tokenize(batch):\n",
    "    return [[str(token) for token in nlp(text)] for text in batch]"
   ]
  },
  {
   "cell_type": "code",
   "execution_count": 4,
   "metadata": {},
   "outputs": [
    {
     "name": "stdout",
     "output_type": "stream",
     "text": [
      "CPU times: user 1.82 s, sys: 406 ms, total: 2.23 s\n",
      "Wall time: 57.4 s\n"
     ]
    }
   ],
   "source": [
    "%%time\n",
    "ls = list(split_list(dataset['text'].to_list(), 100))\n",
    "r = Parallel(n_jobs=-1)([delayed(tokenize)(batch) for batch in ls])\n",
    "r = list(itertools.chain.from_iterable(r))\n",
    "dataset.loc[:, 'tokens'] = r\n",
    "\n",
    "# p2.xlarge\n",
    "# CPU times: user 2.43 s, sys: 378 ms, total: 2.8 s\n",
    "# Wall time: 4min 50s\n",
    "\n",
    "# m5.4xlarge\n",
    "# CPU times: user 1.88 s, sys: 402 ms, total: 2.29 s\n",
    "# Wall time: 58.4 s"
   ]
  },
  {
   "cell_type": "markdown",
   "metadata": {},
   "source": [
    "embedding"
   ]
  },
  {
   "cell_type": "code",
   "execution_count": 5,
   "metadata": {},
   "outputs": [
    {
     "name": "stdout",
     "output_type": "stream",
     "text": [
      "CPU times: user 11min 59s, sys: 8.45 s, total: 12min 8s\n",
      "Wall time: 12min 8s\n"
     ]
    },
    {
     "data": {
      "text/plain": [
       "<gensim.models.keyedvectors.Word2VecKeyedVectors at 0x7f75fcdada10>"
      ]
     },
     "execution_count": 5,
     "metadata": {},
     "output_type": "execute_result"
    }
   ],
   "source": [
    "%%time\n",
    "wv = KeyedVectors.load_word2vec_format('/data/chive/chive-1.2-mc5/chive-1.2-mc5.txt')\n",
    "wv\n",
    "# p2.xlarge\n",
    "# CPU times: user 14min 52s, sys: 10.3 s, total: 15min 3s\n",
    "# Wall time: 15min 3s\n",
    "\n",
    "# m5.4xlarge\n",
    "# CPU times: user 12min 26s, sys: 8.34 s, total: 12min 35s\n",
    "# Wall time: 12min 35s"
   ]
  },
  {
   "cell_type": "code",
   "execution_count": 6,
   "metadata": {
    "scrolled": true
   },
   "outputs": [
    {
     "name": "stdout",
     "output_type": "stream",
     "text": [
      "CPU times: user 1min 43s, sys: 21.9 s, total: 2min 5s\n",
      "Wall time: 2min 5s\n"
     ]
    },
    {
     "data": {
      "text/html": [
       "<div>\n",
       "<style scoped>\n",
       "    .dataframe tbody tr th:only-of-type {\n",
       "        vertical-align: middle;\n",
       "    }\n",
       "\n",
       "    .dataframe tbody tr th {\n",
       "        vertical-align: top;\n",
       "    }\n",
       "\n",
       "    .dataframe thead th {\n",
       "        text-align: right;\n",
       "    }\n",
       "</style>\n",
       "<table border=\"1\" class=\"dataframe\">\n",
       "  <thead>\n",
       "    <tr style=\"text-align: right;\">\n",
       "      <th></th>\n",
       "      <th>media</th>\n",
       "      <th>url</th>\n",
       "      <th>timestamp</th>\n",
       "      <th>title</th>\n",
       "      <th>text</th>\n",
       "      <th>tokens</th>\n",
       "      <th>embeddings</th>\n",
       "    </tr>\n",
       "  </thead>\n",
       "  <tbody>\n",
       "    <tr>\n",
       "      <th>0</th>\n",
       "      <td>livedoor-homme</td>\n",
       "      <td>http://news.livedoor.com/article/detail/5274747/</td>\n",
       "      <td>2011-01-25T09:00:00+0900</td>\n",
       "      <td>プロに聞く“合コンの極意”（後編）　合コンアナリスト水谷麻衣に聞く、勝ち合コンの鉄則とは</td>\n",
       "      <td>前回の「プロに聞く“合コンの極意”（前編）　合コンアナリスト水谷麻衣に聞く、合コンの勝ちパタ...</td>\n",
       "      <td>[前回, の, 「, プロ, に, 聞く, “, 合コン, の, 極意, ”, （, 前編,...</td>\n",
       "      <td>[[-0.111276, -0.047093, -0.026511, 0.046474, -...</td>\n",
       "    </tr>\n",
       "    <tr>\n",
       "      <th>1</th>\n",
       "      <td>livedoor-homme</td>\n",
       "      <td>http://news.livedoor.com/article/detail/5736745/</td>\n",
       "      <td>2011-09-02T11:00:00+0900</td>\n",
       "      <td>「会社の人が必要以上にプライベートにも関わってくる」- 辛口説教部屋 vol.14</td>\n",
       "      <td>「3年で転職は早すぎる？」「将来が見えない」「仕事が面白くない」・・・若手社会人の悩みは尽き...</td>\n",
       "      <td>[「, 3, 年, で, 転職, は, 早, すぎる, ？, 」, 「, 将来, が, 見え...</td>\n",
       "      <td>[[0.017996, 0.079715, 0.094203, -0.175814, 0.0...</td>\n",
       "    </tr>\n",
       "    <tr>\n",
       "      <th>2</th>\n",
       "      <td>livedoor-homme</td>\n",
       "      <td>http://news.livedoor.com/article/detail/5825784/</td>\n",
       "      <td>2011-10-21T11:00:00+0900</td>\n",
       "      <td>年収1000万円のビジネスマンに聞いた「自分の商品価値を高めるための努力」 - 年収1000...</td>\n",
       "      <td>こんにちは、「ビズリーチ年収1000万円研究所」所長の佐藤和男です。この研究所では、年収10...</td>\n",
       "      <td>[こんにちは, 、, 「, ビズリーチ, 年収, 1000万, 円, 研究, 所, 」, 所...</td>\n",
       "      <td>[[-0.018621, 0.027331, 0.092579, -0.038892, -0...</td>\n",
       "    </tr>\n",
       "    <tr>\n",
       "      <th>3</th>\n",
       "      <td>livedoor-homme</td>\n",
       "      <td>http://news.livedoor.com/article/detail/5642391/</td>\n",
       "      <td>2011-06-20T09:30:00+0900</td>\n",
       "      <td>Hennessy（ヘネシー）×livedoorブロガーイベント開催</td>\n",
       "      <td>6月7日、表参道のカフェバー「MERCER CAFE TERRACE HOUSE」でHenn...</td>\n",
       "      <td>[6, 月, 7, 日, 、, 表参道, の, カフェバー, 「, MERCER, CAFE...</td>\n",
       "      <td>[[0.097441, -0.056396, 0.064514, 0.004136, -0....</td>\n",
       "    </tr>\n",
       "    <tr>\n",
       "      <th>4</th>\n",
       "      <td>livedoor-homme</td>\n",
       "      <td>http://news.livedoor.com/article/detail/5769394/</td>\n",
       "      <td>2011-11-18T11:00:00+0900</td>\n",
       "      <td>「新入社員との間に、溝が出来てしまって悩んでいます」 - 辛口説教部屋 vol.47</td>\n",
       "      <td>「3年で転職は早すぎる？」「将来が見えない」「仕事が面白くない」・・・若手社会人の悩みは尽き...</td>\n",
       "      <td>[「, 3, 年, で, 転職, は, 早, すぎる, ？, 」, 「, 将来, が, 見え...</td>\n",
       "      <td>[[0.017996, 0.079715, 0.094203, -0.175814, 0.0...</td>\n",
       "    </tr>\n",
       "  </tbody>\n",
       "</table>\n",
       "</div>"
      ],
      "text/plain": [
       "            media                                               url  \\\n",
       "0  livedoor-homme  http://news.livedoor.com/article/detail/5274747/   \n",
       "1  livedoor-homme  http://news.livedoor.com/article/detail/5736745/   \n",
       "2  livedoor-homme  http://news.livedoor.com/article/detail/5825784/   \n",
       "3  livedoor-homme  http://news.livedoor.com/article/detail/5642391/   \n",
       "4  livedoor-homme  http://news.livedoor.com/article/detail/5769394/   \n",
       "\n",
       "                  timestamp  \\\n",
       "0  2011-01-25T09:00:00+0900   \n",
       "1  2011-09-02T11:00:00+0900   \n",
       "2  2011-10-21T11:00:00+0900   \n",
       "3  2011-06-20T09:30:00+0900   \n",
       "4  2011-11-18T11:00:00+0900   \n",
       "\n",
       "                                               title  \\\n",
       "0       プロに聞く“合コンの極意”（後編）　合コンアナリスト水谷麻衣に聞く、勝ち合コンの鉄則とは   \n",
       "1          「会社の人が必要以上にプライベートにも関わってくる」- 辛口説教部屋 vol.14   \n",
       "2  年収1000万円のビジネスマンに聞いた「自分の商品価値を高めるための努力」 - 年収1000...   \n",
       "3                  Hennessy（ヘネシー）×livedoorブロガーイベント開催   \n",
       "4         「新入社員との間に、溝が出来てしまって悩んでいます」 - 辛口説教部屋 vol.47   \n",
       "\n",
       "                                                text  \\\n",
       "0  前回の「プロに聞く“合コンの極意”（前編）　合コンアナリスト水谷麻衣に聞く、合コンの勝ちパタ...   \n",
       "1  「3年で転職は早すぎる？」「将来が見えない」「仕事が面白くない」・・・若手社会人の悩みは尽き...   \n",
       "2  こんにちは、「ビズリーチ年収1000万円研究所」所長の佐藤和男です。この研究所では、年収10...   \n",
       "3  6月7日、表参道のカフェバー「MERCER CAFE TERRACE HOUSE」でHenn...   \n",
       "4  「3年で転職は早すぎる？」「将来が見えない」「仕事が面白くない」・・・若手社会人の悩みは尽き...   \n",
       "\n",
       "                                              tokens  \\\n",
       "0  [前回, の, 「, プロ, に, 聞く, “, 合コン, の, 極意, ”, （, 前編,...   \n",
       "1  [「, 3, 年, で, 転職, は, 早, すぎる, ？, 」, 「, 将来, が, 見え...   \n",
       "2  [こんにちは, 、, 「, ビズリーチ, 年収, 1000万, 円, 研究, 所, 」, 所...   \n",
       "3  [6, 月, 7, 日, 、, 表参道, の, カフェバー, 「, MERCER, CAFE...   \n",
       "4  [「, 3, 年, で, 転職, は, 早, すぎる, ？, 」, 「, 将来, が, 見え...   \n",
       "\n",
       "                                          embeddings  \n",
       "0  [[-0.111276, -0.047093, -0.026511, 0.046474, -...  \n",
       "1  [[0.017996, 0.079715, 0.094203, -0.175814, 0.0...  \n",
       "2  [[-0.018621, 0.027331, 0.092579, -0.038892, -0...  \n",
       "3  [[0.097441, -0.056396, 0.064514, 0.004136, -0....  \n",
       "4  [[0.017996, 0.079715, 0.094203, -0.175814, 0.0...  "
      ]
     },
     "execution_count": 6,
     "metadata": {},
     "output_type": "execute_result"
    }
   ],
   "source": [
    "%%time\n",
    "def embed(tokens):\n",
    "    embeddings = []\n",
    "    for t in tokens:\n",
    "        try:\n",
    "            embeddings.append(list(wv[t]))\n",
    "        except:\n",
    "            pass\n",
    "    return embeddings\n",
    "\n",
    "# parquet は np.array 出力できないため list 形式\n",
    "dataset.loc[:, 'embeddings'] = dataset['tokens'].apply(lambda tokens: embed(tokens))\n",
    "dataset.head()\n",
    "\n",
    "# p2.xlarge\n",
    "# CPU times: user 2min 13s, sys: 27.8 s, total: 2min 41s\n",
    "# Wall time: 2min 41s"
   ]
  },
  {
   "cell_type": "code",
   "execution_count": 7,
   "metadata": {
    "scrolled": true
   },
   "outputs": [
    {
     "name": "stdout",
     "output_type": "stream",
     "text": [
      "CPU times: user 7min 20s, sys: 21.2 s, total: 7min 41s\n",
      "Wall time: 7min 39s\n"
     ]
    }
   ],
   "source": [
    "%%time\n",
    "# Kernel dies -> add memory\n",
    "dataset.to_parquet('./data/word_embeddings.parquet.gz', compression='gzip')"
   ]
  },
  {
   "cell_type": "code",
   "execution_count": null,
   "metadata": {},
   "outputs": [],
   "source": [
    "# %%time\n",
    "# # pickle\n",
    "# with open('./data/word_embeddings.pickle', 'wb') as f:\n",
    "#     pickle.dump(dataset, f)"
   ]
  },
  {
   "cell_type": "code",
   "execution_count": null,
   "metadata": {},
   "outputs": [],
   "source": [
    "# csv\n",
    "# corpus.to_csv('./data/word_embeddings.csv', index=False)\n",
    "# list を保持できないため csv 形式での保存は不採用"
   ]
  }
 ],
 "metadata": {
  "kernelspec": {
   "display_name": "Python 3",
   "language": "python",
   "name": "python3"
  },
  "language_info": {
   "codemirror_mode": {
    "name": "ipython",
    "version": 3
   },
   "file_extension": ".py",
   "mimetype": "text/x-python",
   "name": "python",
   "nbconvert_exporter": "python",
   "pygments_lexer": "ipython3",
   "version": "3.7.5"
  }
 },
 "nbformat": 4,
 "nbformat_minor": 4
}
