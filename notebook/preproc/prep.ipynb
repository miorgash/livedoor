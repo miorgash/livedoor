{
 "cells": [
  {
   "cell_type": "code",
   "execution_count": 1,
   "metadata": {},
   "outputs": [],
   "source": [
    "import spacy\n",
    "import gensim\n",
    "import os\n",
    "import pandas as pd\n",
    "from gensim.models import KeyedVectors\n",
    "from joblib import Parallel, delayed\n",
    "import itertools\n",
    "import numpy as np\n",
    "import pickle"
   ]
  },
  {
   "cell_type": "markdown",
   "metadata": {},
   "source": [
    "construct dataset"
   ]
  },
  {
   "cell_type": "code",
   "execution_count": 2,
   "metadata": {
    "scrolled": true
   },
   "outputs": [
    {
     "data": {
      "text/html": [
       "<div>\n",
       "<style scoped>\n",
       "    .dataframe tbody tr th:only-of-type {\n",
       "        vertical-align: middle;\n",
       "    }\n",
       "\n",
       "    .dataframe tbody tr th {\n",
       "        vertical-align: top;\n",
       "    }\n",
       "\n",
       "    .dataframe thead th {\n",
       "        text-align: right;\n",
       "    }\n",
       "</style>\n",
       "<table border=\"1\" class=\"dataframe\">\n",
       "  <thead>\n",
       "    <tr style=\"text-align: right;\">\n",
       "      <th></th>\n",
       "      <th>media</th>\n",
       "      <th>url</th>\n",
       "      <th>timestamp</th>\n",
       "      <th>title</th>\n",
       "      <th>text</th>\n",
       "    </tr>\n",
       "  </thead>\n",
       "  <tbody>\n",
       "    <tr>\n",
       "      <th>0</th>\n",
       "      <td>sports-watch</td>\n",
       "      <td>http://news.livedoor.com/article/detail/5985384/</td>\n",
       "      <td>2011-11-02T09:00:00+0900</td>\n",
       "      <td>石川遼、“異例の交際発表”めぐる水面下の攻防とは？</td>\n",
       "      <td>先月24日深夜、プロゴルファー・石川遼が、マネジメント会社「ケーアイ企画」を通し、一般女性と...</td>\n",
       "    </tr>\n",
       "    <tr>\n",
       "      <th>1</th>\n",
       "      <td>sports-watch</td>\n",
       "      <td>http://news.livedoor.com/article/detail/6819620/</td>\n",
       "      <td>2012-08-03T10:00:00+0900</td>\n",
       "      <td>柔道界の現状に、古賀氏「日本の場合は先生の圧力が強い」</td>\n",
       "      <td>ロンドン五輪における柔道男子は、ここまで金メダルを獲得できずにいる。2日も男子100kg級に...</td>\n",
       "    </tr>\n",
       "    <tr>\n",
       "      <th>2</th>\n",
       "      <td>sports-watch</td>\n",
       "      <td>http://news.livedoor.com/article/detail/5571206/</td>\n",
       "      <td>2011-05-20T02:00:00+0900</td>\n",
       "      <td>【Sports Watch】女性店員の契約選手侮辱ツイートでアディダスが謝罪</td>\n",
       "      <td>ヴァンフォーレ甲府のFWで、アディダス契約選手の一人＝ハーフナー・マイクが、18日に入籍を発...</td>\n",
       "    </tr>\n",
       "    <tr>\n",
       "      <th>3</th>\n",
       "      <td>sports-watch</td>\n",
       "      <td>http://news.livedoor.com/article/detail/4970500/</td>\n",
       "      <td>2010-08-27T07:25:00+0900</td>\n",
       "      <td>【Sports Watch】スエマエの五輪後、前田は「人間不信になった感じ」</td>\n",
       "      <td>2008年、北京五輪の舞台で世界ランキング一位のペアから金星を挙げ、一躍その名を知らしめた女...</td>\n",
       "    </tr>\n",
       "    <tr>\n",
       "      <th>4</th>\n",
       "      <td>sports-watch</td>\n",
       "      <td>http://news.livedoor.com/article/detail/6158040/</td>\n",
       "      <td>2011-12-30T09:00:00+0900</td>\n",
       "      <td>天皇杯で敗れたチームのファン（？）、チケットを燃やす</td>\n",
       "      <td>29日に行なわれた第91回天皇杯全日本サッカー選手権大会は、J2のFC東京と京都サンガが決勝...</td>\n",
       "    </tr>\n",
       "  </tbody>\n",
       "</table>\n",
       "</div>"
      ],
      "text/plain": [
       "          media                                               url  \\\n",
       "0  sports-watch  http://news.livedoor.com/article/detail/5985384/   \n",
       "1  sports-watch  http://news.livedoor.com/article/detail/6819620/   \n",
       "2  sports-watch  http://news.livedoor.com/article/detail/5571206/   \n",
       "3  sports-watch  http://news.livedoor.com/article/detail/4970500/   \n",
       "4  sports-watch  http://news.livedoor.com/article/detail/6158040/   \n",
       "\n",
       "                  timestamp                                   title  \\\n",
       "0  2011-11-02T09:00:00+0900               石川遼、“異例の交際発表”めぐる水面下の攻防とは？   \n",
       "1  2012-08-03T10:00:00+0900             柔道界の現状に、古賀氏「日本の場合は先生の圧力が強い」   \n",
       "2  2011-05-20T02:00:00+0900  【Sports Watch】女性店員の契約選手侮辱ツイートでアディダスが謝罪   \n",
       "3  2010-08-27T07:25:00+0900  【Sports Watch】スエマエの五輪後、前田は「人間不信になった感じ」   \n",
       "4  2011-12-30T09:00:00+0900              天皇杯で敗れたチームのファン（？）、チケットを燃やす   \n",
       "\n",
       "                                                text  \n",
       "0  先月24日深夜、プロゴルファー・石川遼が、マネジメント会社「ケーアイ企画」を通し、一般女性と...  \n",
       "1  ロンドン五輪における柔道男子は、ここまで金メダルを獲得できずにいる。2日も男子100kg級に...  \n",
       "2  ヴァンフォーレ甲府のFWで、アディダス契約選手の一人＝ハーフナー・マイクが、18日に入籍を発...  \n",
       "3  2008年、北京五輪の舞台で世界ランキング一位のペアから金星を挙げ、一躍その名を知らしめた女...  \n",
       "4  29日に行なわれた第91回天皇杯全日本サッカー選手権大会は、J2のFC東京と京都サンガが決勝...  "
      ]
     },
     "execution_count": 2,
     "metadata": {},
     "output_type": "execute_result"
    }
   ],
   "source": [
    "def get_files(dir_path):\n",
    "    ngs = ['LICENSE.txt']\n",
    "    files = [f for f in os.listdir(dir_path) if os.path.isfile(os.path.join(dir_path, f)) and f not in ngs]\n",
    "    return files\n",
    "\n",
    "def get_lines(file_path):\n",
    "    with open(file_path, 'r') as f:\n",
    "        lines = [l.strip() for l in f.readlines()]\n",
    "    return [l for l in lines if len(l) > 0]\n",
    "\n",
    "p = '/data/livedoor/text/'\n",
    "medium = [d for d in os.listdir(p) if os.path.isdir(os.path.join(p, d))]\n",
    "\n",
    "dataset = []\n",
    "\n",
    "for media in medium:\n",
    "    dir_path = os.path.join(p, media)\n",
    "    files = get_files(dir_path)\n",
    "    \n",
    "    for file in files:\n",
    "        \n",
    "        file_path = os.path.join(dir_path, file)\n",
    "        lines = get_lines(file_path)\n",
    "        \n",
    "        url, timestamp, title, text = lines[0], lines[1], lines[2], ''.join(lines[3:])\n",
    "        dataset.append((media, url, timestamp, title, text))\n",
    "\n",
    "dataset = pd.DataFrame(dataset, columns=['media', 'url', 'timestamp', 'title', 'text'])\n",
    "dataset = dataset[dataset.index!=6031]\n",
    "dataset.head()"
   ]
  },
  {
   "cell_type": "markdown",
   "metadata": {},
   "source": [
    "tokenize"
   ]
  },
  {
   "cell_type": "code",
   "execution_count": 3,
   "metadata": {},
   "outputs": [],
   "source": [
    "nlp = spacy.load('ja_ginza')\n",
    "\n",
    "def split_list(ls, step):\n",
    "    n = len(ls)\n",
    "    for i in range(0, n, step):\n",
    "        yield ls[i:i+step]\n",
    "\n",
    "def tokenize(batch):\n",
    "    return [[str(token) for token in nlp(text)] for text in batch]"
   ]
  },
  {
   "cell_type": "code",
   "execution_count": 4,
   "metadata": {},
   "outputs": [
    {
     "name": "stdout",
     "output_type": "stream",
     "text": [
      "CPU times: user 1.88 s, sys: 336 ms, total: 2.22 s\n",
      "Wall time: 1min 52s\n"
     ]
    }
   ],
   "source": [
    "%%time\n",
    "ls = list(split_list(dataset['text'].to_list(), 100))\n",
    "r = Parallel(n_jobs=-1)([delayed(tokenize)(batch) for batch in ls])\n",
    "r = list(itertools.chain.from_iterable(r))\n",
    "dataset.loc[:, 'tokens'] = r\n",
    "# >>> CPU times: user 1.9 s, sys: 334 ms, total: 2.24 s\n",
    "# >>> Wall time: 1min 43s\n",
    "\n",
    "# dataset.loc[:, 'tokens'] = dataset['text'].apply(lambda x: [str(t) for t in nlp(x)])\n",
    "# >>> CPU times: user 23min 23s, sys: 10.5 s, total: 23min 33s\n",
    "# >>> Wall time: 23min 34s\n",
    "\n",
    "# dataset.loc[:, 'tokens'] = [[t.lemma_ for t in doc] for doc in nlp.pipe(dataset['text'], n_threads=-1)]\n",
    "# >>> CPU times: user 19min 56s, sys: 1min 44s, total: 21min 41s\n",
    "# >>> Wall time: 21min 41s"
   ]
  },
  {
   "cell_type": "markdown",
   "metadata": {},
   "source": [
    "embedding"
   ]
  },
  {
   "cell_type": "code",
   "execution_count": 5,
   "metadata": {},
   "outputs": [
    {
     "name": "stdout",
     "output_type": "stream",
     "text": [
      "CPU times: user 12min 21s, sys: 10.8 s, total: 12min 32s\n",
      "Wall time: 12min 32s\n"
     ]
    },
    {
     "data": {
      "text/plain": [
       "<gensim.models.keyedvectors.Word2VecKeyedVectors at 0x7f7bf936c290>"
      ]
     },
     "execution_count": 5,
     "metadata": {},
     "output_type": "execute_result"
    }
   ],
   "source": [
    "%%time\n",
    "wv = KeyedVectors.load_word2vec_format('/data/chive/chive-1.1-mc5-20200318.txt')\n",
    "wv"
   ]
  },
  {
   "cell_type": "code",
   "execution_count": null,
   "metadata": {
    "scrolled": true
   },
   "outputs": [],
   "source": [
    "%%time\n",
    "def embed(tokens):\n",
    "    embeddings = []\n",
    "    for t in tokens:\n",
    "        try:\n",
    "            embeddings.append(list(wv[t]))\n",
    "        except:\n",
    "            pass\n",
    "    return embeddings\n",
    "\n",
    "# parquet は np.array 出力できないため list 形式\n",
    "dataset.loc[:, 'embeddings'] = dataset['tokens'].apply(lambda tokens: embed(tokens))\n",
    "dataset.head()"
   ]
  },
  {
   "cell_type": "code",
   "execution_count": null,
   "metadata": {
    "scrolled": true
   },
   "outputs": [],
   "source": [
    "%%time\n",
    "# Kernel dies\n",
    "dataset.to_parquet('./data/word_embeddings.parquet.gz', compression='gzip', engine='fastparquet')"
   ]
  },
  {
   "cell_type": "code",
   "execution_count": 10,
   "metadata": {},
   "outputs": [],
   "source": [
    "%%time\n",
    "# pickle\n",
    "with open('./data/word_embeddings.pickle', 'wb') as f:\n",
    "    pickle.dump(dataset, f)"
   ]
  },
  {
   "cell_type": "code",
   "execution_count": null,
   "metadata": {},
   "outputs": [],
   "source": [
    "# csv\n",
    "# corpus.to_csv('./data/word_embeddings.csv', index=False)\n",
    "# list を保持できないため csv 形式での保存は不採用"
   ]
  }
 ],
 "metadata": {
  "kernelspec": {
   "display_name": "Python 3",
   "language": "python",
   "name": "python3"
  },
  "language_info": {
   "codemirror_mode": {
    "name": "ipython",
    "version": 3
   },
   "file_extension": ".py",
   "mimetype": "text/x-python",
   "name": "python",
   "nbconvert_exporter": "python",
   "pygments_lexer": "ipython3",
   "version": "3.7.5"
  }
 },
 "nbformat": 4,
 "nbformat_minor": 4
}
